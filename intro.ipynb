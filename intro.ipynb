{
 "cells": [
  {
   "cell_type": "code",
   "execution_count": 1,
   "metadata": {},
   "outputs": [],
   "source": [
    "import pandas as pd \n",
    "import torch"
   ]
  },
  {
   "cell_type": "code",
   "execution_count": 2,
   "metadata": {},
   "outputs": [],
   "source": [
    "#check the cpu and gpu version\n"
   ]
  },
  {
   "cell_type": "code",
   "execution_count": 3,
   "metadata": {},
   "outputs": [],
   "source": [
    "# Pytorch funcdamentals"
   ]
  },
  {
   "cell_type": "code",
   "execution_count": 4,
   "metadata": {},
   "outputs": [
    {
     "name": "stdout",
     "output_type": "stream",
     "text": [
      "2.4.1\n"
     ]
    }
   ],
   "source": [
    "print(torch.__version__)"
   ]
  },
  {
   "cell_type": "code",
   "execution_count": 5,
   "metadata": {},
   "outputs": [
    {
     "name": "stdout",
     "output_type": "stream",
     "text": [
      "2.4.1\n"
     ]
    }
   ],
   "source": [
    "print(torch.__version__)"
   ]
  },
  {
   "cell_type": "code",
   "execution_count": 6,
   "metadata": {},
   "outputs": [],
   "source": [
    "import numpy as np\n",
    "import pandas as pd\n",
    "import matplotlib.pyplot as plt\n",
    "import torch"
   ]
  },
  {
   "cell_type": "code",
   "execution_count": 7,
   "metadata": {},
   "outputs": [],
   "source": [
    "#cu111  cuda 11"
   ]
  },
  {
   "cell_type": "code",
   "execution_count": 8,
   "metadata": {},
   "outputs": [],
   "source": [
    "## introduction to tensors\n",
    "## main building block of the data"
   ]
  },
  {
   "cell_type": "code",
   "execution_count": 9,
   "metadata": {},
   "outputs": [],
   "source": [
    "#multidimentional data"
   ]
  },
  {
   "cell_type": "code",
   "execution_count": 10,
   "metadata": {},
   "outputs": [],
   "source": [
    "# creating the tensor"
   ]
  },
  {
   "cell_type": "code",
   "execution_count": 11,
   "metadata": {},
   "outputs": [],
   "source": [
    "#scaler"
   ]
  },
  {
   "cell_type": "code",
   "execution_count": 12,
   "metadata": {},
   "outputs": [],
   "source": [
    "scaler=torch.tensor(7)"
   ]
  },
  {
   "cell_type": "code",
   "execution_count": 13,
   "metadata": {},
   "outputs": [
    {
     "data": {
      "text/plain": [
       "tensor(7)"
      ]
     },
     "execution_count": 13,
     "metadata": {},
     "output_type": "execute_result"
    }
   ],
   "source": [
    "scaler"
   ]
  },
  {
   "cell_type": "code",
   "execution_count": 14,
   "metadata": {},
   "outputs": [
    {
     "data": {
      "text/plain": [
       "torch.Tensor"
      ]
     },
     "execution_count": 14,
     "metadata": {},
     "output_type": "execute_result"
    }
   ],
   "source": [
    "type(scaler)"
   ]
  },
  {
   "cell_type": "code",
   "execution_count": 15,
   "metadata": {},
   "outputs": [
    {
     "data": {
      "text/plain": [
       "torch.Tensor"
      ]
     },
     "execution_count": 15,
     "metadata": {},
     "output_type": "execute_result"
    }
   ],
   "source": [
    "torch.Tensor"
   ]
  },
  {
   "cell_type": "code",
   "execution_count": 16,
   "metadata": {},
   "outputs": [
    {
     "data": {
      "text/plain": [
       "tensor(10.4000)"
      ]
     },
     "execution_count": 16,
     "metadata": {},
     "output_type": "execute_result"
    }
   ],
   "source": [
    "torch.tensor(10.4)"
   ]
  },
  {
   "cell_type": "code",
   "execution_count": 17,
   "metadata": {},
   "outputs": [],
   "source": [
    "mat=torch.tensor([[1,2,3],[4,5,6]])"
   ]
  },
  {
   "cell_type": "code",
   "execution_count": 18,
   "metadata": {},
   "outputs": [
    {
     "data": {
      "text/plain": [
       "tensor([[1, 2, 3],\n",
       "        [4, 5, 6]])"
      ]
     },
     "execution_count": 18,
     "metadata": {},
     "output_type": "execute_result"
    }
   ],
   "source": [
    "mat"
   ]
  },
  {
   "cell_type": "code",
   "execution_count": 19,
   "metadata": {},
   "outputs": [
    {
     "data": {
      "text/plain": [
       "0"
      ]
     },
     "execution_count": 19,
     "metadata": {},
     "output_type": "execute_result"
    }
   ],
   "source": [
    "scaler.ndim\n",
    "#they are tensor domentions not wrt to the matrices"
   ]
  },
  {
   "cell_type": "code",
   "execution_count": 20,
   "metadata": {},
   "outputs": [
    {
     "data": {
      "text/plain": [
       "2"
      ]
     },
     "execution_count": 20,
     "metadata": {},
     "output_type": "execute_result"
    }
   ],
   "source": [
    "mat.ndim"
   ]
  },
  {
   "cell_type": "code",
   "execution_count": 21,
   "metadata": {},
   "outputs": [],
   "source": [
    "vec=torch.tensor([1,2,3])"
   ]
  },
  {
   "cell_type": "code",
   "execution_count": 22,
   "metadata": {},
   "outputs": [
    {
     "data": {
      "text/plain": [
       "1"
      ]
     },
     "execution_count": 22,
     "metadata": {},
     "output_type": "execute_result"
    }
   ],
   "source": [
    "vec.ndim"
   ]
  },
  {
   "cell_type": "code",
   "execution_count": 23,
   "metadata": {},
   "outputs": [],
   "source": [
    "#scaler tensor 0\n",
    "#vector tensor 1\n",
    "#2-d array tensor 2"
   ]
  },
  {
   "cell_type": "code",
   "execution_count": 24,
   "metadata": {},
   "outputs": [
    {
     "data": {
      "text/plain": [
       "7"
      ]
     },
     "execution_count": 24,
     "metadata": {},
     "output_type": "execute_result"
    }
   ],
   "source": [
    "scaler.item()"
   ]
  },
  {
   "cell_type": "code",
   "execution_count": 25,
   "metadata": {},
   "outputs": [
    {
     "data": {
      "text/plain": [
       "tensor([[1, 2, 3],\n",
       "        [4, 5, 6]])"
      ]
     },
     "execution_count": 25,
     "metadata": {},
     "output_type": "execute_result"
    }
   ],
   "source": [
    "mat"
   ]
  },
  {
   "cell_type": "code",
   "execution_count": 26,
   "metadata": {},
   "outputs": [],
   "source": [
    "vector=torch.tensor([7,7])"
   ]
  },
  {
   "cell_type": "code",
   "execution_count": 27,
   "metadata": {},
   "outputs": [
    {
     "data": {
      "text/plain": [
       "tensor([7, 7])"
      ]
     },
     "execution_count": 27,
     "metadata": {},
     "output_type": "execute_result"
    }
   ],
   "source": [
    "vector"
   ]
  },
  {
   "cell_type": "code",
   "execution_count": 28,
   "metadata": {},
   "outputs": [
    {
     "data": {
      "text/plain": [
       "1"
      ]
     },
     "execution_count": 28,
     "metadata": {},
     "output_type": "execute_result"
    }
   ],
   "source": [
    "vector.ndim"
   ]
  },
  {
   "cell_type": "code",
   "execution_count": 29,
   "metadata": {},
   "outputs": [
    {
     "data": {
      "text/plain": [
       "2"
      ]
     },
     "execution_count": 29,
     "metadata": {},
     "output_type": "execute_result"
    }
   ],
   "source": [
    "mat.ndim"
   ]
  },
  {
   "cell_type": "code",
   "execution_count": 30,
   "metadata": {},
   "outputs": [
    {
     "data": {
      "text/plain": [
       "torch.Size([2])"
      ]
     },
     "execution_count": 30,
     "metadata": {},
     "output_type": "execute_result"
    }
   ],
   "source": [
    "vector.shape"
   ]
  },
  {
   "cell_type": "code",
   "execution_count": 31,
   "metadata": {},
   "outputs": [
    {
     "data": {
      "text/plain": [
       "torch.Size([2])"
      ]
     },
     "execution_count": 31,
     "metadata": {},
     "output_type": "execute_result"
    }
   ],
   "source": [
    "vector.size()"
   ]
  },
  {
   "cell_type": "code",
   "execution_count": 32,
   "metadata": {},
   "outputs": [
    {
     "data": {
      "text/plain": [
       "torch.Size([2, 3])"
      ]
     },
     "execution_count": 32,
     "metadata": {},
     "output_type": "execute_result"
    }
   ],
   "source": [
    "mat.size()"
   ]
  },
  {
   "cell_type": "code",
   "execution_count": 33,
   "metadata": {},
   "outputs": [
    {
     "data": {
      "text/plain": [
       "tensor([[1, 2, 3],\n",
       "        [4, 5, 6]])"
      ]
     },
     "execution_count": 33,
     "metadata": {},
     "output_type": "execute_result"
    }
   ],
   "source": [
    "mat"
   ]
  },
  {
   "cell_type": "code",
   "execution_count": 34,
   "metadata": {},
   "outputs": [
    {
     "data": {
      "text/plain": [
       "2"
      ]
     },
     "execution_count": 34,
     "metadata": {},
     "output_type": "execute_result"
    }
   ],
   "source": [
    "mat.ndim"
   ]
  },
  {
   "cell_type": "code",
   "execution_count": 35,
   "metadata": {},
   "outputs": [
    {
     "data": {
      "text/plain": [
       "tensor([1, 2, 3])"
      ]
     },
     "execution_count": 35,
     "metadata": {},
     "output_type": "execute_result"
    }
   ],
   "source": [
    "mat[0]"
   ]
  },
  {
   "cell_type": "code",
   "execution_count": 36,
   "metadata": {},
   "outputs": [
    {
     "data": {
      "text/plain": [
       "tensor(1)"
      ]
     },
     "execution_count": 36,
     "metadata": {},
     "output_type": "execute_result"
    }
   ],
   "source": [
    "mat[0][0]"
   ]
  },
  {
   "cell_type": "code",
   "execution_count": 37,
   "metadata": {},
   "outputs": [
    {
     "data": {
      "text/plain": [
       "tensor([4, 5, 6])"
      ]
     },
     "execution_count": 37,
     "metadata": {},
     "output_type": "execute_result"
    }
   ],
   "source": [
    "mat[1]"
   ]
  },
  {
   "cell_type": "code",
   "execution_count": 38,
   "metadata": {},
   "outputs": [
    {
     "data": {
      "text/plain": [
       "torch.Size([2, 3])"
      ]
     },
     "execution_count": 38,
     "metadata": {},
     "output_type": "execute_result"
    }
   ],
   "source": [
    "mat.shape"
   ]
  },
  {
   "cell_type": "code",
   "execution_count": 39,
   "metadata": {},
   "outputs": [
    {
     "data": {
      "text/plain": [
       "torch.Size([2, 3])"
      ]
     },
     "execution_count": 39,
     "metadata": {},
     "output_type": "execute_result"
    }
   ],
   "source": [
    "mat.size()"
   ]
  },
  {
   "cell_type": "code",
   "execution_count": 40,
   "metadata": {},
   "outputs": [
    {
     "data": {
      "text/plain": [
       "3"
      ]
     },
     "execution_count": 40,
     "metadata": {},
     "output_type": "execute_result"
    }
   ],
   "source": [
    "mat.shape[1]"
   ]
  },
  {
   "cell_type": "markdown",
   "metadata": {},
   "source": [
    "TENSOR=torch.tensor([[[1,2,3],[4,5,6]],[[7,8,9],[10,11,12]]]"
   ]
  },
  {
   "cell_type": "code",
   "execution_count": 41,
   "metadata": {},
   "outputs": [],
   "source": [
    "TENSOR=torch.tensor([[[1,2,3],[4,5,6]],[[7,8,9],[10,11,12]]])"
   ]
  },
  {
   "cell_type": "code",
   "execution_count": 42,
   "metadata": {},
   "outputs": [
    {
     "data": {
      "text/plain": [
       "tensor([[[ 1,  2,  3],\n",
       "         [ 4,  5,  6]],\n",
       "\n",
       "        [[ 7,  8,  9],\n",
       "         [10, 11, 12]]])"
      ]
     },
     "execution_count": 42,
     "metadata": {},
     "output_type": "execute_result"
    }
   ],
   "source": [
    "TENSOR\n"
   ]
  },
  {
   "cell_type": "code",
   "execution_count": 43,
   "metadata": {},
   "outputs": [
    {
     "data": {
      "text/plain": [
       "3"
      ]
     },
     "execution_count": 43,
     "metadata": {},
     "output_type": "execute_result"
    }
   ],
   "source": [
    "TENSOR.ndim"
   ]
  },
  {
   "cell_type": "code",
   "execution_count": 44,
   "metadata": {},
   "outputs": [
    {
     "data": {
      "text/plain": [
       "torch.Size([2, 2, 3])"
      ]
     },
     "execution_count": 44,
     "metadata": {},
     "output_type": "execute_result"
    }
   ],
   "source": [
    "TENSOR.shape"
   ]
  },
  {
   "cell_type": "code",
   "execution_count": 45,
   "metadata": {},
   "outputs": [
    {
     "data": {
      "text/plain": [
       "torch.Size([2, 2, 3])"
      ]
     },
     "execution_count": 45,
     "metadata": {},
     "output_type": "execute_result"
    }
   ],
   "source": [
    "TENSOR.size()"
   ]
  },
  {
   "cell_type": "code",
   "execution_count": 46,
   "metadata": {},
   "outputs": [
    {
     "data": {
      "text/plain": [
       "tensor([[1, 2, 3],\n",
       "        [4, 5, 6]])"
      ]
     },
     "execution_count": 46,
     "metadata": {},
     "output_type": "execute_result"
    }
   ],
   "source": [
    "TENSOR[0]"
   ]
  },
  {
   "cell_type": "code",
   "execution_count": 47,
   "metadata": {},
   "outputs": [
    {
     "data": {
      "text/plain": [
       "tensor([[ 7,  8,  9],\n",
       "        [10, 11, 12]])"
      ]
     },
     "execution_count": 47,
     "metadata": {},
     "output_type": "execute_result"
    }
   ],
   "source": [
    "TENSOR[1]"
   ]
  },
  {
   "cell_type": "code",
   "execution_count": 48,
   "metadata": {},
   "outputs": [
    {
     "data": {
      "text/plain": [
       "torch.Size([2, 2, 3])"
      ]
     },
     "execution_count": 48,
     "metadata": {},
     "output_type": "execute_result"
    }
   ],
   "source": [
    "TENSOR.shape"
   ]
  },
  {
   "cell_type": "code",
   "execution_count": 49,
   "metadata": {},
   "outputs": [],
   "source": [
    "#the above means two 2*3 matrices"
   ]
  },
  {
   "cell_type": "code",
   "execution_count": 50,
   "metadata": {},
   "outputs": [],
   "source": [
    "#now lets see about the generating the random values of the tensors"
   ]
  },
  {
   "cell_type": "code",
   "execution_count": 51,
   "metadata": {},
   "outputs": [
    {
     "data": {
      "text/plain": [
       "torch.Size([2, 2, 3])"
      ]
     },
     "execution_count": 51,
     "metadata": {},
     "output_type": "execute_result"
    }
   ],
   "source": [
    "TENSOR.shape"
   ]
  },
  {
   "cell_type": "code",
   "execution_count": 52,
   "metadata": {},
   "outputs": [],
   "source": [
    "#generally scalers and vectors will be a lower case and matrices and tensors will be the uppercase"
   ]
  },
  {
   "cell_type": "code",
   "execution_count": 53,
   "metadata": {},
   "outputs": [],
   "source": [
    "### Random tensors"
   ]
  },
  {
   "cell_type": "markdown",
   "metadata": {},
   "source": [
    "# random tensors were iportant were important as many neural networks learn from the random numbers and learn grom the data but they \n",
    "start with the random numbers and update them with the algorithm"
   ]
  },
  {
   "cell_type": "code",
   "execution_count": 54,
   "metadata": {},
   "outputs": [],
   "source": [
    "#random tensor of size(3,4)"
   ]
  },
  {
   "cell_type": "code",
   "execution_count": 55,
   "metadata": {},
   "outputs": [],
   "source": [
    "random=torch.rand(3,4)"
   ]
  },
  {
   "cell_type": "code",
   "execution_count": 56,
   "metadata": {},
   "outputs": [
    {
     "data": {
      "text/plain": [
       "tensor([[0.4784, 0.8022, 0.9258, 0.7209],\n",
       "        [0.9020, 0.4699, 0.7885, 0.5973],\n",
       "        [0.1524, 0.9205, 0.3642, 0.3179]])"
      ]
     },
     "execution_count": 56,
     "metadata": {},
     "output_type": "execute_result"
    }
   ],
   "source": [
    "random"
   ]
  },
  {
   "cell_type": "code",
   "execution_count": 57,
   "metadata": {},
   "outputs": [
    {
     "data": {
      "text/plain": [
       "2"
      ]
     },
     "execution_count": 57,
     "metadata": {},
     "output_type": "execute_result"
    }
   ],
   "source": [
    "random.ndim"
   ]
  },
  {
   "cell_type": "code",
   "execution_count": 58,
   "metadata": {},
   "outputs": [],
   "source": [
    "r=torch.rand(3)"
   ]
  },
  {
   "cell_type": "code",
   "execution_count": 59,
   "metadata": {},
   "outputs": [
    {
     "data": {
      "text/plain": [
       "tensor([0.3636, 0.2762, 0.7580])"
      ]
     },
     "execution_count": 59,
     "metadata": {},
     "output_type": "execute_result"
    }
   ],
   "source": [
    "r"
   ]
  },
  {
   "cell_type": "code",
   "execution_count": 60,
   "metadata": {},
   "outputs": [],
   "source": [
    "newrandom=torch.rand(2,10,10)"
   ]
  },
  {
   "cell_type": "raw",
   "metadata": {},
   "source": [
    "## new random number/\n"
   ]
  },
  {
   "cell_type": "code",
   "execution_count": 61,
   "metadata": {},
   "outputs": [
    {
     "data": {
      "text/plain": [
       "tensor([[[0.0770, 0.5835, 0.6223, 0.2572, 0.9682, 0.3342, 0.7975, 0.2751,\n",
       "          0.8053, 0.9081],\n",
       "         [0.3820, 0.0381, 0.7868, 0.4983, 0.0764, 0.5556, 0.0568, 0.2154,\n",
       "          0.6767, 0.7996],\n",
       "         [0.8070, 0.0571, 0.5758, 0.4023, 0.7798, 0.7685, 0.1917, 0.1555,\n",
       "          0.1603, 0.1099],\n",
       "         [0.7481, 0.1218, 0.8850, 0.4861, 0.1201, 0.9802, 0.5538, 0.2930,\n",
       "          0.3834, 0.3155],\n",
       "         [0.3988, 0.2702, 0.8739, 0.3053, 0.7245, 0.7431, 0.2373, 0.7340,\n",
       "          0.3768, 0.8934],\n",
       "         [0.3077, 0.5218, 0.6455, 0.8995, 0.9921, 0.8001, 0.2731, 0.3174,\n",
       "          0.8231, 0.7744],\n",
       "         [0.2098, 0.3070, 0.9071, 0.7739, 0.9959, 0.2564, 0.3949, 0.3982,\n",
       "          0.2906, 0.6957],\n",
       "         [0.8373, 0.4850, 0.8372, 0.5919, 0.7317, 0.4257, 0.9313, 0.5853,\n",
       "          0.9454, 0.3696],\n",
       "         [0.1765, 0.2858, 0.9196, 0.3539, 0.7796, 0.0078, 0.0845, 0.1547,\n",
       "          0.3047, 0.4951],\n",
       "         [0.8002, 0.7352, 0.6239, 0.8189, 0.7656, 0.1031, 0.8483, 0.4470,\n",
       "          0.2632, 0.6061]],\n",
       "\n",
       "        [[0.2877, 0.6766, 0.8954, 0.2528, 0.6218, 0.4031, 0.1977, 0.1803,\n",
       "          0.0148, 0.8711],\n",
       "         [0.1581, 0.5840, 0.7234, 0.5033, 0.8070, 0.9942, 0.6959, 0.3327,\n",
       "          0.7061, 0.7774],\n",
       "         [0.9859, 0.8346, 0.1871, 0.4048, 0.4174, 0.6227, 0.7901, 0.4741,\n",
       "          0.9888, 0.0613],\n",
       "         [0.2609, 0.2150, 0.4085, 0.9852, 0.6659, 0.5889, 0.0776, 0.6169,\n",
       "          0.7707, 0.3005],\n",
       "         [0.5351, 0.0618, 0.1840, 0.8615, 0.3316, 0.9678, 0.9078, 0.9008,\n",
       "          0.2849, 0.7596],\n",
       "         [0.3656, 0.5840, 0.4057, 0.2244, 0.8046, 0.8654, 0.3439, 0.9045,\n",
       "          0.9235, 0.7933],\n",
       "         [0.1446, 0.3755, 0.5963, 0.3123, 0.5129, 0.6494, 0.0496, 0.5452,\n",
       "          0.7475, 0.0469],\n",
       "         [0.0494, 0.8004, 0.4113, 0.2424, 0.8235, 0.0884, 0.5085, 0.3169,\n",
       "          0.4606, 0.8884],\n",
       "         [0.9576, 0.1156, 0.2837, 0.5420, 0.9447, 0.7478, 0.1492, 0.9496,\n",
       "          0.9342, 0.0824],\n",
       "         [0.9605, 0.7587, 0.1846, 0.2276, 0.7367, 0.4231, 0.3871, 0.4190,\n",
       "          0.5512, 0.2970]]])"
      ]
     },
     "execution_count": 61,
     "metadata": {},
     "output_type": "execute_result"
    }
   ],
   "source": [
    "newrandom"
   ]
  },
  {
   "cell_type": "code",
   "execution_count": 62,
   "metadata": {},
   "outputs": [],
   "source": [
    "sample=torch.rand(10,10,10)"
   ]
  },
  {
   "cell_type": "code",
   "execution_count": 63,
   "metadata": {},
   "outputs": [
    {
     "data": {
      "text/plain": [
       "tensor([[[0.2231, 0.3636, 0.9013, 0.4770, 0.4871, 0.0031, 0.1864, 0.7036,\n",
       "          0.0740, 0.3758],\n",
       "         [0.9385, 0.2860, 0.7155, 0.9041, 0.9453, 0.6092, 0.5901, 0.7169,\n",
       "          0.2914, 0.7186],\n",
       "         [0.4978, 0.1720, 0.9159, 0.8447, 0.0897, 0.2478, 0.3532, 0.9632,\n",
       "          0.7615, 0.1024],\n",
       "         [0.0626, 0.1458, 0.4894, 0.5337, 0.8397, 0.8765, 0.5515, 0.7531,\n",
       "          0.6716, 0.8211],\n",
       "         [0.0244, 0.6301, 0.8101, 0.1503, 0.2261, 0.1391, 0.6505, 0.1273,\n",
       "          0.9066, 0.9258],\n",
       "         [0.9541, 0.1162, 0.8772, 0.8458, 0.6340, 0.0650, 0.4940, 0.2361,\n",
       "          0.4127, 0.6311],\n",
       "         [0.3615, 0.0839, 0.1487, 0.2454, 0.0461, 0.8831, 0.4819, 0.6897,\n",
       "          0.5369, 0.9878],\n",
       "         [0.3358, 0.3802, 0.7855, 0.0308, 0.2242, 0.3361, 0.4422, 0.9700,\n",
       "          0.6631, 0.3690],\n",
       "         [0.5996, 0.6538, 0.6182, 0.7757, 0.8271, 0.4979, 0.7056, 0.8018,\n",
       "          0.6229, 0.6680],\n",
       "         [0.0466, 0.5298, 0.9974, 0.5660, 0.8794, 0.5350, 0.6957, 0.8937,\n",
       "          0.7065, 0.2194]],\n",
       "\n",
       "        [[0.2450, 0.6944, 0.4910, 0.6906, 0.3284, 0.0872, 0.2244, 0.3897,\n",
       "          0.8069, 0.5748],\n",
       "         [0.0311, 0.0037, 0.2701, 0.0186, 0.3367, 0.7091, 0.3632, 0.3302,\n",
       "          0.3957, 0.3792],\n",
       "         [0.7583, 0.8088, 0.7835, 0.2754, 0.6343, 0.5570, 0.8680, 0.2793,\n",
       "          0.7895, 0.4862],\n",
       "         [0.4667, 0.2644, 0.2658, 0.2797, 0.7779, 0.5620, 0.6201, 0.5630,\n",
       "          0.5112, 0.8750],\n",
       "         [0.8878, 0.8706, 0.2379, 0.8894, 0.2615, 0.7394, 0.1094, 0.8653,\n",
       "          0.1241, 0.0567],\n",
       "         [0.4964, 0.4173, 0.8813, 0.0357, 0.0713, 0.3851, 0.7781, 0.5221,\n",
       "          0.1200, 0.2330],\n",
       "         [0.8844, 0.2028, 0.8800, 0.2215, 0.2504, 0.2648, 0.3499, 0.7537,\n",
       "          0.3007, 0.3434],\n",
       "         [0.7009, 0.2323, 0.2081, 0.6533, 0.9461, 0.6499, 0.5219, 0.4254,\n",
       "          0.1789, 0.0374],\n",
       "         [0.5151, 0.5560, 0.3848, 0.9306, 0.6457, 0.8849, 0.1566, 0.4905,\n",
       "          0.2428, 0.1867],\n",
       "         [0.5844, 0.7216, 0.0310, 0.8876, 0.2067, 0.1719, 0.0305, 0.3913,\n",
       "          0.9639, 0.6820]],\n",
       "\n",
       "        [[0.0152, 0.3601, 0.3874, 0.2226, 0.7869, 0.0367, 0.8025, 0.7425,\n",
       "          0.8293, 0.8180],\n",
       "         [0.2667, 0.7336, 0.1840, 0.9664, 0.6300, 0.1501, 0.6733, 0.1726,\n",
       "          0.5764, 0.7212],\n",
       "         [0.2090, 0.7654, 0.0249, 0.1468, 0.2648, 0.2726, 0.4177, 0.6354,\n",
       "          0.7209, 0.6801],\n",
       "         [0.9734, 0.9650, 0.3158, 0.8056, 0.9631, 0.7909, 0.6451, 0.6599,\n",
       "          0.4573, 0.4614],\n",
       "         [0.8217, 0.6333, 0.1166, 0.4545, 0.0288, 0.2929, 0.7850, 0.6577,\n",
       "          0.6986, 0.5693],\n",
       "         [0.7110, 0.9493, 0.5553, 0.4957, 0.3469, 0.4810, 0.7912, 0.4965,\n",
       "          0.6318, 0.8318],\n",
       "         [0.3683, 0.6755, 0.9361, 0.9064, 0.5389, 0.9215, 0.3718, 0.1829,\n",
       "          0.6639, 0.4957],\n",
       "         [0.3217, 0.9002, 0.5336, 0.1200, 0.1370, 0.3635, 0.1838, 0.9714,\n",
       "          0.8043, 0.1881],\n",
       "         [0.6896, 0.3853, 0.3789, 0.3442, 0.2316, 0.6037, 0.9325, 0.9654,\n",
       "          0.1710, 0.2564],\n",
       "         [0.7261, 0.8636, 0.4510, 0.3073, 0.2978, 0.4991, 0.8245, 0.6077,\n",
       "          0.1214, 0.6508]],\n",
       "\n",
       "        [[0.3467, 0.1707, 0.6013, 0.8175, 0.0210, 0.7664, 0.3422, 0.7303,\n",
       "          0.9489, 0.9672],\n",
       "         [0.2391, 0.5956, 0.8460, 0.6564, 0.8522, 0.3999, 0.5254, 0.1378,\n",
       "          0.9390, 0.0398],\n",
       "         [0.1464, 0.3741, 0.7247, 0.4431, 0.7521, 0.0020, 0.6318, 0.7128,\n",
       "          0.7597, 0.6968],\n",
       "         [0.0543, 0.7873, 0.3251, 0.8975, 0.0870, 0.3354, 0.4335, 0.8246,\n",
       "          0.2369, 0.7175],\n",
       "         [0.9699, 0.8972, 0.1898, 0.0434, 0.0820, 0.7989, 0.2857, 0.4769,\n",
       "          0.5160, 0.4521],\n",
       "         [0.9851, 0.5409, 0.2165, 0.7524, 0.2563, 0.7310, 0.7639, 0.9689,\n",
       "          0.7677, 0.3529],\n",
       "         [0.8317, 0.6791, 0.0270, 0.0896, 0.6725, 0.5096, 0.6593, 0.9622,\n",
       "          0.7275, 0.9187],\n",
       "         [0.0703, 0.0095, 0.3231, 0.1845, 0.9686, 0.4098, 0.6094, 0.2373,\n",
       "          0.4466, 0.9038],\n",
       "         [0.7009, 0.7935, 0.0913, 0.2242, 0.1197, 0.8009, 0.0244, 0.1097,\n",
       "          0.0693, 0.3644],\n",
       "         [0.7011, 0.2796, 0.9808, 0.3407, 0.9769, 0.8960, 0.8714, 0.4241,\n",
       "          0.5956, 0.1159]],\n",
       "\n",
       "        [[0.6699, 0.7000, 0.3794, 0.8150, 0.1417, 0.8987, 0.3861, 0.3417,\n",
       "          0.8501, 0.4904],\n",
       "         [0.7937, 0.3695, 0.6706, 0.9856, 0.9746, 0.5956, 0.5985, 0.7899,\n",
       "          0.9145, 0.6918],\n",
       "         [0.3377, 0.1117, 0.8056, 0.7207, 0.1337, 0.9056, 0.5193, 0.0940,\n",
       "          0.2441, 0.1094],\n",
       "         [0.0194, 0.9771, 0.5441, 0.0098, 0.5518, 0.7600, 0.2192, 0.9031,\n",
       "          0.9166, 0.5845],\n",
       "         [0.5631, 0.4393, 0.2783, 0.5706, 0.7342, 0.5506, 0.1295, 0.2676,\n",
       "          0.4723, 0.9529],\n",
       "         [0.9844, 0.2223, 0.6716, 0.4835, 0.2007, 0.6610, 0.6976, 0.3106,\n",
       "          0.9148, 0.5731],\n",
       "         [0.2291, 0.7197, 0.0984, 0.6974, 0.7651, 0.7558, 0.9005, 0.3299,\n",
       "          0.9285, 0.5991],\n",
       "         [0.0057, 0.5747, 0.1739, 0.5418, 0.5310, 0.5875, 0.7853, 0.5496,\n",
       "          0.5600, 0.0084],\n",
       "         [0.4780, 0.4514, 0.3872, 0.9571, 0.7426, 0.1654, 0.6580, 0.1701,\n",
       "          0.6338, 0.4221],\n",
       "         [0.5954, 0.8062, 0.6334, 0.1371, 0.5829, 0.1961, 0.6443, 0.9309,\n",
       "          0.0562, 0.8594]],\n",
       "\n",
       "        [[0.2913, 0.6626, 0.8874, 0.4023, 0.8315, 0.1041, 0.4919, 0.4188,\n",
       "          0.7479, 0.0155],\n",
       "         [0.7068, 0.4372, 0.9268, 0.0123, 0.6121, 0.3073, 0.5292, 0.3589,\n",
       "          0.8631, 0.0522],\n",
       "         [0.2073, 0.1472, 0.4611, 0.3714, 0.0482, 0.8355, 0.7291, 0.0856,\n",
       "          0.0876, 0.5956],\n",
       "         [0.3818, 0.2644, 0.7729, 0.8750, 0.1749, 0.2461, 0.0140, 0.8837,\n",
       "          0.9726, 0.8993],\n",
       "         [0.7348, 0.1282, 0.6579, 0.7112, 0.9558, 0.7204, 0.9839, 0.8643,\n",
       "          0.7772, 0.8917],\n",
       "         [0.2533, 0.6591, 0.5673, 0.9085, 0.7079, 0.8048, 0.3940, 0.1054,\n",
       "          0.2694, 0.2654],\n",
       "         [0.6066, 0.8531, 0.6589, 0.9854, 0.9884, 0.2030, 0.4284, 0.7159,\n",
       "          0.5705, 0.0792],\n",
       "         [0.1157, 0.8684, 0.8139, 0.5029, 0.9370, 0.0596, 0.9321, 0.7834,\n",
       "          0.5465, 0.6836],\n",
       "         [0.1134, 0.9432, 0.6968, 0.0799, 0.6786, 0.4512, 0.0355, 0.9220,\n",
       "          0.0651, 0.4088],\n",
       "         [0.0450, 0.0657, 0.7687, 0.2661, 0.9850, 0.0849, 0.3053, 0.7001,\n",
       "          0.3688, 0.0192]],\n",
       "\n",
       "        [[0.1597, 0.2308, 0.5668, 0.2596, 0.2661, 0.2235, 0.4829, 0.0162,\n",
       "          0.6929, 0.9466],\n",
       "         [0.0912, 0.3692, 0.6214, 0.9273, 0.7466, 0.9803, 0.9689, 0.5574,\n",
       "          0.0451, 0.1345],\n",
       "         [0.8854, 0.6360, 0.9079, 0.9231, 0.2010, 0.8688, 0.8924, 0.1274,\n",
       "          0.8387, 0.0279],\n",
       "         [0.8408, 0.4858, 0.9289, 0.9134, 0.4927, 0.7204, 0.9545, 0.0279,\n",
       "          0.5926, 0.6364],\n",
       "         [0.8085, 0.0197, 0.2498, 0.3659, 0.6492, 0.2318, 0.7050, 0.3664,\n",
       "          0.1998, 0.6921],\n",
       "         [0.6897, 0.0068, 0.8108, 0.4899, 0.4829, 0.5334, 0.5682, 0.5580,\n",
       "          0.4580, 0.1639],\n",
       "         [0.6389, 0.6053, 0.5031, 0.1497, 0.6159, 0.7916, 0.2721, 0.2364,\n",
       "          0.6151, 0.9424],\n",
       "         [0.3434, 0.8436, 0.4474, 0.8035, 0.6248, 0.0749, 0.6252, 0.6113,\n",
       "          0.3756, 0.7472],\n",
       "         [0.9325, 0.2568, 0.7501, 0.1838, 0.6647, 0.1046, 0.4461, 0.2634,\n",
       "          0.2629, 0.2455],\n",
       "         [0.3374, 0.5254, 0.7413, 0.7857, 0.1233, 0.5292, 0.0159, 0.1798,\n",
       "          0.2698, 0.5845]],\n",
       "\n",
       "        [[0.2034, 0.2097, 0.0944, 0.2463, 0.2491, 0.2525, 0.8591, 0.7794,\n",
       "          0.0761, 0.7905],\n",
       "         [0.5290, 0.2693, 0.9480, 0.9975, 0.1610, 0.7321, 0.5936, 0.0159,\n",
       "          0.1517, 0.5721],\n",
       "         [0.7443, 0.3534, 0.7389, 0.4354, 0.2051, 0.8847, 0.9827, 0.8078,\n",
       "          0.7243, 0.0961],\n",
       "         [0.3716, 0.4177, 0.4112, 0.0348, 0.7468, 0.6246, 0.1870, 0.3208,\n",
       "          0.3321, 0.9531],\n",
       "         [0.2573, 0.3837, 0.6682, 0.4324, 0.2650, 0.2943, 0.8843, 0.3988,\n",
       "          0.9709, 0.8856],\n",
       "         [0.2434, 0.2028, 0.9658, 0.9569, 0.5474, 0.0455, 0.3919, 0.1306,\n",
       "          0.5672, 0.9483],\n",
       "         [0.7833, 0.2809, 0.1330, 0.4607, 0.2218, 0.3741, 0.8512, 0.2034,\n",
       "          0.6436, 0.0875],\n",
       "         [0.7493, 0.5290, 0.6512, 0.6981, 0.3661, 0.4420, 0.2568, 0.3951,\n",
       "          0.0026, 0.0117],\n",
       "         [0.9793, 0.0325, 0.5066, 0.7440, 0.7273, 0.9296, 0.0281, 0.1286,\n",
       "          0.5933, 0.5592],\n",
       "         [0.0641, 0.4815, 0.8545, 0.7503, 0.1314, 0.4656, 0.1062, 0.4054,\n",
       "          0.8278, 0.1652]],\n",
       "\n",
       "        [[0.7037, 0.5055, 0.6349, 0.2645, 0.2692, 0.3374, 0.5581, 0.2724,\n",
       "          0.0535, 0.7844],\n",
       "         [0.1629, 0.9198, 0.7886, 0.2151, 0.2720, 0.9679, 0.8216, 0.3812,\n",
       "          0.8751, 0.2917],\n",
       "         [0.3141, 0.8092, 0.4566, 0.9127, 0.4495, 0.4739, 0.3050, 0.8691,\n",
       "          0.5141, 0.1340],\n",
       "         [0.9394, 0.5633, 0.6952, 0.5915, 0.3397, 0.3067, 0.1804, 0.3297,\n",
       "          0.9919, 0.9188],\n",
       "         [0.6389, 0.0724, 0.0171, 0.1661, 0.8388, 0.0527, 0.2616, 0.3840,\n",
       "          0.2417, 0.2490],\n",
       "         [0.7017, 0.6593, 0.8368, 0.5994, 0.1468, 0.3484, 0.0549, 0.1591,\n",
       "          0.3831, 0.1418],\n",
       "         [0.6093, 0.0566, 0.3508, 0.8424, 0.3121, 0.6966, 0.5577, 0.3092,\n",
       "          0.4883, 0.5230],\n",
       "         [0.3074, 0.8143, 0.2050, 0.9473, 0.2521, 0.9575, 0.7174, 0.9107,\n",
       "          0.2127, 0.8587],\n",
       "         [0.8548, 0.2089, 0.4463, 0.5049, 0.9313, 0.2038, 0.4310, 0.9067,\n",
       "          0.7624, 0.3073],\n",
       "         [0.6190, 0.5247, 0.0700, 0.6637, 0.9613, 0.8166, 0.1995, 0.8031,\n",
       "          0.6398, 0.1564]],\n",
       "\n",
       "        [[0.5022, 0.3734, 0.3044, 0.1743, 0.8750, 0.4696, 0.9043, 0.4148,\n",
       "          0.5091, 0.2893],\n",
       "         [0.1096, 0.9208, 0.2846, 0.4943, 0.5864, 0.9291, 0.5340, 0.0200,\n",
       "          0.7185, 0.7464],\n",
       "         [0.7198, 0.8270, 0.3278, 0.4757, 0.6500, 0.7755, 0.3438, 0.7056,\n",
       "          0.0421, 0.8014],\n",
       "         [0.2111, 0.8751, 0.1629, 0.9720, 0.0667, 0.2679, 0.7913, 0.2912,\n",
       "          0.9184, 0.7318],\n",
       "         [0.6742, 0.1207, 0.0143, 0.8546, 0.7511, 0.2064, 0.1400, 0.3212,\n",
       "          0.9215, 0.3542],\n",
       "         [0.9867, 0.6712, 0.6111, 0.7771, 0.7262, 0.8451, 0.2727, 0.0213,\n",
       "          0.6407, 0.6352],\n",
       "         [0.9831, 0.3615, 0.4211, 0.3810, 0.9820, 0.4076, 0.0647, 0.0933,\n",
       "          0.7683, 0.5628],\n",
       "         [0.8690, 0.9836, 0.6997, 0.9046, 0.6021, 0.8568, 0.5076, 0.1518,\n",
       "          0.5638, 0.5162],\n",
       "         [0.6938, 0.2221, 0.9175, 0.4533, 0.7861, 0.7688, 0.4134, 0.7443,\n",
       "          0.8540, 0.0828],\n",
       "         [0.1217, 0.0433, 0.1178, 0.3207, 0.8160, 0.8201, 0.0035, 0.0719,\n",
       "          0.9262, 0.2177]]])"
      ]
     },
     "execution_count": 63,
     "metadata": {},
     "output_type": "execute_result"
    }
   ],
   "source": [
    "sample"
   ]
  },
  {
   "cell_type": "code",
   "execution_count": 64,
   "metadata": {},
   "outputs": [
    {
     "data": {
      "text/plain": [
       "3"
      ]
     },
     "execution_count": 64,
     "metadata": {},
     "output_type": "execute_result"
    }
   ],
   "source": [
    "sample.ndim"
   ]
  },
  {
   "cell_type": "code",
   "execution_count": 65,
   "metadata": {},
   "outputs": [
    {
     "data": {
      "text/plain": [
       "tensor([[0.4784, 0.8022, 0.9258, 0.7209],\n",
       "        [0.9020, 0.4699, 0.7885, 0.5973],\n",
       "        [0.1524, 0.9205, 0.3642, 0.3179]])"
      ]
     },
     "execution_count": 65,
     "metadata": {},
     "output_type": "execute_result"
    }
   ],
   "source": [
    "random"
   ]
  },
  {
   "cell_type": "code",
   "execution_count": 66,
   "metadata": {},
   "outputs": [],
   "source": [
    "# random tensor similar to image tensor"
   ]
  },
  {
   "cell_type": "code",
   "execution_count": 67,
   "metadata": {},
   "outputs": [],
   "source": [
    "random_img=torch.rand(size=(3,224,224))  #colorchannel,height,width"
   ]
  },
  {
   "cell_type": "code",
   "execution_count": 68,
   "metadata": {},
   "outputs": [
    {
     "data": {
      "text/plain": [
       "torch.Size([3, 224, 224])"
      ]
     },
     "execution_count": 68,
     "metadata": {},
     "output_type": "execute_result"
    }
   ],
   "source": [
    "random_img.shape"
   ]
  },
  {
   "cell_type": "code",
   "execution_count": 69,
   "metadata": {},
   "outputs": [],
   "source": [
    "#we have the color channel wil have the 3rd dimention "
   ]
  },
  {
   "cell_type": "markdown",
   "metadata": {},
   "source": [
    "### The random numbers in the pytorch was more important as the neural network were initiated with the random numbers and then updated with respect to the algorithm\n",
    "\n",
    "`torch.rand(size=(z,x,y))`"
   ]
  },
  {
   "cell_type": "code",
   "execution_count": 70,
   "metadata": {},
   "outputs": [],
   "source": [
    "s=torch.rand(100,100,10000)"
   ]
  },
  {
   "cell_type": "code",
   "execution_count": 71,
   "metadata": {},
   "outputs": [
    {
     "data": {
      "text/plain": [
       "3"
      ]
     },
     "execution_count": 71,
     "metadata": {},
     "output_type": "execute_result"
    }
   ],
   "source": [
    "s.ndim"
   ]
  },
  {
   "cell_type": "code",
   "execution_count": 72,
   "metadata": {},
   "outputs": [
    {
     "data": {
      "text/plain": [
       "torch.Size([100, 100, 10000])"
      ]
     },
     "execution_count": 72,
     "metadata": {},
     "output_type": "execute_result"
    }
   ],
   "source": [
    "s.shape"
   ]
  },
  {
   "cell_type": "code",
   "execution_count": 73,
   "metadata": {},
   "outputs": [],
   "source": [
    "zero=torch.zeros(3,4)"
   ]
  },
  {
   "cell_type": "code",
   "execution_count": 74,
   "metadata": {},
   "outputs": [
    {
     "data": {
      "text/plain": [
       "tensor([[0., 0., 0., 0.],\n",
       "        [0., 0., 0., 0.],\n",
       "        [0., 0., 0., 0.]])"
      ]
     },
     "execution_count": 74,
     "metadata": {},
     "output_type": "execute_result"
    }
   ],
   "source": [
    "zero"
   ]
  },
  {
   "cell_type": "code",
   "execution_count": 75,
   "metadata": {},
   "outputs": [],
   "source": [
    "r=torch.rand(3,4)"
   ]
  },
  {
   "cell_type": "code",
   "execution_count": 76,
   "metadata": {},
   "outputs": [
    {
     "data": {
      "text/plain": [
       "tensor([[0., 0., 0., 0.],\n",
       "        [0., 0., 0., 0.],\n",
       "        [0., 0., 0., 0.]])"
      ]
     },
     "execution_count": 76,
     "metadata": {},
     "output_type": "execute_result"
    }
   ],
   "source": [
    "zero*r"
   ]
  },
  {
   "cell_type": "code",
   "execution_count": 77,
   "metadata": {},
   "outputs": [
    {
     "data": {
      "text/plain": [
       "2"
      ]
     },
     "execution_count": 77,
     "metadata": {},
     "output_type": "execute_result"
    }
   ],
   "source": [
    "zero.ndim\n"
   ]
  },
  {
   "cell_type": "code",
   "execution_count": 78,
   "metadata": {},
   "outputs": [],
   "source": [
    "ones=torch.ones(3,4)"
   ]
  },
  {
   "cell_type": "code",
   "execution_count": 79,
   "metadata": {},
   "outputs": [
    {
     "data": {
      "text/plain": [
       "tensor([[0.8617, 0.1907, 0.0327, 0.8515],\n",
       "        [0.5378, 0.5905, 0.0655, 0.6990],\n",
       "        [0.3720, 0.1661, 0.5754, 0.8358]])"
      ]
     },
     "execution_count": 79,
     "metadata": {},
     "output_type": "execute_result"
    }
   ],
   "source": [
    "ones*r"
   ]
  },
  {
   "cell_type": "code",
   "execution_count": 80,
   "metadata": {},
   "outputs": [
    {
     "data": {
      "text/plain": [
       "torch.float32"
      ]
     },
     "execution_count": 80,
     "metadata": {},
     "output_type": "execute_result"
    }
   ],
   "source": [
    "ones.dtype"
   ]
  },
  {
   "cell_type": "code",
   "execution_count": 81,
   "metadata": {},
   "outputs": [
    {
     "data": {
      "text/plain": [
       "torch.float32"
      ]
     },
     "execution_count": 81,
     "metadata": {},
     "output_type": "execute_result"
    }
   ],
   "source": [
    "ones.dtype"
   ]
  },
  {
   "cell_type": "code",
   "execution_count": 82,
   "metadata": {},
   "outputs": [],
   "source": [
    "# we can create the random values in many ways but rand() was most common way"
   ]
  },
  {
   "cell_type": "code",
   "execution_count": 83,
   "metadata": {},
   "outputs": [],
   "source": [
    "#tensors in a range()"
   ]
  },
  {
   "cell_type": "code",
   "execution_count": 84,
   "metadata": {},
   "outputs": [],
   "source": [
    "ran=torch.rand(300,100,100)"
   ]
  },
  {
   "cell_type": "code",
   "execution_count": 85,
   "metadata": {},
   "outputs": [
    {
     "data": {
      "text/plain": [
       "tensor(2)"
      ]
     },
     "execution_count": 85,
     "metadata": {},
     "output_type": "execute_result"
    }
   ],
   "source": [
    "torch.tensor(2)"
   ]
  },
  {
   "cell_type": "code",
   "execution_count": 86,
   "metadata": {},
   "outputs": [
    {
     "data": {
      "text/plain": [
       "torch.Size([3])"
      ]
     },
     "execution_count": 86,
     "metadata": {},
     "output_type": "execute_result"
    }
   ],
   "source": [
    "torch.tensor([1,2,3]).shape"
   ]
  },
  {
   "cell_type": "code",
   "execution_count": 87,
   "metadata": {},
   "outputs": [],
   "source": [
    "### create a range of tensors and tensor-like"
   ]
  },
  {
   "cell_type": "code",
   "execution_count": 88,
   "metadata": {},
   "outputs": [
    {
     "name": "stderr",
     "output_type": "stream",
     "text": [
      "/var/folders/4m/q_kqcf711rs2gm0dt1z3kv3w0000gn/T/ipykernel_1138/3470486478.py:1: UserWarning: torch.range is deprecated and will be removed in a future release because its behavior is inconsistent with Python's range builtin. Instead, use torch.arange, which produces values in [start, end).\n",
      "  torch.range(1,100,1)\n"
     ]
    },
    {
     "data": {
      "text/plain": [
       "tensor([  1.,   2.,   3.,   4.,   5.,   6.,   7.,   8.,   9.,  10.,  11.,  12.,\n",
       "         13.,  14.,  15.,  16.,  17.,  18.,  19.,  20.,  21.,  22.,  23.,  24.,\n",
       "         25.,  26.,  27.,  28.,  29.,  30.,  31.,  32.,  33.,  34.,  35.,  36.,\n",
       "         37.,  38.,  39.,  40.,  41.,  42.,  43.,  44.,  45.,  46.,  47.,  48.,\n",
       "         49.,  50.,  51.,  52.,  53.,  54.,  55.,  56.,  57.,  58.,  59.,  60.,\n",
       "         61.,  62.,  63.,  64.,  65.,  66.,  67.,  68.,  69.,  70.,  71.,  72.,\n",
       "         73.,  74.,  75.,  76.,  77.,  78.,  79.,  80.,  81.,  82.,  83.,  84.,\n",
       "         85.,  86.,  87.,  88.,  89.,  90.,  91.,  92.,  93.,  94.,  95.,  96.,\n",
       "         97.,  98.,  99., 100.])"
      ]
     },
     "execution_count": 88,
     "metadata": {},
     "output_type": "execute_result"
    }
   ],
   "source": [
    "torch.range(1,100,1)\n",
    "# as the range as not available with the pytorch anymore use the arange which is similar to "
   ]
  },
  {
   "cell_type": "code",
   "execution_count": 89,
   "metadata": {},
   "outputs": [],
   "source": [
    "a=torch.arange(1,100,1)"
   ]
  },
  {
   "cell_type": "code",
   "execution_count": 90,
   "metadata": {},
   "outputs": [
    {
     "data": {
      "text/plain": [
       "torch.Size([99])"
      ]
     },
     "execution_count": 90,
     "metadata": {},
     "output_type": "execute_result"
    }
   ],
   "source": [
    "a.shape"
   ]
  },
  {
   "cell_type": "code",
   "execution_count": 91,
   "metadata": {},
   "outputs": [
    {
     "data": {
      "text/plain": [
       "torch.Size([99])"
      ]
     },
     "execution_count": 91,
     "metadata": {},
     "output_type": "execute_result"
    }
   ],
   "source": [
    "a.size()"
   ]
  },
  {
   "cell_type": "code",
   "execution_count": 92,
   "metadata": {},
   "outputs": [
    {
     "data": {
      "text/plain": [
       "1"
      ]
     },
     "execution_count": 92,
     "metadata": {},
     "output_type": "execute_result"
    }
   ],
   "source": [
    "a.ndim"
   ]
  },
  {
   "cell_type": "code",
   "execution_count": 93,
   "metadata": {},
   "outputs": [
    {
     "data": {
      "text/plain": [
       "torch.int64"
      ]
     },
     "execution_count": 93,
     "metadata": {},
     "output_type": "execute_result"
    }
   ],
   "source": [
    "a.dtype"
   ]
  },
  {
   "cell_type": "code",
   "execution_count": 94,
   "metadata": {},
   "outputs": [],
   "source": [
    "one_to_ten=torch.arange(1,11,1)"
   ]
  },
  {
   "cell_type": "code",
   "execution_count": 95,
   "metadata": {},
   "outputs": [
    {
     "data": {
      "text/plain": [
       "tensor([  0,  77, 154, 231, 308, 385, 462, 539, 616, 693, 770, 847, 924])"
      ]
     },
     "execution_count": 95,
     "metadata": {},
     "output_type": "execute_result"
    }
   ],
   "source": [
    "torch.arange(0,1000,77)"
   ]
  },
  {
   "cell_type": "code",
   "execution_count": 96,
   "metadata": {},
   "outputs": [],
   "source": [
    "#to be more specific we can use the folllowing use case"
   ]
  },
  {
   "cell_type": "code",
   "execution_count": 97,
   "metadata": {},
   "outputs": [
    {
     "data": {
      "text/plain": [
       "tensor([  1,   2,   3,   4,   5,   6,   7,   8,   9,  10,  11,  12,  13,  14,\n",
       "         15,  16,  17,  18,  19,  20,  21,  22,  23,  24,  25,  26,  27,  28,\n",
       "         29,  30,  31,  32,  33,  34,  35,  36,  37,  38,  39,  40,  41,  42,\n",
       "         43,  44,  45,  46,  47,  48,  49,  50,  51,  52,  53,  54,  55,  56,\n",
       "         57,  58,  59,  60,  61,  62,  63,  64,  65,  66,  67,  68,  69,  70,\n",
       "         71,  72,  73,  74,  75,  76,  77,  78,  79,  80,  81,  82,  83,  84,\n",
       "         85,  86,  87,  88,  89,  90,  91,  92,  93,  94,  95,  96,  97,  98,\n",
       "         99, 100, 101, 102, 103, 104, 105, 106, 107, 108, 109, 110, 111, 112,\n",
       "        113, 114, 115, 116, 117, 118, 119, 120, 121, 122, 123, 124, 125, 126,\n",
       "        127, 128, 129, 130, 131, 132, 133, 134, 135, 136, 137, 138, 139, 140,\n",
       "        141, 142, 143, 144, 145, 146, 147, 148, 149, 150, 151, 152, 153, 154,\n",
       "        155, 156, 157, 158, 159, 160, 161, 162, 163, 164, 165, 166, 167, 168,\n",
       "        169, 170, 171, 172, 173, 174, 175, 176, 177, 178, 179, 180, 181, 182,\n",
       "        183, 184, 185, 186, 187, 188, 189, 190, 191, 192, 193, 194, 195, 196,\n",
       "        197, 198, 199, 200, 201, 202, 203, 204, 205, 206, 207, 208, 209, 210,\n",
       "        211, 212, 213, 214, 215, 216, 217, 218, 219, 220, 221, 222, 223, 224,\n",
       "        225, 226, 227, 228, 229, 230, 231, 232, 233, 234, 235, 236, 237, 238,\n",
       "        239, 240, 241, 242, 243, 244, 245, 246, 247, 248, 249, 250, 251, 252,\n",
       "        253, 254, 255, 256, 257, 258, 259, 260, 261, 262, 263, 264, 265, 266,\n",
       "        267, 268, 269, 270, 271, 272, 273, 274, 275, 276, 277, 278, 279, 280,\n",
       "        281, 282, 283, 284, 285, 286, 287, 288, 289, 290, 291, 292, 293, 294,\n",
       "        295, 296, 297, 298, 299, 300, 301, 302, 303, 304, 305, 306, 307, 308,\n",
       "        309, 310, 311, 312, 313, 314, 315, 316, 317, 318, 319, 320, 321, 322,\n",
       "        323, 324, 325, 326, 327, 328, 329, 330, 331, 332, 333, 334, 335, 336,\n",
       "        337, 338, 339, 340, 341, 342, 343, 344, 345, 346, 347, 348, 349, 350,\n",
       "        351, 352, 353, 354, 355, 356, 357, 358, 359, 360, 361, 362, 363, 364,\n",
       "        365, 366, 367, 368, 369, 370, 371, 372, 373, 374, 375, 376, 377, 378,\n",
       "        379, 380, 381, 382, 383, 384, 385, 386, 387, 388, 389, 390, 391, 392,\n",
       "        393, 394, 395, 396, 397, 398, 399, 400, 401, 402, 403, 404, 405, 406,\n",
       "        407, 408, 409, 410, 411, 412, 413, 414, 415, 416, 417, 418, 419, 420,\n",
       "        421, 422, 423, 424, 425, 426, 427, 428, 429, 430, 431, 432, 433, 434,\n",
       "        435, 436, 437, 438, 439, 440, 441, 442, 443, 444, 445, 446, 447, 448,\n",
       "        449, 450, 451, 452, 453, 454, 455, 456, 457, 458, 459, 460, 461, 462,\n",
       "        463, 464, 465, 466, 467, 468, 469, 470, 471, 472, 473, 474, 475, 476,\n",
       "        477, 478, 479, 480, 481, 482, 483, 484, 485, 486, 487, 488, 489, 490,\n",
       "        491, 492, 493, 494, 495, 496, 497, 498, 499, 500, 501, 502, 503, 504,\n",
       "        505, 506, 507, 508, 509, 510, 511, 512, 513, 514, 515, 516, 517, 518,\n",
       "        519, 520, 521, 522, 523, 524, 525, 526, 527, 528, 529, 530, 531, 532,\n",
       "        533, 534, 535, 536, 537, 538, 539, 540, 541, 542, 543, 544, 545, 546,\n",
       "        547, 548, 549, 550, 551, 552, 553, 554, 555, 556, 557, 558, 559, 560,\n",
       "        561, 562, 563, 564, 565, 566, 567, 568, 569, 570, 571, 572, 573, 574,\n",
       "        575, 576, 577, 578, 579, 580, 581, 582, 583, 584, 585, 586, 587, 588,\n",
       "        589, 590, 591, 592, 593, 594, 595, 596, 597, 598, 599, 600, 601, 602,\n",
       "        603, 604, 605, 606, 607, 608, 609, 610, 611, 612, 613, 614, 615, 616,\n",
       "        617, 618, 619, 620, 621, 622, 623, 624, 625, 626, 627, 628, 629, 630,\n",
       "        631, 632, 633, 634, 635, 636, 637, 638, 639, 640, 641, 642, 643, 644,\n",
       "        645, 646, 647, 648, 649, 650, 651, 652, 653, 654, 655, 656, 657, 658,\n",
       "        659, 660, 661, 662, 663, 664, 665, 666, 667, 668, 669, 670, 671, 672,\n",
       "        673, 674, 675, 676, 677, 678, 679, 680, 681, 682, 683, 684, 685, 686,\n",
       "        687, 688, 689, 690, 691, 692, 693, 694, 695, 696, 697, 698, 699, 700,\n",
       "        701, 702, 703, 704, 705, 706, 707, 708, 709, 710, 711, 712, 713, 714,\n",
       "        715, 716, 717, 718, 719, 720, 721, 722, 723, 724, 725, 726, 727, 728,\n",
       "        729, 730, 731, 732, 733, 734, 735, 736, 737, 738, 739, 740, 741, 742,\n",
       "        743, 744, 745, 746, 747, 748, 749, 750, 751, 752, 753, 754, 755, 756,\n",
       "        757, 758, 759, 760, 761, 762, 763, 764, 765, 766, 767, 768, 769, 770,\n",
       "        771, 772, 773, 774, 775, 776, 777, 778, 779, 780, 781, 782, 783, 784,\n",
       "        785, 786, 787, 788, 789, 790, 791, 792, 793, 794, 795, 796, 797, 798,\n",
       "        799, 800, 801, 802, 803, 804, 805, 806, 807, 808, 809, 810, 811, 812,\n",
       "        813, 814, 815, 816, 817, 818, 819, 820, 821, 822, 823, 824, 825, 826,\n",
       "        827, 828, 829, 830, 831, 832, 833, 834, 835, 836, 837, 838, 839, 840,\n",
       "        841, 842, 843, 844, 845, 846, 847, 848, 849, 850, 851, 852, 853, 854,\n",
       "        855, 856, 857, 858, 859, 860, 861, 862, 863, 864, 865, 866, 867, 868,\n",
       "        869, 870, 871, 872, 873, 874, 875, 876, 877, 878, 879, 880, 881, 882,\n",
       "        883, 884, 885, 886, 887, 888, 889, 890, 891, 892, 893, 894, 895, 896,\n",
       "        897, 898, 899, 900, 901, 902, 903, 904, 905, 906, 907, 908, 909, 910,\n",
       "        911, 912, 913, 914, 915, 916, 917, 918, 919, 920, 921, 922, 923, 924,\n",
       "        925, 926, 927, 928, 929, 930, 931, 932, 933, 934, 935, 936, 937, 938,\n",
       "        939, 940, 941, 942, 943, 944, 945, 946, 947, 948, 949, 950, 951, 952,\n",
       "        953, 954, 955, 956, 957, 958, 959, 960, 961, 962, 963, 964, 965, 966,\n",
       "        967, 968, 969, 970, 971, 972, 973, 974, 975, 976, 977, 978, 979, 980,\n",
       "        981, 982, 983, 984, 985, 986, 987, 988, 989, 990, 991, 992, 993, 994,\n",
       "        995, 996, 997, 998, 999])"
      ]
     },
     "execution_count": 97,
     "metadata": {},
     "output_type": "execute_result"
    }
   ],
   "source": [
    "torch.arange(start=1,end=1000,step=1)"
   ]
  },
  {
   "cell_type": "code",
   "execution_count": 98,
   "metadata": {},
   "outputs": [
    {
     "data": {
      "text/plain": [
       "'2.4.1'"
      ]
     },
     "execution_count": 98,
     "metadata": {},
     "output_type": "execute_result"
    }
   ],
   "source": [
    "torch.__version__"
   ]
  },
  {
   "cell_type": "code",
   "execution_count": 99,
   "metadata": {},
   "outputs": [],
   "source": [
    "#tensors like"
   ]
  },
  {
   "cell_type": "code",
   "execution_count": 100,
   "metadata": {},
   "outputs": [
    {
     "data": {
      "text/plain": [
       "tensor([ 1,  2,  3,  4,  5,  6,  7,  8,  9, 10])"
      ]
     },
     "execution_count": 100,
     "metadata": {},
     "output_type": "execute_result"
    }
   ],
   "source": [
    "one_to_ten"
   ]
  },
  {
   "cell_type": "code",
   "execution_count": 101,
   "metadata": {},
   "outputs": [],
   "source": [
    "ten=torch.zeros_like(one_to_ten)"
   ]
  },
  {
   "cell_type": "code",
   "execution_count": 102,
   "metadata": {},
   "outputs": [
    {
     "data": {
      "text/plain": [
       "tensor([0, 0, 0, 0, 0, 0, 0, 0, 0, 0])"
      ]
     },
     "execution_count": 102,
     "metadata": {},
     "output_type": "execute_result"
    }
   ],
   "source": [
    "ten"
   ]
  },
  {
   "cell_type": "code",
   "execution_count": 103,
   "metadata": {},
   "outputs": [],
   "source": [
    "ones=torch.ones_like(random)"
   ]
  },
  {
   "cell_type": "code",
   "execution_count": 104,
   "metadata": {},
   "outputs": [
    {
     "data": {
      "text/plain": [
       "tensor([[1., 1., 1., 1.],\n",
       "        [1., 1., 1., 1.],\n",
       "        [1., 1., 1., 1.]])"
      ]
     },
     "execution_count": 104,
     "metadata": {},
     "output_type": "execute_result"
    }
   ],
   "source": [
    "ones"
   ]
  },
  {
   "cell_type": "code",
   "execution_count": 105,
   "metadata": {},
   "outputs": [
    {
     "data": {
      "text/plain": [
       "torch.float32"
      ]
     },
     "execution_count": 105,
     "metadata": {},
     "output_type": "execute_result"
    }
   ],
   "source": [
    "ones.dtype"
   ]
  },
  {
   "cell_type": "code",
   "execution_count": 106,
   "metadata": {},
   "outputs": [],
   "source": [
    "# default dtype id float32"
   ]
  },
  {
   "cell_type": "code",
   "execution_count": 107,
   "metadata": {},
   "outputs": [],
   "source": [
    "### tensor datatypes"
   ]
  },
  {
   "cell_type": "code",
   "execution_count": 108,
   "metadata": {},
   "outputs": [],
   "source": [
    "#float tensors "
   ]
  },
  {
   "cell_type": "code",
   "execution_count": 109,
   "metadata": {},
   "outputs": [],
   "source": [
    "float32=torch.tensor([3.0,2.9,5.6],dtype=None)"
   ]
  },
  {
   "cell_type": "code",
   "execution_count": 110,
   "metadata": {},
   "outputs": [
    {
     "data": {
      "text/plain": [
       "tensor([3.0000, 2.9000, 5.6000])"
      ]
     },
     "execution_count": 110,
     "metadata": {},
     "output_type": "execute_result"
    }
   ],
   "source": [
    "float32"
   ]
  },
  {
   "cell_type": "code",
   "execution_count": 111,
   "metadata": {},
   "outputs": [
    {
     "data": {
      "text/plain": [
       "torch.float32"
      ]
     },
     "execution_count": 111,
     "metadata": {},
     "output_type": "execute_result"
    }
   ],
   "source": [
    "float32.dtype"
   ]
  },
  {
   "cell_type": "code",
   "execution_count": 112,
   "metadata": {},
   "outputs": [],
   "source": [
    "#default datatype was float32"
   ]
  },
  {
   "cell_type": "code",
   "execution_count": 113,
   "metadata": {},
   "outputs": [],
   "source": [
    "float2=torch.tensor([1.0,2.4,3.9,5],dtype=torch.float16)"
   ]
  },
  {
   "cell_type": "code",
   "execution_count": 114,
   "metadata": {},
   "outputs": [
    {
     "data": {
      "text/plain": [
       "tensor([1.0000, 2.4004, 3.9004, 5.0000], dtype=torch.float16)"
      ]
     },
     "execution_count": 114,
     "metadata": {},
     "output_type": "execute_result"
    }
   ],
   "source": [
    "float2"
   ]
  },
  {
   "cell_type": "code",
   "execution_count": 115,
   "metadata": {},
   "outputs": [
    {
     "data": {
      "text/plain": [
       "torch.float16"
      ]
     },
     "execution_count": 115,
     "metadata": {},
     "output_type": "execute_result"
    }
   ],
   "source": [
    "float2.dtype"
   ]
  },
  {
   "cell_type": "code",
   "execution_count": 116,
   "metadata": {},
   "outputs": [],
   "source": [
    "int3=torch.tensor([1,2,4.5],dtype=torch.int32)"
   ]
  },
  {
   "cell_type": "code",
   "execution_count": 117,
   "metadata": {},
   "outputs": [
    {
     "data": {
      "text/plain": [
       "tensor([1, 2, 4], dtype=torch.int32)"
      ]
     },
     "execution_count": 117,
     "metadata": {},
     "output_type": "execute_result"
    }
   ],
   "source": [
    "int3"
   ]
  },
  {
   "cell_type": "code",
   "execution_count": 118,
   "metadata": {},
   "outputs": [],
   "source": [
    "data=torch.tensor([3.0,6.0,9.0],dtype=None,device=None,requires_grad=False)"
   ]
  },
  {
   "cell_type": "code",
   "execution_count": 119,
   "metadata": {},
   "outputs": [
    {
     "data": {
      "text/plain": [
       "tensor([3., 6., 9.])"
      ]
     },
     "execution_count": 119,
     "metadata": {},
     "output_type": "execute_result"
    }
   ],
   "source": [
    "data\n",
    "# we have to define the space how it was stores for better precision and speed\n",
    "# how much detail that a number conisist of\n"
   ]
  },
  {
   "cell_type": "code",
   "execution_count": 120,
   "metadata": {},
   "outputs": [],
   "source": [
    "# datatypes are the one of the three big errord we may fall while developing"
   ]
  },
  {
   "cell_type": "code",
   "execution_count": 121,
   "metadata": {},
   "outputs": [],
   "source": [
    "# device=\"cpu\" by default but we can set to cuda"
   ]
  },
  {
   "cell_type": "code",
   "execution_count": 122,
   "metadata": {},
   "outputs": [],
   "source": [
    "# if one tensor on cpu and another on gpu it will throw the error"
   ]
  },
  {
   "cell_type": "code",
   "execution_count": 123,
   "metadata": {},
   "outputs": [],
   "source": [
    "gd=torch.tensor([2.0,4.0,6.0])"
   ]
  },
  {
   "cell_type": "code",
   "execution_count": 124,
   "metadata": {},
   "outputs": [],
   "source": [
    "# device will tell about the which device we are running on"
   ]
  },
  {
   "cell_type": "code",
   "execution_count": 125,
   "metadata": {},
   "outputs": [],
   "source": [
    "#requires_grad will tell us wether we need to track gradient or not"
   ]
  },
  {
   "cell_type": "code",
   "execution_count": 126,
   "metadata": {},
   "outputs": [],
   "source": [
    "float2=float32.type(torch.float16)"
   ]
  },
  {
   "cell_type": "code",
   "execution_count": 127,
   "metadata": {},
   "outputs": [
    {
     "data": {
      "text/plain": [
       "tensor([3.0000, 2.9004, 5.6016], dtype=torch.float16)"
      ]
     },
     "execution_count": 127,
     "metadata": {},
     "output_type": "execute_result"
    }
   ],
   "source": [
    "float2"
   ]
  },
  {
   "cell_type": "markdown",
   "metadata": {},
   "source": [
    "# Problems could be expected\n",
    "#### datatypes were not same\n",
    "#### varaibles wee on diffweent device\n",
    "####  different shape"
   ]
  },
  {
   "cell_type": "code",
   "execution_count": 128,
   "metadata": {},
   "outputs": [
    {
     "data": {
      "text/plain": [
       "tensor([ 9.0000,  8.4111, 31.3687])"
      ]
     },
     "execution_count": 128,
     "metadata": {},
     "output_type": "execute_result"
    }
   ],
   "source": [
    "float2*float32"
   ]
  },
  {
   "cell_type": "code",
   "execution_count": 129,
   "metadata": {},
   "outputs": [],
   "source": [
    "#but it worked in sometimes in large neural networks will create a problem"
   ]
  },
  {
   "cell_type": "code",
   "execution_count": 130,
   "metadata": {},
   "outputs": [],
   "source": [
    "int_32=torch.tensor([1.4,2,4.9],dtype=torch.int32)"
   ]
  },
  {
   "cell_type": "code",
   "execution_count": 131,
   "metadata": {},
   "outputs": [
    {
     "data": {
      "text/plain": [
       "tensor([1, 2, 4], dtype=torch.int32)"
      ]
     },
     "execution_count": 131,
     "metadata": {},
     "output_type": "execute_result"
    }
   ],
   "source": [
    "int_32"
   ]
  },
  {
   "cell_type": "code",
   "execution_count": 132,
   "metadata": {},
   "outputs": [
    {
     "data": {
      "text/plain": [
       "tensor([3.0000, 2.9004, 5.6016], dtype=torch.float16)"
      ]
     },
     "execution_count": 132,
     "metadata": {},
     "output_type": "execute_result"
    }
   ],
   "source": [
    "float2"
   ]
  },
  {
   "cell_type": "code",
   "execution_count": 133,
   "metadata": {},
   "outputs": [
    {
     "data": {
      "text/plain": [
       "tensor([ 3.0000,  5.8008, 22.4062], dtype=torch.float16)"
      ]
     },
     "execution_count": 133,
     "metadata": {},
     "output_type": "execute_result"
    }
   ],
   "source": [
    "float2*int_32"
   ]
  },
  {
   "cell_type": "code",
   "execution_count": 134,
   "metadata": {},
   "outputs": [],
   "source": [
    "# but it stil worked as well but still its a problem in large neuranetwork"
   ]
  },
  {
   "cell_type": "code",
   "execution_count": 135,
   "metadata": {},
   "outputs": [],
   "source": [
    "long=torch.tensor([1,2,3],dtype=torch.long)"
   ]
  },
  {
   "cell_type": "code",
   "execution_count": 136,
   "metadata": {},
   "outputs": [
    {
     "data": {
      "text/plain": [
       "tensor([ 3.0000,  5.8008, 16.8125], dtype=torch.float16)"
      ]
     },
     "execution_count": 136,
     "metadata": {},
     "output_type": "execute_result"
    }
   ],
   "source": [
    "long*float2"
   ]
  },
  {
   "cell_type": "code",
   "execution_count": 137,
   "metadata": {},
   "outputs": [],
   "source": [
    "# its is more robust\n"
   ]
  },
  {
   "cell_type": "code",
   "execution_count": 138,
   "metadata": {},
   "outputs": [],
   "source": [
    "### getting info from the tensor"
   ]
  },
  {
   "cell_type": "markdown",
   "metadata": {},
   "source": [
    "## to get the datatype we can use the `tensor.dtype`\n",
    "\n",
    "## to get the device `tensor.device`\n",
    "\n",
    "## for the shape  `tensor.shape`"
   ]
  },
  {
   "cell_type": "code",
   "execution_count": 139,
   "metadata": {},
   "outputs": [
    {
     "data": {
      "text/plain": [
       "device(type='cpu')"
      ]
     },
     "execution_count": 139,
     "metadata": {},
     "output_type": "execute_result"
    }
   ],
   "source": [
    "int_32.device"
   ]
  },
  {
   "cell_type": "code",
   "execution_count": 140,
   "metadata": {},
   "outputs": [],
   "source": [
    "sample=torch.rand(3,4)"
   ]
  },
  {
   "cell_type": "code",
   "execution_count": 142,
   "metadata": {},
   "outputs": [
    {
     "name": "stdout",
     "output_type": "stream",
     "text": [
      "tensor([[0.3977, 0.9743, 0.4116, 0.7244],\n",
      "        [0.7547, 0.6139, 0.4881, 0.5595],\n",
      "        [0.1488, 0.3119, 0.4717, 0.6500]])\n"
     ]
    }
   ],
   "source": [
    "print(sample)"
   ]
  },
  {
   "cell_type": "markdown",
   "metadata": {},
   "source": [
    "sample.ndim"
   ]
  },
  {
   "cell_type": "code",
   "execution_count": 143,
   "metadata": {},
   "outputs": [
    {
     "data": {
      "text/plain": [
       "2"
      ]
     },
     "execution_count": 143,
     "metadata": {},
     "output_type": "execute_result"
    }
   ],
   "source": [
    "sample.ndim"
   ]
  },
  {
   "cell_type": "code",
   "execution_count": 144,
   "metadata": {},
   "outputs": [
    {
     "data": {
      "text/plain": [
       "torch.Size([3, 4])"
      ]
     },
     "execution_count": 144,
     "metadata": {},
     "output_type": "execute_result"
    }
   ],
   "source": [
    "sample.shape"
   ]
  },
  {
   "cell_type": "code",
   "execution_count": 145,
   "metadata": {},
   "outputs": [
    {
     "data": {
      "text/plain": [
       "torch.Size([3, 4])"
      ]
     },
     "execution_count": 145,
     "metadata": {},
     "output_type": "execute_result"
    }
   ],
   "source": [
    "sample.size()"
   ]
  },
  {
   "cell_type": "code",
   "execution_count": 146,
   "metadata": {},
   "outputs": [],
   "source": [
    "###.ndim tensor .shape  .size()  .rand etc"
   ]
  },
  {
   "cell_type": "code",
   "execution_count": 147,
   "metadata": {},
   "outputs": [],
   "source": [
    "## .size() and .shape will give the same output"
   ]
  },
  {
   "cell_type": "code",
   "execution_count": 149,
   "metadata": {},
   "outputs": [
    {
     "name": "stdout",
     "output_type": "stream",
     "text": [
      "tensor([[0.3977, 0.9743, 0.4116, 0.7244],\n",
      "        [0.7547, 0.6139, 0.4881, 0.5595],\n",
      "        [0.1488, 0.3119, 0.4717, 0.6500]])\n",
      "the dimention of sample 2\n",
      "the shape of the sample torch.Size([3, 4])\n",
      "the device in which it is in cpu\n"
     ]
    }
   ],
   "source": [
    "print(sample)\n",
    "print(f'the dimention of sample {sample.ndim}')\n",
    "print(f'the shape of the sample {sample.shape}')\n",
    "print(f'the device in which it is in {sample.device}')"
   ]
  },
  {
   "cell_type": "code",
   "execution_count": 150,
   "metadata": {},
   "outputs": [],
   "source": [
    "#all the tensor we create will be default in cpu we have to specify for storing in gpu"
   ]
  },
  {
   "cell_type": "code",
   "execution_count": 151,
   "metadata": {},
   "outputs": [],
   "source": [
    "## how to change the device while the program was running"
   ]
  },
  {
   "cell_type": "code",
   "execution_count": 152,
   "metadata": {},
   "outputs": [],
   "source": [
    "## manipulating the tensors"
   ]
  },
  {
   "cell_type": "raw",
   "metadata": {},
   "source": [
    "## Tensor operations include:\n",
    "### Addition\n",
    "### Subtraction\n",
    "### Multiplication(element-wise)\n",
    "### Division\n",
    "### Matrix mul"
   ]
  },
  {
   "cell_type": "code",
   "execution_count": null,
   "metadata": {},
   "outputs": [],
   "source": []
  }
 ],
 "metadata": {
  "kernelspec": {
   "display_name": "Python 3",
   "language": "python",
   "name": "python3"
  },
  "language_info": {
   "codemirror_mode": {
    "name": "ipython",
    "version": 3
   },
   "file_extension": ".py",
   "mimetype": "text/x-python",
   "name": "python",
   "nbconvert_exporter": "python",
   "pygments_lexer": "ipython3",
   "version": "3.10.12"
  }
 },
 "nbformat": 4,
 "nbformat_minor": 4
}
