{
 "cells": [
  {
   "cell_type": "code",
   "execution_count": 1,
   "metadata": {},
   "outputs": [],
   "source": [
    "import pandas as pd \n",
    "import torch"
   ]
  },
  {
   "cell_type": "code",
   "execution_count": 4,
   "metadata": {},
   "outputs": [],
   "source": [
    "#check the cpu and gpu version\n"
   ]
  },
  {
   "cell_type": "code",
   "execution_count": 5,
   "metadata": {},
   "outputs": [],
   "source": [
    "# Pytorch funcdamentals"
   ]
  },
  {
   "cell_type": "code",
   "execution_count": 7,
   "metadata": {},
   "outputs": [
    {
     "name": "stdout",
     "output_type": "stream",
     "text": [
      "2.4.1\n"
     ]
    }
   ],
   "source": [
    "print(torch.__version__)"
   ]
  },
  {
   "cell_type": "code",
   "execution_count": 8,
   "metadata": {},
   "outputs": [
    {
     "name": "stdout",
     "output_type": "stream",
     "text": [
      "2.4.1\n"
     ]
    }
   ],
   "source": [
    "print(torch.__version__)"
   ]
  },
  {
   "cell_type": "code",
   "execution_count": 9,
   "metadata": {},
   "outputs": [],
   "source": [
    "import numpy as np\n",
    "import pandas as pd\n",
    "import matplotlib.pyplot as plt\n",
    "import torch"
   ]
  },
  {
   "cell_type": "code",
   "execution_count": 10,
   "metadata": {},
   "outputs": [],
   "source": [
    "#cu111  cuda 11"
   ]
  },
  {
   "cell_type": "code",
   "execution_count": 12,
   "metadata": {},
   "outputs": [],
   "source": [
    "## introduction to tensors\n",
    "## main building block of the data"
   ]
  },
  {
   "cell_type": "code",
   "execution_count": 13,
   "metadata": {},
   "outputs": [],
   "source": [
    "#multidimentional data"
   ]
  },
  {
   "cell_type": "code",
   "execution_count": 14,
   "metadata": {},
   "outputs": [],
   "source": [
    "# creating the tensor"
   ]
  },
  {
   "cell_type": "code",
   "execution_count": 15,
   "metadata": {},
   "outputs": [],
   "source": [
    "#scaler"
   ]
  },
  {
   "cell_type": "code",
   "execution_count": 16,
   "metadata": {},
   "outputs": [],
   "source": [
    "scaler=torch.tensor(7)"
   ]
  },
  {
   "cell_type": "code",
   "execution_count": 17,
   "metadata": {},
   "outputs": [
    {
     "data": {
      "text/plain": [
       "tensor(7)"
      ]
     },
     "execution_count": 17,
     "metadata": {},
     "output_type": "execute_result"
    }
   ],
   "source": [
    "scaler"
   ]
  },
  {
   "cell_type": "code",
   "execution_count": 19,
   "metadata": {},
   "outputs": [
    {
     "data": {
      "text/plain": [
       "torch.Tensor"
      ]
     },
     "execution_count": 19,
     "metadata": {},
     "output_type": "execute_result"
    }
   ],
   "source": [
    "type(scaler)"
   ]
  },
  {
   "cell_type": "code",
   "execution_count": 20,
   "metadata": {},
   "outputs": [
    {
     "data": {
      "text/plain": [
       "torch.Tensor"
      ]
     },
     "execution_count": 20,
     "metadata": {},
     "output_type": "execute_result"
    }
   ],
   "source": [
    "torch.Tensor"
   ]
  },
  {
   "cell_type": "code",
   "execution_count": 21,
   "metadata": {},
   "outputs": [
    {
     "data": {
      "text/plain": [
       "tensor(10.4000)"
      ]
     },
     "execution_count": 21,
     "metadata": {},
     "output_type": "execute_result"
    }
   ],
   "source": [
    "torch.tensor(10.4)"
   ]
  },
  {
   "cell_type": "code",
   "execution_count": 22,
   "metadata": {},
   "outputs": [],
   "source": [
    "mat=torch.tensor([[1,2,3],[4,5,6]])"
   ]
  },
  {
   "cell_type": "code",
   "execution_count": 23,
   "metadata": {},
   "outputs": [
    {
     "data": {
      "text/plain": [
       "tensor([[1, 2, 3],\n",
       "        [4, 5, 6]])"
      ]
     },
     "execution_count": 23,
     "metadata": {},
     "output_type": "execute_result"
    }
   ],
   "source": [
    "mat"
   ]
  },
  {
   "cell_type": "code",
   "execution_count": 25,
   "metadata": {},
   "outputs": [
    {
     "data": {
      "text/plain": [
       "0"
      ]
     },
     "execution_count": 25,
     "metadata": {},
     "output_type": "execute_result"
    }
   ],
   "source": [
    "scaler.ndim\n",
    "#they are tensor domentions not wrt to the matrices"
   ]
  },
  {
   "cell_type": "code",
   "execution_count": 26,
   "metadata": {},
   "outputs": [
    {
     "data": {
      "text/plain": [
       "2"
      ]
     },
     "execution_count": 26,
     "metadata": {},
     "output_type": "execute_result"
    }
   ],
   "source": [
    "mat.ndim"
   ]
  },
  {
   "cell_type": "code",
   "execution_count": 27,
   "metadata": {},
   "outputs": [],
   "source": [
    "vec=torch.tensor([1,2,3])"
   ]
  },
  {
   "cell_type": "code",
   "execution_count": 28,
   "metadata": {},
   "outputs": [
    {
     "data": {
      "text/plain": [
       "1"
      ]
     },
     "execution_count": 28,
     "metadata": {},
     "output_type": "execute_result"
    }
   ],
   "source": [
    "vec.ndim"
   ]
  },
  {
   "cell_type": "code",
   "execution_count": 29,
   "metadata": {},
   "outputs": [],
   "source": [
    "#scaler tensor 0\n",
    "#vector tensor 1\n",
    "#2-d array tensor 2"
   ]
  },
  {
   "cell_type": "code",
   "execution_count": 30,
   "metadata": {},
   "outputs": [
    {
     "data": {
      "text/plain": [
       "7"
      ]
     },
     "execution_count": 30,
     "metadata": {},
     "output_type": "execute_result"
    }
   ],
   "source": [
    "scaler.item()"
   ]
  },
  {
   "cell_type": "code",
   "execution_count": 32,
   "metadata": {},
   "outputs": [
    {
     "data": {
      "text/plain": [
       "tensor([[1, 2, 3],\n",
       "        [4, 5, 6]])"
      ]
     },
     "execution_count": 32,
     "metadata": {},
     "output_type": "execute_result"
    }
   ],
   "source": [
    "mat"
   ]
  },
  {
   "cell_type": "code",
   "execution_count": 33,
   "metadata": {},
   "outputs": [],
   "source": [
    "vector=torch.tensor([7,7])"
   ]
  },
  {
   "cell_type": "code",
   "execution_count": 34,
   "metadata": {},
   "outputs": [
    {
     "data": {
      "text/plain": [
       "tensor([7, 7])"
      ]
     },
     "execution_count": 34,
     "metadata": {},
     "output_type": "execute_result"
    }
   ],
   "source": [
    "vector"
   ]
  },
  {
   "cell_type": "code",
   "execution_count": 35,
   "metadata": {},
   "outputs": [
    {
     "data": {
      "text/plain": [
       "1"
      ]
     },
     "execution_count": 35,
     "metadata": {},
     "output_type": "execute_result"
    }
   ],
   "source": [
    "vector.ndim"
   ]
  },
  {
   "cell_type": "code",
   "execution_count": 36,
   "metadata": {},
   "outputs": [
    {
     "data": {
      "text/plain": [
       "2"
      ]
     },
     "execution_count": 36,
     "metadata": {},
     "output_type": "execute_result"
    }
   ],
   "source": [
    "mat.ndim"
   ]
  },
  {
   "cell_type": "code",
   "execution_count": 37,
   "metadata": {},
   "outputs": [
    {
     "data": {
      "text/plain": [
       "torch.Size([2])"
      ]
     },
     "execution_count": 37,
     "metadata": {},
     "output_type": "execute_result"
    }
   ],
   "source": [
    "vector.shape"
   ]
  },
  {
   "cell_type": "code",
   "execution_count": 39,
   "metadata": {},
   "outputs": [
    {
     "data": {
      "text/plain": [
       "torch.Size([2])"
      ]
     },
     "execution_count": 39,
     "metadata": {},
     "output_type": "execute_result"
    }
   ],
   "source": [
    "vector.size()"
   ]
  },
  {
   "cell_type": "code",
   "execution_count": 40,
   "metadata": {},
   "outputs": [
    {
     "data": {
      "text/plain": [
       "torch.Size([2, 3])"
      ]
     },
     "execution_count": 40,
     "metadata": {},
     "output_type": "execute_result"
    }
   ],
   "source": [
    "mat.size()"
   ]
  },
  {
   "cell_type": "code",
   "execution_count": 41,
   "metadata": {},
   "outputs": [
    {
     "data": {
      "text/plain": [
       "tensor([[1, 2, 3],\n",
       "        [4, 5, 6]])"
      ]
     },
     "execution_count": 41,
     "metadata": {},
     "output_type": "execute_result"
    }
   ],
   "source": [
    "mat"
   ]
  },
  {
   "cell_type": "code",
   "execution_count": 42,
   "metadata": {},
   "outputs": [
    {
     "data": {
      "text/plain": [
       "2"
      ]
     },
     "execution_count": 42,
     "metadata": {},
     "output_type": "execute_result"
    }
   ],
   "source": [
    "mat.ndim"
   ]
  },
  {
   "cell_type": "code",
   "execution_count": 43,
   "metadata": {},
   "outputs": [
    {
     "data": {
      "text/plain": [
       "tensor([1, 2, 3])"
      ]
     },
     "execution_count": 43,
     "metadata": {},
     "output_type": "execute_result"
    }
   ],
   "source": [
    "mat[0]"
   ]
  },
  {
   "cell_type": "code",
   "execution_count": 44,
   "metadata": {},
   "outputs": [
    {
     "data": {
      "text/plain": [
       "tensor(1)"
      ]
     },
     "execution_count": 44,
     "metadata": {},
     "output_type": "execute_result"
    }
   ],
   "source": [
    "mat[0][0]"
   ]
  },
  {
   "cell_type": "code",
   "execution_count": 45,
   "metadata": {},
   "outputs": [
    {
     "data": {
      "text/plain": [
       "tensor([4, 5, 6])"
      ]
     },
     "execution_count": 45,
     "metadata": {},
     "output_type": "execute_result"
    }
   ],
   "source": [
    "mat[1]"
   ]
  },
  {
   "cell_type": "code",
   "execution_count": 49,
   "metadata": {},
   "outputs": [
    {
     "data": {
      "text/plain": [
       "torch.Size([2, 3])"
      ]
     },
     "execution_count": 49,
     "metadata": {},
     "output_type": "execute_result"
    }
   ],
   "source": [
    "mat.shape"
   ]
  },
  {
   "cell_type": "code",
   "execution_count": 50,
   "metadata": {},
   "outputs": [
    {
     "data": {
      "text/plain": [
       "torch.Size([2, 3])"
      ]
     },
     "execution_count": 50,
     "metadata": {},
     "output_type": "execute_result"
    }
   ],
   "source": [
    "mat.size()"
   ]
  },
  {
   "cell_type": "code",
   "execution_count": 52,
   "metadata": {},
   "outputs": [
    {
     "data": {
      "text/plain": [
       "3"
      ]
     },
     "execution_count": 52,
     "metadata": {},
     "output_type": "execute_result"
    }
   ],
   "source": [
    "mat.shape[1]"
   ]
  },
  {
   "cell_type": "markdown",
   "metadata": {},
   "source": [
    "TENSOR=torch.tensor([[[1,2,3],[4,5,6]],[[7,8,9],[10,11,12]]]"
   ]
  },
  {
   "cell_type": "code",
   "execution_count": 54,
   "metadata": {},
   "outputs": [],
   "source": [
    "TENSOR=torch.tensor([[[1,2,3],[4,5,6]],[[7,8,9],[10,11,12]]])"
   ]
  },
  {
   "cell_type": "code",
   "execution_count": 55,
   "metadata": {},
   "outputs": [
    {
     "data": {
      "text/plain": [
       "tensor([[[ 1,  2,  3],\n",
       "         [ 4,  5,  6]],\n",
       "\n",
       "        [[ 7,  8,  9],\n",
       "         [10, 11, 12]]])"
      ]
     },
     "execution_count": 55,
     "metadata": {},
     "output_type": "execute_result"
    }
   ],
   "source": [
    "TENSOR\n"
   ]
  },
  {
   "cell_type": "code",
   "execution_count": 56,
   "metadata": {},
   "outputs": [
    {
     "data": {
      "text/plain": [
       "3"
      ]
     },
     "execution_count": 56,
     "metadata": {},
     "output_type": "execute_result"
    }
   ],
   "source": [
    "TENSOR.ndim"
   ]
  },
  {
   "cell_type": "code",
   "execution_count": 57,
   "metadata": {},
   "outputs": [
    {
     "data": {
      "text/plain": [
       "torch.Size([2, 2, 3])"
      ]
     },
     "execution_count": 57,
     "metadata": {},
     "output_type": "execute_result"
    }
   ],
   "source": [
    "TENSOR.shape"
   ]
  },
  {
   "cell_type": "code",
   "execution_count": 59,
   "metadata": {},
   "outputs": [
    {
     "data": {
      "text/plain": [
       "torch.Size([2, 2, 3])"
      ]
     },
     "execution_count": 59,
     "metadata": {},
     "output_type": "execute_result"
    }
   ],
   "source": [
    "TENSOR.size()"
   ]
  },
  {
   "cell_type": "code",
   "execution_count": 60,
   "metadata": {},
   "outputs": [
    {
     "data": {
      "text/plain": [
       "tensor([[1, 2, 3],\n",
       "        [4, 5, 6]])"
      ]
     },
     "execution_count": 60,
     "metadata": {},
     "output_type": "execute_result"
    }
   ],
   "source": [
    "TENSOR[0]"
   ]
  },
  {
   "cell_type": "code",
   "execution_count": 61,
   "metadata": {},
   "outputs": [
    {
     "data": {
      "text/plain": [
       "tensor([[ 7,  8,  9],\n",
       "        [10, 11, 12]])"
      ]
     },
     "execution_count": 61,
     "metadata": {},
     "output_type": "execute_result"
    }
   ],
   "source": [
    "TENSOR[1]"
   ]
  },
  {
   "cell_type": "code",
   "execution_count": 62,
   "metadata": {},
   "outputs": [
    {
     "data": {
      "text/plain": [
       "torch.Size([2, 2, 3])"
      ]
     },
     "execution_count": 62,
     "metadata": {},
     "output_type": "execute_result"
    }
   ],
   "source": [
    "TENSOR.shape"
   ]
  },
  {
   "cell_type": "code",
   "execution_count": 63,
   "metadata": {},
   "outputs": [],
   "source": [
    "#the above means two 2*3 matrices"
   ]
  },
  {
   "cell_type": "code",
   "execution_count": 64,
   "metadata": {},
   "outputs": [],
   "source": [
    "#now lets see about the generating the random values of the tensors"
   ]
  },
  {
   "cell_type": "code",
   "execution_count": 65,
   "metadata": {},
   "outputs": [
    {
     "data": {
      "text/plain": [
       "torch.Size([2, 2, 3])"
      ]
     },
     "execution_count": 65,
     "metadata": {},
     "output_type": "execute_result"
    }
   ],
   "source": [
    "TENSOR.shape"
   ]
  },
  {
   "cell_type": "code",
   "execution_count": 66,
   "metadata": {},
   "outputs": [],
   "source": [
    "#generally scalers and vectors will be a lower case and matrices and tensors will be the uppercase"
   ]
  },
  {
   "cell_type": "code",
   "execution_count": 67,
   "metadata": {},
   "outputs": [],
   "source": [
    "### Random tensors"
   ]
  },
  {
   "cell_type": "markdown",
   "metadata": {},
   "source": [
    "# random tensors were iportant were important as many neural networks learn from the random numbers and learn grom the data but they \n",
    "start with the random numbers and update them with the algorithm"
   ]
  },
  {
   "cell_type": "code",
   "execution_count": 68,
   "metadata": {},
   "outputs": [],
   "source": [
    "#random tensor of size(3,4)"
   ]
  },
  {
   "cell_type": "code",
   "execution_count": 69,
   "metadata": {},
   "outputs": [],
   "source": [
    "random=torch.rand(3,4)"
   ]
  },
  {
   "cell_type": "code",
   "execution_count": 70,
   "metadata": {},
   "outputs": [
    {
     "data": {
      "text/plain": [
       "tensor([[0.2583, 0.1805, 0.7388, 0.0761],\n",
       "        [0.5142, 0.2955, 0.3835, 0.2685],\n",
       "        [0.7492, 0.4500, 0.6631, 0.5342]])"
      ]
     },
     "execution_count": 70,
     "metadata": {},
     "output_type": "execute_result"
    }
   ],
   "source": [
    "random"
   ]
  },
  {
   "cell_type": "code",
   "execution_count": 71,
   "metadata": {},
   "outputs": [
    {
     "data": {
      "text/plain": [
       "2"
      ]
     },
     "execution_count": 71,
     "metadata": {},
     "output_type": "execute_result"
    }
   ],
   "source": [
    "random.ndim"
   ]
  },
  {
   "cell_type": "code",
   "execution_count": 81,
   "metadata": {},
   "outputs": [],
   "source": [
    "r=torch.rand(3)"
   ]
  },
  {
   "cell_type": "code",
   "execution_count": 82,
   "metadata": {},
   "outputs": [
    {
     "data": {
      "text/plain": [
       "tensor([0.6410, 0.1908, 0.3557])"
      ]
     },
     "execution_count": 82,
     "metadata": {},
     "output_type": "execute_result"
    }
   ],
   "source": [
    "r"
   ]
  },
  {
   "cell_type": "code",
   "execution_count": 83,
   "metadata": {},
   "outputs": [],
   "source": [
    "newrandom=torch.rand(2,10,10)"
   ]
  },
  {
   "cell_type": "raw",
   "metadata": {},
   "source": [
    "## new random number/\n"
   ]
  },
  {
   "cell_type": "code",
   "execution_count": 84,
   "metadata": {},
   "outputs": [
    {
     "data": {
      "text/plain": [
       "tensor([[[0.7048, 0.8654, 0.4916, 0.2396, 0.2061, 0.6574, 0.3809, 0.4269,\n",
       "          0.7503, 0.5258],\n",
       "         [0.2861, 0.3411, 0.0660, 0.3091, 0.9602, 0.8272, 0.1463, 0.6438,\n",
       "          0.1589, 0.0442],\n",
       "         [0.2756, 0.8192, 0.3820, 0.3183, 0.4832, 0.3109, 0.9177, 0.8982,\n",
       "          0.0172, 0.6019],\n",
       "         [0.0086, 0.2290, 0.6829, 0.8495, 0.9185, 0.4671, 0.7706, 0.7973,\n",
       "          0.1466, 0.1370],\n",
       "         [0.8102, 0.4159, 0.3651, 0.6930, 0.0381, 0.6225, 0.3388, 0.4149,\n",
       "          0.0726, 0.1909],\n",
       "         [0.7454, 0.1836, 0.8441, 0.7360, 0.5939, 0.0437, 0.0032, 0.4971,\n",
       "          0.6312, 0.5858],\n",
       "         [0.1728, 0.6873, 0.5671, 0.0459, 0.8481, 0.8622, 0.2926, 0.1976,\n",
       "          0.6033, 0.8729],\n",
       "         [0.4741, 0.7785, 0.5430, 0.2162, 0.2137, 0.5468, 0.5796, 0.7495,\n",
       "          0.2893, 0.3149],\n",
       "         [0.9749, 0.9710, 0.0483, 0.7976, 0.0574, 0.2234, 0.9168, 0.8292,\n",
       "          0.4808, 0.0180],\n",
       "         [0.4321, 0.3922, 0.9456, 0.4680, 0.8734, 0.2893, 0.4081, 0.2402,\n",
       "          0.0699, 0.5366]],\n",
       "\n",
       "        [[0.5436, 0.9079, 0.5006, 0.6850, 0.2284, 0.0368, 0.7197, 0.2272,\n",
       "          0.2828, 0.1227],\n",
       "         [0.8192, 0.7790, 0.4172, 0.5706, 0.1429, 0.2227, 0.4204, 0.3833,\n",
       "          0.7837, 0.0655],\n",
       "         [0.0055, 0.0038, 0.1277, 0.4231, 0.5038, 0.6221, 0.0619, 0.9357,\n",
       "          0.9256, 0.0239],\n",
       "         [0.9270, 0.0704, 0.4547, 0.2925, 0.7973, 0.9389, 0.2245, 0.8866,\n",
       "          0.7053, 0.0349],\n",
       "         [0.6305, 0.2585, 0.1217, 0.8906, 0.7348, 0.7078, 0.5133, 0.1556,\n",
       "          0.4122, 0.5069],\n",
       "         [0.4676, 0.2390, 0.2789, 0.1652, 0.3588, 0.9983, 0.7554, 0.0492,\n",
       "          0.9315, 0.4141],\n",
       "         [0.3165, 0.2683, 0.2636, 0.8915, 0.5693, 0.4306, 0.8147, 0.6434,\n",
       "          0.4369, 0.9685],\n",
       "         [0.8118, 0.2324, 0.3962, 0.6057, 0.3576, 0.7057, 0.0796, 0.5890,\n",
       "          0.1963, 0.2592],\n",
       "         [0.3912, 0.4260, 0.0880, 0.4953, 0.1325, 0.9758, 0.3517, 0.5822,\n",
       "          0.6633, 0.1457],\n",
       "         [0.0074, 0.2192, 0.6237, 0.8162, 0.2025, 0.4512, 0.9329, 0.9986,\n",
       "          0.5735, 0.3095]]])"
      ]
     },
     "execution_count": 84,
     "metadata": {},
     "output_type": "execute_result"
    }
   ],
   "source": [
    "newrandom"
   ]
  },
  {
   "cell_type": "code",
   "execution_count": 86,
   "metadata": {},
   "outputs": [],
   "source": [
    "sample=torch.rand(10,10,10)"
   ]
  },
  {
   "cell_type": "code",
   "execution_count": 87,
   "metadata": {},
   "outputs": [
    {
     "data": {
      "text/plain": [
       "tensor([[[5.1472e-01, 2.5805e-02, 5.4707e-01, 6.2110e-01, 1.1825e-01,\n",
       "          5.3945e-01, 7.5378e-01, 6.7925e-01, 9.7352e-01, 9.2949e-01],\n",
       "         [4.8783e-01, 8.4549e-01, 4.0712e-01, 7.9160e-01, 3.4946e-01,\n",
       "          2.1775e-01, 2.1885e-01, 6.9305e-01, 7.4716e-01, 9.1792e-01],\n",
       "         [3.4621e-02, 5.5566e-01, 4.2954e-01, 9.3969e-01, 7.8920e-01,\n",
       "          8.0863e-01, 7.1033e-01, 1.5564e-02, 7.4295e-01, 1.9301e-01],\n",
       "         [7.8526e-01, 5.4490e-01, 7.4616e-02, 7.5142e-01, 5.2790e-01,\n",
       "          2.7982e-01, 9.7616e-01, 2.9490e-01, 2.6170e-01, 2.1441e-01],\n",
       "         [5.5139e-01, 3.3884e-01, 7.4070e-01, 1.0468e-01, 3.8177e-01,\n",
       "          7.7207e-01, 2.4107e-01, 5.4333e-01, 5.7357e-01, 1.5901e-01],\n",
       "         [9.3245e-01, 2.8027e-01, 6.6386e-01, 7.8721e-01, 5.8313e-01,\n",
       "          3.2406e-01, 2.3883e-01, 7.3059e-01, 9.3329e-01, 8.5513e-01],\n",
       "         [8.1436e-01, 1.9912e-01, 6.5204e-01, 6.6144e-02, 5.4443e-01,\n",
       "          9.8518e-01, 1.0987e-01, 7.9214e-01, 6.4263e-01, 4.2096e-01],\n",
       "         [8.5821e-01, 3.4959e-01, 8.2469e-01, 9.4590e-01, 8.9463e-01,\n",
       "          9.9228e-01, 6.1118e-01, 5.7166e-01, 9.2427e-01, 5.0462e-01],\n",
       "         [9.1975e-01, 7.1257e-01, 8.9006e-01, 5.6361e-01, 1.5067e-01,\n",
       "          5.6315e-01, 4.6843e-01, 9.1269e-01, 9.5766e-01, 8.3712e-01],\n",
       "         [9.0568e-01, 9.3357e-01, 8.4610e-02, 4.8264e-01, 9.5873e-01,\n",
       "          5.7465e-02, 9.5871e-01, 4.2775e-01, 8.3494e-01, 5.6391e-01]],\n",
       "\n",
       "        [[5.9505e-01, 5.7573e-01, 8.5766e-01, 7.2468e-01, 5.5365e-01,\n",
       "          8.7272e-01, 6.3535e-01, 2.4161e-01, 3.9396e-01, 1.7867e-01],\n",
       "         [1.9647e-01, 9.2446e-01, 6.1143e-01, 7.1207e-01, 5.2154e-01,\n",
       "          7.6811e-01, 6.7681e-01, 4.4255e-01, 8.0714e-01, 7.3704e-02],\n",
       "         [1.0399e-01, 9.3389e-01, 3.7087e-01, 7.2617e-01, 4.6887e-01,\n",
       "          2.6968e-01, 3.9378e-01, 4.0186e-02, 1.1536e-01, 4.5435e-01],\n",
       "         [1.7155e-01, 6.3438e-01, 3.0669e-01, 6.3993e-01, 1.1417e-01,\n",
       "          9.0077e-01, 9.7609e-02, 6.4281e-01, 9.7915e-02, 6.7776e-01],\n",
       "         [1.9828e-02, 4.2134e-01, 1.7056e-01, 3.9528e-01, 4.6343e-01,\n",
       "          7.2059e-01, 9.2985e-02, 6.1493e-01, 3.0143e-01, 3.8861e-02],\n",
       "         [5.4577e-01, 6.6657e-01, 6.2880e-03, 2.1705e-01, 9.1062e-01,\n",
       "          7.3970e-01, 6.5073e-01, 9.0622e-01, 4.6402e-01, 5.6890e-01],\n",
       "         [9.4300e-01, 4.8218e-01, 3.4954e-01, 2.9829e-01, 5.2414e-01,\n",
       "          9.3422e-01, 7.8159e-01, 5.3551e-01, 6.5342e-01, 5.4810e-01],\n",
       "         [7.4949e-01, 2.6086e-01, 5.1457e-01, 1.2499e-01, 7.6277e-01,\n",
       "          3.9369e-01, 3.3309e-01, 7.5309e-01, 3.7934e-01, 2.2819e-01],\n",
       "         [5.1492e-01, 2.1433e-01, 8.0919e-01, 5.8088e-01, 8.3120e-01,\n",
       "          4.6237e-01, 2.6197e-01, 3.4917e-01, 3.4327e-01, 7.0556e-01],\n",
       "         [6.0040e-01, 5.3180e-01, 6.6545e-01, 7.5408e-01, 4.3384e-01,\n",
       "          9.6146e-01, 9.8025e-01, 4.1360e-01, 1.3695e-01, 2.8934e-01]],\n",
       "\n",
       "        [[3.4166e-01, 1.0999e-01, 3.2988e-01, 8.4728e-01, 4.6939e-01,\n",
       "          3.8608e-01, 6.4686e-01, 4.6546e-02, 6.7560e-01, 8.1503e-01],\n",
       "         [1.3076e-01, 3.1307e-01, 5.7276e-01, 7.9697e-01, 2.5963e-03,\n",
       "          4.0418e-01, 2.1025e-01, 5.4826e-01, 3.6460e-01, 5.8051e-01],\n",
       "         [8.2876e-01, 4.2121e-02, 1.1393e-01, 7.1157e-01, 6.9342e-01,\n",
       "          3.9140e-01, 2.1072e-01, 4.3783e-01, 6.3294e-01, 5.1251e-01],\n",
       "         [5.9773e-01, 2.4498e-02, 9.2685e-01, 8.3262e-01, 4.1510e-01,\n",
       "          6.1166e-01, 9.1644e-02, 8.6561e-01, 4.9368e-01, 8.9425e-01],\n",
       "         [9.5259e-01, 1.4352e-01, 4.9701e-01, 6.0596e-01, 9.6633e-01,\n",
       "          4.3944e-01, 4.1709e-01, 6.2613e-01, 8.5138e-01, 8.2409e-02],\n",
       "         [8.5009e-01, 3.0948e-01, 2.8765e-01, 7.9781e-01, 5.8481e-02,\n",
       "          6.7118e-02, 8.7374e-02, 1.7226e-02, 4.1761e-01, 3.5822e-01],\n",
       "         [4.0560e-01, 8.8889e-01, 9.6830e-01, 2.5514e-01, 5.0257e-01,\n",
       "          8.3268e-01, 9.1911e-01, 7.8030e-02, 6.5763e-01, 9.8380e-01],\n",
       "         [9.5947e-01, 8.0133e-01, 3.1170e-01, 6.0331e-01, 4.4901e-01,\n",
       "          9.6742e-01, 9.2720e-01, 8.9048e-01, 3.0470e-01, 6.8286e-01],\n",
       "         [4.8383e-01, 4.2004e-02, 3.6173e-01, 4.1642e-01, 5.6561e-01,\n",
       "          2.4545e-01, 9.6217e-01, 1.0307e-01, 2.4359e-01, 8.5435e-02],\n",
       "         [8.5615e-01, 9.3734e-01, 5.2062e-02, 4.1676e-01, 3.9870e-01,\n",
       "          1.4509e-01, 5.2733e-01, 4.9589e-02, 7.3283e-01, 1.3608e-01]],\n",
       "\n",
       "        [[9.5435e-01, 3.4888e-01, 2.2081e-01, 5.1944e-01, 4.4458e-01,\n",
       "          2.5277e-01, 8.0879e-01, 8.4120e-01, 2.6915e-01, 9.8883e-01],\n",
       "         [7.8552e-01, 2.4397e-02, 9.9085e-01, 8.8606e-02, 1.9665e-01,\n",
       "          9.8349e-01, 4.5346e-02, 5.3858e-01, 6.6800e-01, 1.8686e-01],\n",
       "         [7.7154e-01, 7.3963e-01, 8.6645e-01, 8.5693e-01, 2.8558e-01,\n",
       "          6.0233e-01, 5.9871e-01, 5.9699e-01, 1.8414e-01, 8.6501e-01],\n",
       "         [5.7959e-01, 8.1697e-02, 9.0900e-01, 2.5505e-01, 4.5664e-01,\n",
       "          8.1932e-02, 3.1449e-01, 4.0596e-01, 8.9094e-01, 3.4222e-02],\n",
       "         [1.0054e-01, 9.5053e-01, 9.4427e-01, 3.3117e-01, 5.6123e-01,\n",
       "          1.0365e-01, 9.4833e-01, 6.1389e-01, 7.1486e-01, 5.0057e-01],\n",
       "         [1.7593e-01, 4.4031e-01, 3.5517e-01, 1.8701e-02, 7.9503e-01,\n",
       "          2.1595e-01, 8.5365e-02, 8.3418e-01, 8.8972e-01, 3.7588e-01],\n",
       "         [8.4385e-01, 8.7823e-01, 8.8151e-01, 8.2669e-01, 1.3651e-01,\n",
       "          5.0439e-01, 3.3920e-01, 7.9258e-01, 8.8793e-02, 8.0929e-01],\n",
       "         [2.4511e-01, 8.7553e-01, 8.8058e-01, 1.9514e-01, 5.1151e-02,\n",
       "          3.7418e-01, 5.8672e-01, 9.8618e-02, 1.9488e-01, 8.9076e-01],\n",
       "         [4.4066e-01, 6.5544e-01, 1.7969e-01, 3.0637e-01, 7.8840e-01,\n",
       "          5.0509e-01, 6.4691e-01, 1.0528e-01, 8.5161e-01, 6.0644e-01],\n",
       "         [7.1019e-01, 9.6933e-02, 1.4797e-01, 1.5395e-01, 8.6843e-01,\n",
       "          4.9932e-01, 7.2111e-02, 5.9485e-01, 2.7693e-01, 8.6903e-01]],\n",
       "\n",
       "        [[6.5634e-01, 6.9956e-01, 4.9783e-01, 8.3364e-01, 4.2026e-01,\n",
       "          1.4634e-01, 5.5558e-02, 4.6632e-01, 6.2743e-01, 9.8990e-01],\n",
       "         [3.3172e-01, 4.0339e-01, 1.1806e-01, 6.9193e-01, 9.0008e-01,\n",
       "          7.5239e-01, 7.9231e-01, 6.9762e-01, 6.1263e-01, 8.5538e-01],\n",
       "         [2.3812e-01, 5.5064e-01, 3.2557e-01, 6.1610e-01, 8.3513e-01,\n",
       "          7.2735e-01, 9.6869e-01, 7.2949e-02, 2.1845e-01, 9.5964e-01],\n",
       "         [4.1550e-01, 2.3809e-01, 1.9905e-01, 8.9709e-01, 9.5928e-01,\n",
       "          2.4745e-01, 8.3844e-01, 5.9360e-01, 6.1779e-01, 3.0939e-01],\n",
       "         [9.2429e-02, 6.7217e-01, 9.2813e-01, 6.7332e-01, 9.0444e-01,\n",
       "          6.9173e-01, 6.8007e-01, 5.9761e-01, 1.7912e-01, 3.4081e-01],\n",
       "         [1.3208e-01, 9.9748e-01, 6.2172e-01, 5.4166e-01, 2.1087e-01,\n",
       "          4.8117e-01, 1.9362e-01, 6.4170e-01, 1.8855e-01, 1.7146e-01],\n",
       "         [7.6360e-01, 3.7989e-01, 1.3639e-01, 2.1114e-01, 8.3798e-01,\n",
       "          2.7111e-01, 5.3031e-01, 5.1051e-01, 5.0985e-01, 5.8761e-01],\n",
       "         [1.3513e-01, 4.7276e-02, 7.2272e-01, 7.5752e-01, 8.0959e-01,\n",
       "          6.0978e-01, 9.0660e-01, 2.6977e-01, 4.6251e-01, 7.4240e-01],\n",
       "         [9.8222e-01, 2.4711e-01, 3.8509e-01, 4.1619e-01, 5.6575e-01,\n",
       "          6.3245e-01, 4.6513e-01, 6.5603e-01, 9.1702e-01, 7.2278e-01],\n",
       "         [1.1333e-01, 7.4343e-01, 1.8043e-01, 2.2439e-01, 3.2967e-01,\n",
       "          5.0625e-01, 2.7855e-01, 2.4211e-01, 8.7135e-01, 4.8796e-01]],\n",
       "\n",
       "        [[7.7644e-01, 1.8246e-01, 9.4948e-01, 3.4303e-01, 8.0711e-01,\n",
       "          8.3899e-01, 7.9645e-01, 6.3656e-01, 9.0480e-01, 6.6641e-01],\n",
       "         [9.2384e-01, 9.9577e-01, 8.9979e-04, 3.1441e-01, 4.7849e-01,\n",
       "          6.8750e-01, 4.3445e-01, 9.5867e-01, 2.8502e-01, 2.8864e-01],\n",
       "         [1.5046e-01, 7.8785e-02, 6.0104e-01, 2.8929e-01, 1.0002e-01,\n",
       "          9.7999e-01, 5.8113e-01, 2.4824e-01, 2.3023e-01, 5.0357e-01],\n",
       "         [3.4164e-01, 5.9709e-01, 1.1270e-01, 2.0331e-01, 7.8601e-01,\n",
       "          1.8601e-01, 2.8906e-01, 8.6682e-01, 5.0786e-01, 6.4872e-01],\n",
       "         [9.4223e-01, 8.5502e-01, 8.5338e-01, 7.4623e-01, 7.1055e-01,\n",
       "          6.7217e-01, 2.2519e-01, 3.3064e-02, 8.2387e-01, 4.0297e-01],\n",
       "         [1.2542e-01, 4.9088e-01, 1.9858e-01, 8.5288e-01, 3.0669e-01,\n",
       "          1.6935e-01, 2.6341e-01, 4.3495e-01, 8.3701e-02, 2.8239e-01],\n",
       "         [3.2918e-01, 7.3738e-01, 7.6839e-01, 4.4813e-01, 5.6006e-01,\n",
       "          8.0706e-01, 1.5253e-01, 7.6086e-01, 4.4309e-02, 7.4153e-01],\n",
       "         [3.2598e-02, 6.9847e-01, 5.2908e-02, 5.4517e-02, 2.6448e-02,\n",
       "          4.5471e-02, 5.5221e-01, 1.5311e-01, 7.0035e-02, 4.9217e-01],\n",
       "         [8.0205e-01, 6.8973e-01, 6.7602e-01, 8.8077e-01, 4.8211e-02,\n",
       "          6.7442e-01, 8.1284e-01, 6.1888e-01, 3.3662e-01, 9.0792e-01],\n",
       "         [3.7343e-01, 1.3104e-01, 7.3121e-03, 9.3137e-01, 2.5337e-01,\n",
       "          3.5705e-01, 1.9403e-01, 9.5180e-01, 4.7893e-02, 1.0703e-01]],\n",
       "\n",
       "        [[4.9788e-01, 6.1731e-01, 6.1068e-01, 9.2479e-01, 1.2309e-01,\n",
       "          5.1776e-01, 8.8992e-01, 6.8053e-01, 1.8293e-01, 9.0039e-01],\n",
       "         [8.5459e-01, 8.7166e-02, 2.7701e-01, 4.9897e-01, 9.6179e-01,\n",
       "          2.2157e-01, 1.9506e-01, 5.5636e-01, 5.1912e-01, 7.7829e-01],\n",
       "         [6.6258e-01, 7.2957e-01, 9.7626e-01, 2.7954e-01, 4.9156e-01,\n",
       "          6.1330e-01, 2.4064e-01, 4.7778e-01, 5.1143e-01, 1.6209e-01],\n",
       "         [6.6835e-01, 4.0922e-01, 6.1971e-01, 6.2066e-01, 1.2938e-01,\n",
       "          2.9951e-01, 5.1694e-01, 4.2450e-01, 5.0125e-01, 2.7417e-01],\n",
       "         [7.5405e-01, 6.2409e-01, 1.0129e-01, 1.9444e-02, 4.6045e-01,\n",
       "          1.1476e-01, 7.4833e-01, 6.6384e-01, 1.3005e-01, 6.9095e-01],\n",
       "         [9.2315e-01, 3.6733e-01, 5.1796e-01, 5.0407e-02, 2.4543e-01,\n",
       "          4.9675e-01, 6.9975e-01, 9.9062e-02, 7.4956e-01, 3.4789e-01],\n",
       "         [8.2085e-01, 6.1550e-01, 7.1737e-01, 3.0044e-01, 4.1380e-01,\n",
       "          3.7713e-01, 1.2663e-01, 6.7026e-01, 6.3292e-01, 6.9773e-02],\n",
       "         [7.1915e-01, 7.3415e-02, 6.8221e-01, 5.3629e-01, 3.4234e-02,\n",
       "          1.6669e-01, 3.0749e-01, 2.0968e-01, 5.7181e-02, 1.6933e-01],\n",
       "         [8.4071e-01, 1.3617e-01, 7.9576e-01, 3.2597e-01, 7.0808e-02,\n",
       "          4.6905e-02, 9.4197e-01, 3.9339e-01, 8.6474e-01, 7.5771e-01],\n",
       "         [6.3051e-01, 4.1975e-01, 4.1186e-01, 9.1102e-01, 6.7790e-01,\n",
       "          8.1092e-01, 2.5567e-01, 9.0294e-02, 3.2672e-01, 6.6427e-01]],\n",
       "\n",
       "        [[1.4214e-01, 9.2715e-01, 3.1146e-01, 5.7274e-04, 7.7090e-02,\n",
       "          1.5772e-01, 6.2376e-01, 7.9672e-01, 6.8254e-01, 1.6282e-01],\n",
       "         [2.1938e-01, 6.1687e-01, 9.7636e-01, 3.6017e-01, 1.2283e-01,\n",
       "          9.3605e-01, 9.2245e-01, 5.6552e-01, 2.7322e-01, 9.6289e-01],\n",
       "         [3.2785e-01, 6.3052e-01, 5.3259e-01, 3.3628e-01, 9.4631e-01,\n",
       "          5.4217e-01, 8.9613e-01, 5.1603e-01, 1.7177e-01, 4.9493e-02],\n",
       "         [3.7092e-01, 8.7145e-01, 5.1145e-01, 2.2243e-01, 7.7963e-02,\n",
       "          8.9421e-01, 9.0033e-01, 4.5761e-01, 4.7942e-01, 9.2634e-01],\n",
       "         [2.3930e-01, 5.1410e-01, 7.2872e-01, 4.4196e-01, 2.7323e-01,\n",
       "          7.1248e-01, 1.1159e-01, 5.8067e-01, 2.0164e-02, 4.6190e-01],\n",
       "         [5.5269e-01, 6.1164e-01, 4.0904e-01, 1.2122e-02, 7.5322e-01,\n",
       "          7.5916e-01, 1.8749e-01, 6.1287e-01, 2.8711e-01, 3.0403e-03],\n",
       "         [6.7662e-02, 4.3120e-01, 5.6830e-01, 1.6431e-01, 5.2708e-01,\n",
       "          1.7442e-01, 2.6867e-01, 3.0853e-01, 9.1927e-01, 8.7365e-01],\n",
       "         [9.4913e-01, 5.1826e-01, 4.9297e-01, 5.0780e-01, 7.8778e-01,\n",
       "          1.7690e-01, 8.3022e-01, 3.4913e-01, 7.1653e-01, 4.3032e-01],\n",
       "         [8.5840e-01, 3.1572e-01, 9.1833e-04, 4.8334e-01, 8.7702e-01,\n",
       "          1.6122e-01, 5.7951e-01, 9.6533e-01, 1.5162e-01, 5.1657e-01],\n",
       "         [7.9796e-01, 2.7922e-01, 9.6031e-01, 3.0488e-01, 1.4152e-01,\n",
       "          5.8534e-01, 8.6962e-01, 2.7149e-01, 6.1079e-01, 2.3915e-01]],\n",
       "\n",
       "        [[2.4959e-01, 8.9877e-01, 1.5174e-01, 4.4405e-01, 5.3633e-01,\n",
       "          7.5629e-01, 7.6892e-01, 4.1335e-01, 8.2097e-01, 3.3057e-01],\n",
       "         [4.6357e-01, 8.7046e-02, 6.7184e-02, 3.3485e-01, 8.0818e-01,\n",
       "          1.6650e-01, 2.1039e-01, 3.6130e-01, 3.2121e-01, 5.1016e-01],\n",
       "         [5.2896e-01, 7.0488e-01, 4.3242e-02, 5.1163e-01, 5.8487e-01,\n",
       "          6.2787e-01, 9.0097e-01, 5.3697e-01, 2.8771e-01, 6.2635e-01],\n",
       "         [8.9863e-01, 8.9196e-01, 3.0200e-02, 7.6768e-01, 8.6632e-01,\n",
       "          7.8632e-01, 3.6848e-01, 3.8663e-02, 9.8478e-01, 6.8328e-01],\n",
       "         [4.9904e-01, 9.9684e-01, 5.1358e-01, 3.1533e-02, 6.0017e-01,\n",
       "          7.4934e-01, 5.8343e-01, 5.7973e-01, 4.2736e-01, 7.9616e-01],\n",
       "         [3.4725e-01, 1.2362e-01, 7.1608e-01, 7.3969e-01, 6.4158e-01,\n",
       "          5.0636e-01, 3.9823e-01, 4.2765e-02, 2.2561e-01, 1.2612e-01],\n",
       "         [8.4631e-01, 2.1513e-01, 2.5203e-01, 7.2634e-01, 4.9833e-01,\n",
       "          3.6313e-01, 2.8019e-01, 2.3902e-01, 8.8495e-01, 5.8874e-01],\n",
       "         [5.0352e-01, 3.7728e-02, 8.9393e-01, 9.5555e-02, 6.9925e-01,\n",
       "          2.1632e-01, 6.0650e-01, 2.6745e-01, 9.2887e-01, 5.5425e-01],\n",
       "         [4.7296e-01, 9.7797e-01, 6.3963e-01, 8.1778e-01, 6.5267e-02,\n",
       "          2.7698e-01, 7.0962e-01, 5.2627e-01, 8.3336e-01, 5.7943e-01],\n",
       "         [4.8903e-01, 9.7979e-01, 8.5355e-01, 6.9660e-01, 8.2987e-01,\n",
       "          3.5834e-01, 1.8047e-01, 1.9369e-01, 7.5795e-01, 1.3115e-01]],\n",
       "\n",
       "        [[9.2101e-01, 4.4752e-01, 4.6303e-01, 2.1063e-01, 7.8618e-02,\n",
       "          9.6674e-01, 3.1375e-01, 2.2133e-02, 9.5464e-01, 9.6830e-02],\n",
       "         [9.6466e-01, 6.7924e-01, 6.1381e-01, 7.0214e-01, 3.2595e-01,\n",
       "          9.4112e-01, 6.1100e-03, 2.6769e-01, 8.2054e-01, 1.9443e-01],\n",
       "         [2.2972e-01, 1.8122e-01, 8.7165e-01, 6.3671e-01, 8.4784e-01,\n",
       "          9.1122e-01, 1.3465e-01, 4.1171e-01, 9.6294e-01, 8.1777e-01],\n",
       "         [5.7097e-01, 8.9222e-01, 9.7718e-01, 1.9228e-01, 4.8984e-01,\n",
       "          9.9238e-01, 4.6248e-01, 8.8449e-01, 8.7241e-01, 8.6459e-01],\n",
       "         [2.5646e-01, 9.0467e-01, 5.0047e-01, 9.2991e-01, 4.0598e-01,\n",
       "          9.6682e-01, 1.3845e-01, 8.8168e-01, 8.7581e-01, 7.8607e-01],\n",
       "         [8.1675e-01, 2.1755e-01, 9.9797e-01, 2.4757e-01, 8.2193e-01,\n",
       "          6.4053e-01, 2.3822e-01, 1.2780e-01, 7.4303e-01, 9.9552e-01],\n",
       "         [7.7743e-01, 2.1118e-01, 2.1311e-02, 4.9094e-01, 9.6403e-01,\n",
       "          5.6595e-01, 9.8425e-01, 9.6874e-01, 3.4645e-01, 8.3187e-01],\n",
       "         [1.1352e-01, 7.1224e-01, 4.9384e-01, 4.0304e-01, 4.2236e-01,\n",
       "          1.6904e-02, 1.2899e-01, 8.5216e-01, 9.4106e-01, 7.5581e-01],\n",
       "         [2.7066e-01, 2.7876e-01, 2.3498e-01, 6.6958e-01, 7.3860e-01,\n",
       "          9.6673e-01, 6.8069e-01, 3.2894e-03, 3.0849e-01, 6.4956e-02],\n",
       "         [6.6217e-01, 2.6851e-01, 5.0412e-01, 9.5183e-01, 6.3599e-01,\n",
       "          4.3393e-01, 3.0310e-02, 5.0812e-01, 6.6557e-02, 5.9353e-01]]])"
      ]
     },
     "execution_count": 87,
     "metadata": {},
     "output_type": "execute_result"
    }
   ],
   "source": [
    "sample"
   ]
  },
  {
   "cell_type": "code",
   "execution_count": 88,
   "metadata": {},
   "outputs": [
    {
     "data": {
      "text/plain": [
       "3"
      ]
     },
     "execution_count": 88,
     "metadata": {},
     "output_type": "execute_result"
    }
   ],
   "source": [
    "sample.ndim"
   ]
  },
  {
   "cell_type": "code",
   "execution_count": 89,
   "metadata": {},
   "outputs": [
    {
     "data": {
      "text/plain": [
       "tensor([[0.2583, 0.1805, 0.7388, 0.0761],\n",
       "        [0.5142, 0.2955, 0.3835, 0.2685],\n",
       "        [0.7492, 0.4500, 0.6631, 0.5342]])"
      ]
     },
     "execution_count": 89,
     "metadata": {},
     "output_type": "execute_result"
    }
   ],
   "source": [
    "random"
   ]
  },
  {
   "cell_type": "code",
   "execution_count": 90,
   "metadata": {},
   "outputs": [],
   "source": [
    "# random tensor similar to image tensor"
   ]
  },
  {
   "cell_type": "code",
   "execution_count": 98,
   "metadata": {},
   "outputs": [],
   "source": [
    "random_img=torch.rand(size=(3,224,224))  #colorchannel,height,width"
   ]
  },
  {
   "cell_type": "code",
   "execution_count": 99,
   "metadata": {},
   "outputs": [
    {
     "data": {
      "text/plain": [
       "torch.Size([3, 224, 224])"
      ]
     },
     "execution_count": 99,
     "metadata": {},
     "output_type": "execute_result"
    }
   ],
   "source": [
    "random_img.shape"
   ]
  },
  {
   "cell_type": "code",
   "execution_count": 101,
   "metadata": {},
   "outputs": [
    {
     "name": "stdout",
     "output_type": "stream",
     "text": [
      "The history saving thread hit an unexpected error (OperationalError('attempt to write a readonly database')).History will not be written to the database.\n"
     ]
    }
   ],
   "source": [
    "#we have the color channel wil have the 3rd dimention "
   ]
  },
  {
   "cell_type": "markdown",
   "metadata": {},
   "source": [
    "### The random numbers in the pytorch was more important as the neural network were initiated with the random numbers and then updated with respect to the algorithm\n",
    "\n",
    "`torch.rand(size=(z,x,y))`"
   ]
  },
  {
   "cell_type": "code",
   "execution_count": 103,
   "metadata": {},
   "outputs": [],
   "source": [
    "s=torch.rand(100,100,10000)"
   ]
  },
  {
   "cell_type": "code",
   "execution_count": 104,
   "metadata": {},
   "outputs": [
    {
     "data": {
      "text/plain": [
       "3"
      ]
     },
     "execution_count": 104,
     "metadata": {},
     "output_type": "execute_result"
    }
   ],
   "source": [
    "s.ndim"
   ]
  },
  {
   "cell_type": "code",
   "execution_count": 105,
   "metadata": {},
   "outputs": [
    {
     "data": {
      "text/plain": [
       "torch.Size([100, 100, 10000])"
      ]
     },
     "execution_count": 105,
     "metadata": {},
     "output_type": "execute_result"
    }
   ],
   "source": [
    "s.shape"
   ]
  },
  {
   "cell_type": "code",
   "execution_count": 106,
   "metadata": {},
   "outputs": [],
   "source": [
    "zero=torch.zeros(3,4)"
   ]
  },
  {
   "cell_type": "code",
   "execution_count": 107,
   "metadata": {},
   "outputs": [
    {
     "data": {
      "text/plain": [
       "tensor([[0., 0., 0., 0.],\n",
       "        [0., 0., 0., 0.],\n",
       "        [0., 0., 0., 0.]])"
      ]
     },
     "execution_count": 107,
     "metadata": {},
     "output_type": "execute_result"
    }
   ],
   "source": [
    "zero"
   ]
  },
  {
   "cell_type": "code",
   "execution_count": 108,
   "metadata": {},
   "outputs": [],
   "source": [
    "r=torch.rand(3,4)"
   ]
  },
  {
   "cell_type": "code",
   "execution_count": 109,
   "metadata": {},
   "outputs": [
    {
     "data": {
      "text/plain": [
       "tensor([[0., 0., 0., 0.],\n",
       "        [0., 0., 0., 0.],\n",
       "        [0., 0., 0., 0.]])"
      ]
     },
     "execution_count": 109,
     "metadata": {},
     "output_type": "execute_result"
    }
   ],
   "source": [
    "zero*r"
   ]
  },
  {
   "cell_type": "code",
   "execution_count": 112,
   "metadata": {},
   "outputs": [
    {
     "data": {
      "text/plain": [
       "2"
      ]
     },
     "execution_count": 112,
     "metadata": {},
     "output_type": "execute_result"
    }
   ],
   "source": [
    "zero.ndim\n"
   ]
  },
  {
   "cell_type": "code",
   "execution_count": 114,
   "metadata": {},
   "outputs": [],
   "source": [
    "ones=torch.ones(3,4)"
   ]
  },
  {
   "cell_type": "code",
   "execution_count": 115,
   "metadata": {},
   "outputs": [
    {
     "data": {
      "text/plain": [
       "tensor([[0.0852, 0.9172, 0.1660, 0.2975],\n",
       "        [0.9387, 0.6631, 0.2943, 0.5025],\n",
       "        [0.1446, 0.4072, 0.3302, 0.7156]])"
      ]
     },
     "execution_count": 115,
     "metadata": {},
     "output_type": "execute_result"
    }
   ],
   "source": [
    "ones*r"
   ]
  },
  {
   "cell_type": "code",
   "execution_count": 116,
   "metadata": {},
   "outputs": [
    {
     "data": {
      "text/plain": [
       "torch.float32"
      ]
     },
     "execution_count": 116,
     "metadata": {},
     "output_type": "execute_result"
    }
   ],
   "source": [
    "ones.dtype"
   ]
  },
  {
   "cell_type": "code",
   "execution_count": 120,
   "metadata": {},
   "outputs": [
    {
     "data": {
      "text/plain": [
       "torch.float32"
      ]
     },
     "execution_count": 120,
     "metadata": {},
     "output_type": "execute_result"
    }
   ],
   "source": [
    "ones.dtype"
   ]
  },
  {
   "cell_type": "code",
   "execution_count": 121,
   "metadata": {},
   "outputs": [],
   "source": [
    "# we can create the random values in many ways but rand() was most common way"
   ]
  },
  {
   "cell_type": "code",
   "execution_count": 122,
   "metadata": {},
   "outputs": [],
   "source": [
    "#tensors in a range()"
   ]
  },
  {
   "cell_type": "code",
   "execution_count": null,
   "metadata": {},
   "outputs": [],
   "source": []
  }
 ],
 "metadata": {
  "kernelspec": {
   "display_name": "Python 3 (ipykernel)",
   "language": "python",
   "name": "python3"
  },
  "language_info": {
   "codemirror_mode": {
    "name": "ipython",
    "version": 3
   },
   "file_extension": ".py",
   "mimetype": "text/x-python",
   "name": "python",
   "nbconvert_exporter": "python",
   "pygments_lexer": "ipython3",
   "version": "3.12.7"
  }
 },
 "nbformat": 4,
 "nbformat_minor": 4
}
