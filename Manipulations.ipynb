{
 "cells": [
  {
   "cell_type": "code",
   "execution_count": 1,
   "id": "31ca3601-fcb4-4bf3-be7c-795f4be7f69c",
   "metadata": {},
   "outputs": [],
   "source": [
    "import torch\n",
    "import pandas as pd\n",
    "import numpy as np\n",
    "import matplotlib.pyplot as plt"
   ]
  },
  {
   "cell_type": "markdown",
   "id": "77abc78a-f356-4048-bd3b-22e058f1a88c",
   "metadata": {},
   "source": [
    "### The manipulations in Pytorch:\n",
    "1.Addition\n",
    "2.Subtraction\n",
    "3.Multiplication(element-wise)\n",
    "4.Division\n",
    "5.Matrix Multiplication"
   ]
  },
  {
   "cell_type": "code",
   "execution_count": 2,
   "id": "7f358901-a3fe-4502-9716-2f88698ae929",
   "metadata": {},
   "outputs": [],
   "source": [
    "sample1=torch.tensor([1,2,3])\n"
   ]
  },
  {
   "cell_type": "code",
   "execution_count": 3,
   "id": "9fe25254-cf3e-446e-8550-db01093baf8c",
   "metadata": {},
   "outputs": [
    {
     "data": {
      "text/plain": [
       "tensor([11, 12, 13])"
      ]
     },
     "execution_count": 3,
     "metadata": {},
     "output_type": "execute_result"
    }
   ],
   "source": [
    "sample1+10"
   ]
  },
  {
   "cell_type": "code",
   "execution_count": 5,
   "id": "d5ad792a-71ea-433f-873b-395f05573f30",
   "metadata": {},
   "outputs": [
    {
     "data": {
      "text/plain": [
       "tensor([1, 2, 3])"
      ]
     },
     "execution_count": 5,
     "metadata": {},
     "output_type": "execute_result"
    }
   ],
   "source": [
    "sample1"
   ]
  },
  {
   "cell_type": "code",
   "execution_count": 6,
   "id": "f1c5d5d9-14fc-4814-a4f8-29d6925eb621",
   "metadata": {},
   "outputs": [
    {
     "data": {
      "text/plain": [
       "tensor([101, 102, 103])"
      ]
     },
     "execution_count": 6,
     "metadata": {},
     "output_type": "execute_result"
    }
   ],
   "source": [
    "sample1+100"
   ]
  },
  {
   "cell_type": "code",
   "execution_count": 7,
   "id": "ef680b1d-6ebf-4a52-8f15-066edf30d309",
   "metadata": {},
   "outputs": [
    {
     "data": {
      "text/plain": [
       "tensor([10, 20, 30])"
      ]
     },
     "execution_count": 7,
     "metadata": {},
     "output_type": "execute_result"
    }
   ],
   "source": [
    "sample1*10"
   ]
  },
  {
   "cell_type": "code",
   "execution_count": 8,
   "id": "ba2a4206-bcca-4252-b2c1-d0c84b7f926a",
   "metadata": {},
   "outputs": [
    {
     "data": {
      "text/plain": [
       "tensor([0.5000, 1.0000, 1.5000])"
      ]
     },
     "execution_count": 8,
     "metadata": {},
     "output_type": "execute_result"
    }
   ],
   "source": [
    "sample1/2"
   ]
  },
  {
   "cell_type": "code",
   "execution_count": 9,
   "id": "3256ce8e-792f-49c2-948b-8f56b3ce7db3",
   "metadata": {},
   "outputs": [],
   "source": [
    "sample1=sample1*10"
   ]
  },
  {
   "cell_type": "code",
   "execution_count": 10,
   "id": "5b499a84-6948-41b6-b417-befb6b43a2d2",
   "metadata": {},
   "outputs": [
    {
     "data": {
      "text/plain": [
       "tensor([10, 20, 30])"
      ]
     },
     "execution_count": 10,
     "metadata": {},
     "output_type": "execute_result"
    }
   ],
   "source": [
    "sample1"
   ]
  },
  {
   "cell_type": "code",
   "execution_count": 11,
   "id": "16fd9546-14c3-4ee9-ad14-58043a005c0c",
   "metadata": {},
   "outputs": [],
   "source": [
    "# subtract 10\n"
   ]
  },
  {
   "cell_type": "code",
   "execution_count": 12,
   "id": "84854faa-7f4c-46e6-87ca-55b994226fa6",
   "metadata": {},
   "outputs": [
    {
     "data": {
      "text/plain": [
       "tensor([ 0, 10, 20])"
      ]
     },
     "execution_count": 12,
     "metadata": {},
     "output_type": "execute_result"
    }
   ],
   "source": [
    "sample1-10"
   ]
  },
  {
   "cell_type": "code",
   "execution_count": 13,
   "id": "39b8bfff-3b5c-4461-9624-a6e429dee6ad",
   "metadata": {},
   "outputs": [
    {
     "data": {
      "text/plain": [
       "tensor([-10,   0,  10])"
      ]
     },
     "execution_count": 13,
     "metadata": {},
     "output_type": "execute_result"
    }
   ],
   "source": [
    "sample1-20"
   ]
  },
  {
   "cell_type": "code",
   "execution_count": 14,
   "id": "ef96dc23-2279-4a40-ac3c-7b77f93fcf29",
   "metadata": {},
   "outputs": [],
   "source": [
    "## Try out pytorch inbuilt function"
   ]
  },
  {
   "cell_type": "code",
   "execution_count": 15,
   "id": "a4443b98-41ef-42cb-b7c0-3f7677a8d3af",
   "metadata": {},
   "outputs": [
    {
     "data": {
      "text/plain": [
       "tensor([100, 200, 300])"
      ]
     },
     "execution_count": 15,
     "metadata": {},
     "output_type": "execute_result"
    }
   ],
   "source": [
    "torch.mul(sample1,10)"
   ]
  },
  {
   "cell_type": "code",
   "execution_count": 16,
   "id": "8ddcf432-2f99-4096-9ae9-ce4c4c8ea29a",
   "metadata": {},
   "outputs": [
    {
     "data": {
      "text/plain": [
       "tensor([210, 220, 230])"
      ]
     },
     "execution_count": 16,
     "metadata": {},
     "output_type": "execute_result"
    }
   ],
   "source": [
    "torch.add(sample1,200)"
   ]
  },
  {
   "cell_type": "code",
   "execution_count": 17,
   "id": "ae7e915e-c4f6-4693-bbb3-5bcb964779a1",
   "metadata": {},
   "outputs": [
    {
     "data": {
      "text/plain": [
       "tensor([ 9, 19, 29])"
      ]
     },
     "execution_count": 17,
     "metadata": {},
     "output_type": "execute_result"
    }
   ],
   "source": [
    "torch.sub(sample1,1)"
   ]
  },
  {
   "cell_type": "code",
   "execution_count": 18,
   "id": "73508089-8e01-4c51-844b-427b7b29272e",
   "metadata": {},
   "outputs": [
    {
     "data": {
      "text/plain": [
       "tensor([ 5., 10., 15.])"
      ]
     },
     "execution_count": 18,
     "metadata": {},
     "output_type": "execute_result"
    }
   ],
   "source": [
    "torch.div(sample1,2)"
   ]
  },
  {
   "cell_type": "code",
   "execution_count": 19,
   "id": "63ffabb7-7f9a-4aaa-9f83-1d7013d7e267",
   "metadata": {},
   "outputs": [
    {
     "data": {
      "text/plain": [
       "tensor([10, 20, 30])"
      ]
     },
     "execution_count": 19,
     "metadata": {},
     "output_type": "execute_result"
    }
   ],
   "source": [
    "sample1"
   ]
  },
  {
   "cell_type": "code",
   "execution_count": 20,
   "id": "97cd296d-ae5e-40b7-b0c0-5ae6e54c056d",
   "metadata": {},
   "outputs": [],
   "source": [
    "## matrix multiplication"
   ]
  },
  {
   "cell_type": "code",
   "execution_count": null,
   "id": "1791c1dd-ec5b-4a17-bd06-f9ee4b1abee8",
   "metadata": {},
   "outputs": [],
   "source": []
  }
 ],
 "metadata": {
  "kernelspec": {
   "display_name": "Python 3 (ipykernel)",
   "language": "python",
   "name": "python3"
  },
  "language_info": {
   "codemirror_mode": {
    "name": "ipython",
    "version": 3
   },
   "file_extension": ".py",
   "mimetype": "text/x-python",
   "name": "python",
   "nbconvert_exporter": "python",
   "pygments_lexer": "ipython3",
   "version": "3.12.7"
  }
 },
 "nbformat": 4,
 "nbformat_minor": 5
}
