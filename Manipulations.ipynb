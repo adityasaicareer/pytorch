{
 "cells": [
  {
   "cell_type": "code",
   "execution_count": 3,
   "id": "31ca3601-fcb4-4bf3-be7c-795f4be7f69c",
   "metadata": {},
   "outputs": [],
   "source": [
    "import torch\n",
    "import pandas as pd\n",
    "import numpy as np\n",
    "import matplotlib.pyplot as plt"
   ]
  },
  {
   "cell_type": "markdown",
   "id": "77abc78a-f356-4048-bd3b-22e058f1a88c",
   "metadata": {},
   "source": [
    "### The manipulations in Pytorch:\n",
    "1.Addition\n",
    "2.Subtraction\n",
    "3.Multiplication(element-wise)\n",
    "4.Division\n",
    "5.Matrix Multiplication"
   ]
  },
  {
   "cell_type": "code",
   "execution_count": 4,
   "id": "7f358901-a3fe-4502-9716-2f88698ae929",
   "metadata": {},
   "outputs": [],
   "source": [
    "sample1=torch.tensor([1.3,2,3])\n"
   ]
  },
  {
   "cell_type": "code",
   "execution_count": 5,
   "id": "9fe25254-cf3e-446e-8550-db01093baf8c",
   "metadata": {},
   "outputs": [
    {
     "data": {
      "text/plain": [
       "tensor([11.3000, 12.0000, 13.0000])"
      ]
     },
     "execution_count": 5,
     "metadata": {},
     "output_type": "execute_result"
    }
   ],
   "source": [
    "sample1+10"
   ]
  },
  {
   "cell_type": "code",
   "execution_count": 6,
   "id": "d5ad792a-71ea-433f-873b-395f05573f30",
   "metadata": {},
   "outputs": [
    {
     "data": {
      "text/plain": [
       "tensor([1.3000, 2.0000, 3.0000])"
      ]
     },
     "execution_count": 6,
     "metadata": {},
     "output_type": "execute_result"
    }
   ],
   "source": [
    "sample1"
   ]
  },
  {
   "cell_type": "code",
   "execution_count": 7,
   "id": "f1c5d5d9-14fc-4814-a4f8-29d6925eb621",
   "metadata": {},
   "outputs": [
    {
     "data": {
      "text/plain": [
       "tensor([101.3000, 102.0000, 103.0000])"
      ]
     },
     "execution_count": 7,
     "metadata": {},
     "output_type": "execute_result"
    }
   ],
   "source": [
    "sample1+100"
   ]
  },
  {
   "cell_type": "code",
   "execution_count": 8,
   "id": "ef680b1d-6ebf-4a52-8f15-066edf30d309",
   "metadata": {},
   "outputs": [
    {
     "data": {
      "text/plain": [
       "tensor([13., 20., 30.])"
      ]
     },
     "execution_count": 8,
     "metadata": {},
     "output_type": "execute_result"
    }
   ],
   "source": [
    "sample1*10"
   ]
  },
  {
   "cell_type": "code",
   "execution_count": 9,
   "id": "ba2a4206-bcca-4252-b2c1-d0c84b7f926a",
   "metadata": {},
   "outputs": [
    {
     "data": {
      "text/plain": [
       "tensor([0.6500, 1.0000, 1.5000])"
      ]
     },
     "execution_count": 9,
     "metadata": {},
     "output_type": "execute_result"
    }
   ],
   "source": [
    "sample1/2"
   ]
  },
  {
   "cell_type": "code",
   "execution_count": 10,
   "id": "3256ce8e-792f-49c2-948b-8f56b3ce7db3",
   "metadata": {},
   "outputs": [],
   "source": [
    "sample1=sample1*10"
   ]
  },
  {
   "cell_type": "code",
   "execution_count": 11,
   "id": "5b499a84-6948-41b6-b417-befb6b43a2d2",
   "metadata": {},
   "outputs": [
    {
     "data": {
      "text/plain": [
       "tensor([13., 20., 30.])"
      ]
     },
     "execution_count": 11,
     "metadata": {},
     "output_type": "execute_result"
    }
   ],
   "source": [
    "sample1"
   ]
  },
  {
   "cell_type": "code",
   "execution_count": 12,
   "id": "16fd9546-14c3-4ee9-ad14-58043a005c0c",
   "metadata": {},
   "outputs": [],
   "source": [
    "# subtract 10\n"
   ]
  },
  {
   "cell_type": "code",
   "execution_count": 13,
   "id": "84854faa-7f4c-46e6-87ca-55b994226fa6",
   "metadata": {},
   "outputs": [
    {
     "data": {
      "text/plain": [
       "tensor([ 3., 10., 20.])"
      ]
     },
     "execution_count": 13,
     "metadata": {},
     "output_type": "execute_result"
    }
   ],
   "source": [
    "sample1-10"
   ]
  },
  {
   "cell_type": "code",
   "execution_count": 14,
   "id": "39b8bfff-3b5c-4461-9624-a6e429dee6ad",
   "metadata": {},
   "outputs": [
    {
     "data": {
      "text/plain": [
       "tensor([-7.,  0., 10.])"
      ]
     },
     "execution_count": 14,
     "metadata": {},
     "output_type": "execute_result"
    }
   ],
   "source": [
    "sample1-20"
   ]
  },
  {
   "cell_type": "code",
   "execution_count": 15,
   "id": "ef96dc23-2279-4a40-ac3c-7b77f93fcf29",
   "metadata": {},
   "outputs": [],
   "source": [
    "## Try out pytorch inbuilt function"
   ]
  },
  {
   "cell_type": "code",
   "execution_count": 16,
   "id": "a4443b98-41ef-42cb-b7c0-3f7677a8d3af",
   "metadata": {},
   "outputs": [
    {
     "data": {
      "text/plain": [
       "tensor([130., 200., 300.])"
      ]
     },
     "execution_count": 16,
     "metadata": {},
     "output_type": "execute_result"
    }
   ],
   "source": [
    "torch.mul(sample1,10)"
   ]
  },
  {
   "cell_type": "code",
   "execution_count": 17,
   "id": "8ddcf432-2f99-4096-9ae9-ce4c4c8ea29a",
   "metadata": {},
   "outputs": [
    {
     "data": {
      "text/plain": [
       "tensor([213., 220., 230.])"
      ]
     },
     "execution_count": 17,
     "metadata": {},
     "output_type": "execute_result"
    }
   ],
   "source": [
    "torch.add(sample1,200)"
   ]
  },
  {
   "cell_type": "code",
   "execution_count": 18,
   "id": "ae7e915e-c4f6-4693-bbb3-5bcb964779a1",
   "metadata": {},
   "outputs": [
    {
     "data": {
      "text/plain": [
       "tensor([12., 19., 29.])"
      ]
     },
     "execution_count": 18,
     "metadata": {},
     "output_type": "execute_result"
    }
   ],
   "source": [
    "torch.sub(sample1,1)"
   ]
  },
  {
   "cell_type": "code",
   "execution_count": 19,
   "id": "73508089-8e01-4c51-844b-427b7b29272e",
   "metadata": {},
   "outputs": [
    {
     "data": {
      "text/plain": [
       "tensor([ 6.5000, 10.0000, 15.0000])"
      ]
     },
     "execution_count": 19,
     "metadata": {},
     "output_type": "execute_result"
    }
   ],
   "source": [
    "torch.div(sample1,2)"
   ]
  },
  {
   "cell_type": "code",
   "execution_count": 20,
   "id": "63ffabb7-7f9a-4aaa-9f83-1d7013d7e267",
   "metadata": {},
   "outputs": [
    {
     "data": {
      "text/plain": [
       "tensor([13., 20., 30.])"
      ]
     },
     "execution_count": 20,
     "metadata": {},
     "output_type": "execute_result"
    }
   ],
   "source": [
    "sample1"
   ]
  },
  {
   "cell_type": "code",
   "execution_count": 21,
   "id": "1791c1dd-ec5b-4a17-bd06-f9ee4b1abee8",
   "metadata": {},
   "outputs": [],
   "source": [
    "sample2=torch.rand(1,3)"
   ]
  },
  {
   "cell_type": "code",
   "execution_count": 22,
   "id": "08e63044-4013-4acf-a225-e4548071c5b9",
   "metadata": {},
   "outputs": [
    {
     "data": {
      "text/plain": [
       "tensor([[0.8756, 0.7740, 0.1541]])"
      ]
     },
     "execution_count": 22,
     "metadata": {},
     "output_type": "execute_result"
    }
   ],
   "source": [
    "sample2"
   ]
  },
  {
   "cell_type": "code",
   "execution_count": 23,
   "id": "352bc343-aef4-4321-b93a-6552f0457843",
   "metadata": {},
   "outputs": [
    {
     "data": {
      "text/plain": [
       "tensor([[11.3823, 15.4795,  4.6223]])"
      ]
     },
     "execution_count": 23,
     "metadata": {},
     "output_type": "execute_result"
    }
   ],
   "source": [
    "torch.mul(sample1,sample2)"
   ]
  },
  {
   "cell_type": "code",
   "execution_count": 24,
   "id": "8ab1b1c6-b1b6-4fe8-9c4e-5d3a50747fde",
   "metadata": {},
   "outputs": [
    {
     "data": {
      "text/plain": [
       "tensor([[0.8756, 0.7740, 0.1541]])"
      ]
     },
     "execution_count": 24,
     "metadata": {},
     "output_type": "execute_result"
    }
   ],
   "source": [
    "sample2"
   ]
  },
  {
   "cell_type": "code",
   "execution_count": 25,
   "id": "c2cedb09-3dea-4e7e-90da-05ce4b235a3d",
   "metadata": {},
   "outputs": [
    {
     "data": {
      "text/plain": [
       "tensor([13., 20., 30.])"
      ]
     },
     "execution_count": 25,
     "metadata": {},
     "output_type": "execute_result"
    }
   ],
   "source": [
    "sample1"
   ]
  },
  {
   "cell_type": "markdown",
   "id": "1a1cb4b7-f11d-4f33-88a1-7c4838999cb7",
   "metadata": {},
   "source": [
    "### matric multiplication\n",
    "## element-wise matmul\n",
    "## matrix multiplication`(dot product)`"
   ]
  },
  {
   "cell_type": "code",
   "execution_count": 26,
   "id": "b8cde46d-1ebd-4ead-a795-e010d7617c20",
   "metadata": {},
   "outputs": [
    {
     "name": "stdout",
     "output_type": "stream",
     "text": [
      "element wise multiplication tensor([169., 400., 900.])\n"
     ]
    }
   ],
   "source": [
    "print(f\"element wise multiplication {sample1*sample1}\")"
   ]
  },
  {
   "cell_type": "code",
   "execution_count": 27,
   "id": "d475cd96-867d-4d74-bbb2-1726c510353b",
   "metadata": {},
   "outputs": [],
   "source": [
    "# matric multiplication"
   ]
  },
  {
   "cell_type": "code",
   "execution_count": 28,
   "id": "a9082dea-215e-4db2-ba4a-f5ad7116eb4b",
   "metadata": {},
   "outputs": [
    {
     "data": {
      "text/plain": [
       "tensor(1469.)"
      ]
     },
     "execution_count": 28,
     "metadata": {},
     "output_type": "execute_result"
    }
   ],
   "source": [
    "torch.matmul(sample1,sample1)"
   ]
  },
  {
   "cell_type": "code",
   "execution_count": 29,
   "id": "2538da0f-4733-40e1-a61b-ea68995afe2f",
   "metadata": {},
   "outputs": [],
   "source": [
    "sample2=torch.rand(3,1)"
   ]
  },
  {
   "cell_type": "code",
   "execution_count": 30,
   "id": "7dd3e06b-94c6-4496-a79c-9290ca4b5b07",
   "metadata": {},
   "outputs": [
    {
     "data": {
      "text/plain": [
       "tensor([56.0354])"
      ]
     },
     "execution_count": 30,
     "metadata": {},
     "output_type": "execute_result"
    }
   ],
   "source": [
    "torch.matmul(sample1,sample2)"
   ]
  },
  {
   "cell_type": "code",
   "execution_count": 31,
   "id": "2fdd46f2-7d73-4d61-b767-bf5ee698a512",
   "metadata": {},
   "outputs": [
    {
     "name": "stdout",
     "output_type": "stream",
     "text": [
      "1.31 μs ± 20.1 ns per loop (mean ± std. dev. of 7 runs, 1,000,000 loops each)\n"
     ]
    }
   ],
   "source": [
    "%%timeit\n",
    "torch.matmul(sample1,sample2)"
   ]
  },
  {
   "cell_type": "code",
   "execution_count": 32,
   "id": "1bb9db21-8534-408d-a7a7-e556a292edad",
   "metadata": {},
   "outputs": [],
   "source": [
    "# use torch libraries for the better perfomance"
   ]
  },
  {
   "cell_type": "code",
   "execution_count": 33,
   "id": "7b67419a-3059-4422-a71d-fce69de69ba3",
   "metadata": {},
   "outputs": [],
   "source": [
    "## one of the most common errors in deep learning is shape errors"
   ]
  },
  {
   "cell_type": "code",
   "execution_count": 34,
   "id": "ec02eabe-0b41-4388-9aaf-27510bbe8aff",
   "metadata": {},
   "outputs": [],
   "source": [
    "## the inner dimentions must match match for matrix multiplication\n",
    "## else it wont work"
   ]
  },
  {
   "cell_type": "markdown",
   "id": "1a9a5791-2988-4a23-acb5-d91c06583bee",
   "metadata": {},
   "source": [
    "###### torch.matmul(torch.rand(3,2),torch.rand(3,2))\n",
    "##### thr above wont work as its innerdomention were not same\n",
    "### the output matric outer dimention\n",
    "`(2,3) (3,2)` outer is `(2,2)`"
   ]
  },
  {
   "cell_type": "code",
   "execution_count": 35,
   "id": "497651a6-0a30-405d-a6fd-e48fad053d95",
   "metadata": {},
   "outputs": [
    {
     "data": {
      "text/plain": [
       "tensor([[0.8765, 1.1244, 0.8322],\n",
       "        [0.5442, 0.7874, 0.5211],\n",
       "        [0.8499, 1.0975, 0.8073]])"
      ]
     },
     "execution_count": 35,
     "metadata": {},
     "output_type": "execute_result"
    }
   ],
   "source": [
    "torch.matmul(torch.rand(3,2),torch.rand(2,3))"
   ]
  },
  {
   "cell_type": "code",
   "execution_count": 36,
   "id": "010ed9dc-965a-4fd6-ae6c-326be8a1ad3b",
   "metadata": {},
   "outputs": [
    {
     "data": {
      "text/plain": [
       "torch.Size([10, 10])"
      ]
     },
     "execution_count": 36,
     "metadata": {},
     "output_type": "execute_result"
    }
   ],
   "source": [
    "torch.matmul(torch.rand(10,10),torch.rand(10,10)).shape"
   ]
  },
  {
   "cell_type": "code",
   "execution_count": 37,
   "id": "b1b83378-b139-45bc-a47f-6710b999a1d0",
   "metadata": {},
   "outputs": [],
   "source": [
    "# one of the most common errors"
   ]
  },
  {
   "cell_type": "code",
   "execution_count": 38,
   "id": "71d893a7-a451-48cf-af1f-4be274ff8513",
   "metadata": {},
   "outputs": [],
   "source": [
    "tensora=torch.tensor([[1,2,3],\n",
    "                      [4,5,6],\n",
    "                      [7,8,9]])\n",
    "tensorb=torch.tensor([[10,11,12],\n",
    "                      [13,14,15],\n",
    "                      [16,17,18]])"
   ]
  },
  {
   "cell_type": "code",
   "execution_count": 39,
   "id": "c27a38c2-9df7-41ff-bbdb-83e4c18f102f",
   "metadata": {},
   "outputs": [
    {
     "data": {
      "text/plain": [
       "(tensor([[1, 2, 3],\n",
       "         [4, 5, 6],\n",
       "         [7, 8, 9]]),\n",
       " tensor([[10, 11, 12],\n",
       "         [13, 14, 15],\n",
       "         [16, 17, 18]]))"
      ]
     },
     "execution_count": 39,
     "metadata": {},
     "output_type": "execute_result"
    }
   ],
   "source": [
    "tensora,tensorb"
   ]
  },
  {
   "cell_type": "code",
   "execution_count": 40,
   "id": "fc677a73-4d0c-401b-b3a9-2cafd33fac52",
   "metadata": {},
   "outputs": [
    {
     "data": {
      "text/plain": [
       "(torch.Size([3, 3]), torch.Size([3, 3]))"
      ]
     },
     "execution_count": 40,
     "metadata": {},
     "output_type": "execute_result"
    }
   ],
   "source": [
    "tensora.shape,tensorb.shape"
   ]
  },
  {
   "cell_type": "code",
   "execution_count": 41,
   "id": "20bd3251-0c4c-410f-a661-64f5d0a8e7fd",
   "metadata": {},
   "outputs": [
    {
     "name": "stdout",
     "output_type": "stream",
     "text": [
      "783 ns ± 5.66 ns per loop (mean ± std. dev. of 7 runs, 1,000,000 loops each)\n"
     ]
    }
   ],
   "source": [
    "%timeit torch.matmul(tensora,tensorb)"
   ]
  },
  {
   "cell_type": "code",
   "execution_count": 42,
   "id": "e8dfb689-e0f9-491d-8ee1-b14db307f7da",
   "metadata": {},
   "outputs": [
    {
     "name": "stdout",
     "output_type": "stream",
     "text": [
      "743 ns ± 10.2 ns per loop (mean ± std. dev. of 7 runs, 1,000,000 loops each)\n"
     ]
    }
   ],
   "source": [
    "%timeit torch.mul(tensora,tensorb)"
   ]
  },
  {
   "cell_type": "code",
   "execution_count": 43,
   "id": "a83f05df-c85a-4d6f-9e37-d53bd88162df",
   "metadata": {},
   "outputs": [
    {
     "name": "stdout",
     "output_type": "stream",
     "text": [
      "762 ns ± 22.8 ns per loop (mean ± std. dev. of 7 runs, 1,000,000 loops each)\n"
     ]
    }
   ],
   "source": [
    "%timeit torch.mm(tensora,tensorb)"
   ]
  },
  {
   "cell_type": "code",
   "execution_count": 44,
   "id": "fd0c3789-aed6-48ed-a4eb-749e8e1594b4",
   "metadata": {},
   "outputs": [],
   "source": [
    "## torch.mm was a shortform of matrixmultiplication"
   ]
  },
  {
   "cell_type": "code",
   "execution_count": 45,
   "id": "bf152d40-ec0b-4197-8a85-161896983d63",
   "metadata": {},
   "outputs": [],
   "source": [
    "tensora=torch.tensor([[1,2],\n",
    "                      [3,4],\n",
    "                      [5,6]])\n",
    "tensorb=torch.tensor([[7,8],\n",
    "                      [9,10],\n",
    "                      [11,12]])"
   ]
  },
  {
   "cell_type": "code",
   "execution_count": 46,
   "id": "5e0321a9-9982-4fec-84ad-6251648b22b7",
   "metadata": {},
   "outputs": [
    {
     "ename": "RuntimeError",
     "evalue": "mat1 and mat2 shapes cannot be multiplied (3x2 and 3x2)",
     "output_type": "error",
     "traceback": [
      "\u001b[0;31m---------------------------------------------------------------------------\u001b[0m",
      "\u001b[0;31mRuntimeError\u001b[0m                              Traceback (most recent call last)",
      "Cell \u001b[0;32mIn[46], line 1\u001b[0m\n\u001b[0;32m----> 1\u001b[0m \u001b[43mtorch\u001b[49m\u001b[38;5;241;43m.\u001b[39;49m\u001b[43mmatmul\u001b[49m\u001b[43m(\u001b[49m\u001b[43mtensora\u001b[49m\u001b[43m,\u001b[49m\u001b[43mtensorb\u001b[49m\u001b[43m)\u001b[49m\n",
      "\u001b[0;31mRuntimeError\u001b[0m: mat1 and mat2 shapes cannot be multiplied (3x2 and 3x2)"
     ]
    }
   ],
   "source": [
    "torch.matmul(tensora,tensorb)"
   ]
  },
  {
   "cell_type": "code",
   "execution_count": 47,
   "id": "bdafc03c-3540-4172-b595-dbaa7d0f31c2",
   "metadata": {},
   "outputs": [],
   "source": [
    "## now to solve /the above problem we should use the transpose function in the torch"
   ]
  },
  {
   "cell_type": "code",
   "execution_count": 48,
   "id": "4ee70f92-82f7-4f5a-bab2-bb09cf42df36",
   "metadata": {},
   "outputs": [],
   "source": [
    "## to fix the tensor shape issue\n",
    "## a transpose will switches the axes "
   ]
  },
  {
   "cell_type": "code",
   "execution_count": 49,
   "id": "0a841667-a6ab-47b2-8f53-a5678538e0f9",
   "metadata": {},
   "outputs": [],
   "source": [
    "tensorb=tensorb.T"
   ]
  },
  {
   "cell_type": "code",
   "execution_count": 50,
   "id": "cde8942e-e745-41d4-9c80-f0742dfaff33",
   "metadata": {},
   "outputs": [
    {
     "data": {
      "text/plain": [
       "tensor([[ 23,  29,  35],\n",
       "        [ 53,  67,  81],\n",
       "        [ 83, 105, 127]])"
      ]
     },
     "execution_count": 50,
     "metadata": {},
     "output_type": "execute_result"
    }
   ],
   "source": [
    "torch.matmul(tensora,tensorb)"
   ]
  },
  {
   "cell_type": "code",
   "execution_count": 51,
   "id": "60b6eaa6-da2e-4f8a-861f-492711360024",
   "metadata": {},
   "outputs": [
    {
     "data": {
      "text/plain": [
       "(torch.Size([2, 3]), torch.Size([3, 2]))"
      ]
     },
     "execution_count": 51,
     "metadata": {},
     "output_type": "execute_result"
    }
   ],
   "source": [
    "tensorb.shape,tensora.shape\n"
   ]
  },
  {
   "cell_type": "code",
   "execution_count": 52,
   "id": "81b88f56-2f37-4e4a-98b0-22b63675e965",
   "metadata": {},
   "outputs": [
    {
     "data": {
      "text/plain": [
       "tensor([[ 89, 116],\n",
       "        [ 98, 128]])"
      ]
     },
     "execution_count": 52,
     "metadata": {},
     "output_type": "execute_result"
    }
   ],
   "source": [
    "torch.matmul(tensorb,tensora)"
   ]
  },
  {
   "cell_type": "code",
   "execution_count": 53,
   "id": "ec5e3abc-da78-4478-84e4-007c55ab5198",
   "metadata": {},
   "outputs": [],
   "source": [
    "# the matrix multiplication operation works when tensorb transpose"
   ]
  },
  {
   "cell_type": "code",
   "execution_count": 54,
   "id": "4f4d8f61-369b-4a4b-9522-14360dbbe255",
   "metadata": {},
   "outputs": [],
   "source": [
    "## they do match"
   ]
  },
  {
   "cell_type": "code",
   "execution_count": 55,
   "id": "af601547-b0a8-4618-ad8b-273202c03489",
   "metadata": {},
   "outputs": [],
   "source": [
    "## finding the min,max,sum,mean,median etc ## called tensor aggragation"
   ]
  },
  {
   "cell_type": "code",
   "execution_count": 56,
   "id": "09c94963-f8c3-49f7-822e-ca79b7ed137a",
   "metadata": {},
   "outputs": [
    {
     "data": {
      "text/plain": [
       "tensor(63.)"
      ]
     },
     "execution_count": 56,
     "metadata": {},
     "output_type": "execute_result"
    }
   ],
   "source": [
    "torch.sum(sample1)"
   ]
  },
  {
   "cell_type": "code",
   "execution_count": 57,
   "id": "fa95df81-ffe8-4930-b0f2-a60da61752e0",
   "metadata": {},
   "outputs": [],
   "source": [
    "x=torch.arange(0,100,10)"
   ]
  },
  {
   "cell_type": "code",
   "execution_count": 65,
   "id": "f064357e-a309-406c-8263-a1e5c13d2386",
   "metadata": {},
   "outputs": [
    {
     "data": {
      "text/plain": [
       "(tensor([ 0, 10, 20, 30, 40, 50, 60, 70, 80, 90]), torch.int64)"
      ]
     },
     "execution_count": 65,
     "metadata": {},
     "output_type": "execute_result"
    }
   ],
   "source": [
    "x,x.dtype"
   ]
  },
  {
   "cell_type": "code",
   "execution_count": 59,
   "id": "a3a71c42-d3fa-4fb3-b69e-f2004fd231ea",
   "metadata": {},
   "outputs": [
    {
     "data": {
      "text/plain": [
       "tensor(450)"
      ]
     },
     "execution_count": 59,
     "metadata": {},
     "output_type": "execute_result"
    }
   ],
   "source": [
    "#sum of elements\n",
    "torch.sum(x)"
   ]
  },
  {
   "cell_type": "code",
   "execution_count": 60,
   "id": "43da238d-c479-44ee-bc20-dfab7011f6ff",
   "metadata": {},
   "outputs": [
    {
     "data": {
      "text/plain": [
       "tensor(0)"
      ]
     },
     "execution_count": 60,
     "metadata": {},
     "output_type": "execute_result"
    }
   ],
   "source": [
    "torch.min(x)"
   ]
  },
  {
   "cell_type": "code",
   "execution_count": 61,
   "id": "20131c7d-1f12-41ef-8b22-b2470ebec7b4",
   "metadata": {},
   "outputs": [
    {
     "data": {
      "text/plain": [
       "tensor(90)"
      ]
     },
     "execution_count": 61,
     "metadata": {},
     "output_type": "execute_result"
    }
   ],
   "source": [
    "torch.max(x)"
   ]
  },
  {
   "cell_type": "code",
   "execution_count": 67,
   "id": "dd956cb3-bc74-4b08-a92f-5a452c2fcd58",
   "metadata": {},
   "outputs": [
    {
     "data": {
      "text/plain": [
       "tensor(45.)"
      ]
     },
     "execution_count": 67,
     "metadata": {},
     "output_type": "execute_result"
    }
   ],
   "source": [
    "# it is becaule the datatype compatability int64 was also called long \n",
    "torch.mean(x.type(torch.float32))"
   ]
  },
  {
   "cell_type": "code",
   "execution_count": 68,
   "id": "04f521fb-80ea-4113-ab6b-093553cf2c2a",
   "metadata": {},
   "outputs": [],
   "source": [
    "#the above demonstates the type cnversion in pytorch"
   ]
  },
  {
   "cell_type": "code",
   "execution_count": 70,
   "id": "045f9f4a-119c-4a51-b38f-1e0009099e12",
   "metadata": {},
   "outputs": [],
   "source": [
    "x=x.type(torch.float32)"
   ]
  },
  {
   "cell_type": "code",
   "execution_count": 71,
   "id": "b359e06b-ace5-4143-9fd5-65c731aa40eb",
   "metadata": {},
   "outputs": [
    {
     "data": {
      "text/plain": [
       "tensor(45.)"
      ]
     },
     "execution_count": 71,
     "metadata": {},
     "output_type": "execute_result"
    }
   ],
   "source": [
    "x.mean()"
   ]
  },
  {
   "cell_type": "code",
   "execution_count": 72,
   "id": "7654189f-698c-440c-afb5-dcfe648dfde6",
   "metadata": {},
   "outputs": [
    {
     "data": {
      "text/plain": [
       "tensor(450.)"
      ]
     },
     "execution_count": 72,
     "metadata": {},
     "output_type": "execute_result"
    }
   ],
   "source": [
    "torch.sum(x)"
   ]
  },
  {
   "cell_type": "code",
   "execution_count": 73,
   "id": "389b2796-00a7-463f-98c4-f860a22f8724",
   "metadata": {},
   "outputs": [
    {
     "name": "stdout",
     "output_type": "stream",
     "text": [
      "849 ns ± 5.69 ns per loop (mean ± std. dev. of 7 runs, 1,000,000 loops each)\n"
     ]
    }
   ],
   "source": [
    "%timeit torch.sum(x)\n"
   ]
  },
  {
   "cell_type": "code",
   "execution_count": 74,
   "id": "319c1f3d-e57a-48b8-8df0-04a88891f55e",
   "metadata": {},
   "outputs": [
    {
     "name": "stdout",
     "output_type": "stream",
     "text": [
      "13 μs ± 246 ns per loop (mean ± std. dev. of 7 runs, 100,000 loops each)\n"
     ]
    }
   ],
   "source": [
    "%timeit sum(x)"
   ]
  },
  {
   "cell_type": "code",
   "execution_count": 75,
   "id": "ee5d86f0-6592-4715-a479-8541ff188fb8",
   "metadata": {},
   "outputs": [],
   "source": [
    "# to fingd the positional min and max"
   ]
  },
  {
   "cell_type": "code",
   "execution_count": 76,
   "id": "a83a32ef-d37c-4642-b36f-f5ebf04316ee",
   "metadata": {},
   "outputs": [
    {
     "data": {
      "text/plain": [
       "tensor(0.)"
      ]
     },
     "execution_count": 76,
     "metadata": {},
     "output_type": "execute_result"
    }
   ],
   "source": [
    "torch.prod(x)"
   ]
  },
  {
   "cell_type": "code",
   "execution_count": 77,
   "id": "70e08dd0-5f32-46a1-83c7-cbbe8c2c5ddf",
   "metadata": {},
   "outputs": [
    {
     "data": {
      "text/plain": [
       "tensor(30.2765)"
      ]
     },
     "execution_count": 77,
     "metadata": {},
     "output_type": "execute_result"
    }
   ],
   "source": [
    "torch.std(x)"
   ]
  },
  {
   "cell_type": "code",
   "execution_count": 78,
   "id": "30234891-0323-42b9-a264-af9d254853b5",
   "metadata": {},
   "outputs": [
    {
     "data": {
      "text/plain": [
       "tensor(916.6667)"
      ]
     },
     "execution_count": 78,
     "metadata": {},
     "output_type": "execute_result"
    }
   ],
   "source": [
    "torch.var(x)"
   ]
  },
  {
   "cell_type": "code",
   "execution_count": 80,
   "id": "c5c5327c-d713-4543-be66-a7eaa09dcaf5",
   "metadata": {},
   "outputs": [],
   "source": [
    "## the above were the standard deviation and variance"
   ]
  },
  {
   "cell_type": "code",
   "execution_count": 81,
   "id": "276299b2-b452-447e-b04b-faa9c1e1ff33",
   "metadata": {},
   "outputs": [
    {
     "data": {
      "text/plain": [
       "<module 'torch' from '/Library/Frameworks/Python.framework/Versions/3.12/lib/python3.12/site-packages/torch/__init__.py'>"
      ]
     },
     "execution_count": 81,
     "metadata": {},
     "output_type": "execute_result"
    }
   ],
   "source": [
    "torch"
   ]
  },
  {
   "cell_type": "markdown",
   "id": "6be37b95-4cbf-4ba2-ab00-3342bfb6c924",
   "metadata": {},
   "source": [
    "## finding the positional min and max"
   ]
  },
  {
   "cell_type": "code",
   "execution_count": 83,
   "id": "5c2d236d-3c1c-408a-a39c-0a91d4080325",
   "metadata": {},
   "outputs": [
    {
     "data": {
      "text/plain": [
       "tensor(0)"
      ]
     },
     "execution_count": 83,
     "metadata": {},
     "output_type": "execute_result"
    }
   ],
   "source": [
    "torch.argmin(x)"
   ]
  },
  {
   "cell_type": "code",
   "execution_count": 84,
   "id": "9c2f3231-d8b3-4b9b-8532-2397031a7571",
   "metadata": {},
   "outputs": [
    {
     "data": {
      "text/plain": [
       "tensor(0)"
      ]
     },
     "execution_count": 84,
     "metadata": {},
     "output_type": "execute_result"
    }
   ],
   "source": [
    "x.argmin()"
   ]
  },
  {
   "cell_type": "code",
   "execution_count": 86,
   "id": "233fe09a-8e1d-4ef6-bd1e-a90600ed6390",
   "metadata": {},
   "outputs": [
    {
     "data": {
      "text/plain": [
       "(tensor(9), tensor(9))"
      ]
     },
     "execution_count": 86,
     "metadata": {},
     "output_type": "execute_result"
    }
   ],
   "source": [
    "torch.argmax(x),x.argmax()"
   ]
  },
  {
   "cell_type": "code",
   "execution_count": 87,
   "id": "04cad44a-c822-4f3b-ab06-9beb416c6c0a",
   "metadata": {},
   "outputs": [],
   "source": [
    "## returns the index of the maximum and the minimum"
   ]
  },
  {
   "cell_type": "code",
   "execution_count": 88,
   "id": "b8309004-76d3-49c2-abd8-d0cf5f4c8806",
   "metadata": {},
   "outputs": [
    {
     "data": {
      "text/plain": [
       "tensor(0.)"
      ]
     },
     "execution_count": 88,
     "metadata": {},
     "output_type": "execute_result"
    }
   ],
   "source": [
    "x[0]"
   ]
  },
  {
   "cell_type": "code",
   "execution_count": 89,
   "id": "f722ea40-1a66-4bac-ac90-24d158bc54ec",
   "metadata": {},
   "outputs": [
    {
     "data": {
      "text/plain": [
       "tensor(0.)"
      ]
     },
     "execution_count": 89,
     "metadata": {},
     "output_type": "execute_result"
    }
   ],
   "source": [
    "x[torch.argmin(x)]"
   ]
  },
  {
   "cell_type": "code",
   "execution_count": 90,
   "id": "01086245-3c41-4d14-8310-3904c9aa5bb4",
   "metadata": {},
   "outputs": [
    {
     "name": "stdout",
     "output_type": "stream",
     "text": [
      "hello\n"
     ]
    }
   ],
   "source": [
    "print('hello')"
   ]
  },
  {
   "cell_type": "markdown",
   "id": "22e1ca40-7fd7-44f9-aa6c-d3add90bdb5c",
   "metadata": {},
   "source": [
    "## reshaping,squeezing,unsqueezing and stacking the tensors\n",
    "\n",
    "* reshaping- reshes the input tensor to defined shape\n",
    "* view- return of the input tensor of certain shape but keep the same memory\n",
    "* stacking- combine multiple tensor horizontally hstack or vertically called vstack"
   ]
  },
  {
   "cell_type": "code",
   "execution_count": 91,
   "id": "5e1c60f3-0a0f-4800-aa5c-0ee143fe1990",
   "metadata": {},
   "outputs": [],
   "source": [
    "## Types of stacks in tensors"
   ]
  },
  {
   "cell_type": "code",
   "execution_count": 92,
   "id": "1ce284ec-8e8c-4eae-b8e1-83618d357e3f",
   "metadata": {},
   "outputs": [],
   "source": [
    "sample1=torch.rand(3,3)"
   ]
  },
  {
   "cell_type": "code",
   "execution_count": 93,
   "id": "53135649-4f41-4c59-8b04-6d75f44d5ef3",
   "metadata": {},
   "outputs": [],
   "source": [
    "sample2=torch.rand(3,3)"
   ]
  },
  {
   "cell_type": "code",
   "execution_count": 96,
   "id": "47f9f099-9da1-4382-91ef-4a57f095f1fb",
   "metadata": {},
   "outputs": [],
   "source": [
    "\n",
    "## squeez remove alll 1 dimention from tensor\n",
    "## unsqueez add 1 dimention to the sensor"
   ]
  },
  {
   "cell_type": "code",
   "execution_count": 98,
   "id": "3d98bc8e-f23f-4bb9-8d4b-59482c90dd22",
   "metadata": {},
   "outputs": [
    {
     "data": {
      "text/plain": [
       "tensor([[0.4595, 0.1452, 0.7611],\n",
       "        [0.9391, 0.8215, 0.0650],\n",
       "        [0.3674, 0.9218, 0.4874],\n",
       "        [0.8319, 0.6554, 0.4724],\n",
       "        [0.3508, 0.1080, 0.0924],\n",
       "        [0.1683, 0.3878, 0.6470]])"
      ]
     },
     "execution_count": 98,
     "metadata": {},
     "output_type": "execute_result"
    }
   ],
   "source": [
    "torch.vstack((sample1,sample2))"
   ]
  },
  {
   "cell_type": "code",
   "execution_count": 99,
   "id": "9cc7e090-5bc3-4586-8961-82d509df369d",
   "metadata": {},
   "outputs": [
    {
     "data": {
      "text/plain": [
       "(tensor([[0.4595, 0.1452, 0.7611],\n",
       "         [0.9391, 0.8215, 0.0650],\n",
       "         [0.3674, 0.9218, 0.4874]]),\n",
       " tensor([[0.8319, 0.6554, 0.4724],\n",
       "         [0.3508, 0.1080, 0.0924],\n",
       "         [0.1683, 0.3878, 0.6470]]))"
      ]
     },
     "execution_count": 99,
     "metadata": {},
     "output_type": "execute_result"
    }
   ],
   "source": [
    "sample1,sample2"
   ]
  },
  {
   "cell_type": "code",
   "execution_count": 100,
   "id": "ec14f927-fb25-4869-a153-d340a13c4813",
   "metadata": {},
   "outputs": [
    {
     "data": {
      "text/plain": [
       "tensor([[0.4595, 0.1452, 0.7611, 0.8319, 0.6554, 0.4724],\n",
       "        [0.9391, 0.8215, 0.0650, 0.3508, 0.1080, 0.0924],\n",
       "        [0.3674, 0.9218, 0.4874, 0.1683, 0.3878, 0.6470]])"
      ]
     },
     "execution_count": 100,
     "metadata": {},
     "output_type": "execute_result"
    }
   ],
   "source": [
    "torch.hstack((sample1,sample2))"
   ]
  },
  {
   "cell_type": "code",
   "execution_count": 101,
   "id": "91e16513-1524-44c2-812b-965d070ac06a",
   "metadata": {},
   "outputs": [],
   "source": [
    "## the above will give us the stacking horixontaly and \n"
   ]
  },
  {
   "cell_type": "code",
   "execution_count": 105,
   "id": "9a54ca67-29cc-4c5e-aa07-d4fa45b93311",
   "metadata": {},
   "outputs": [
    {
     "data": {
      "text/plain": [
       "(tensor([0.4595, 0.1452, 0.7611, 0.9391, 0.8215, 0.0650, 0.3674, 0.9218, 0.4874]),\n",
       " torch.Size([9]))"
      ]
     },
     "execution_count": 105,
     "metadata": {},
     "output_type": "execute_result"
    }
   ],
   "source": [
    "sample1.reshape(9),sample1.reshape(9).shape\n"
   ]
  },
  {
   "cell_type": "code",
   "execution_count": 106,
   "id": "dc5d0226-257f-4f8b-9da2-5f9fed94b73f",
   "metadata": {},
   "outputs": [
    {
     "data": {
      "text/plain": [
       "tensor([[0.4595],\n",
       "        [0.1452],\n",
       "        [0.7611],\n",
       "        [0.9391],\n",
       "        [0.8215],\n",
       "        [0.0650],\n",
       "        [0.3674],\n",
       "        [0.9218],\n",
       "        [0.4874]])"
      ]
     },
     "execution_count": 106,
     "metadata": {},
     "output_type": "execute_result"
    }
   ],
   "source": [
    "torch.reshape(sample1,(9,1))"
   ]
  },
  {
   "cell_type": "code",
   "execution_count": 107,
   "id": "179b4a83-9207-470c-9773-61c6bb1640ce",
   "metadata": {},
   "outputs": [
    {
     "data": {
      "text/plain": [
       "tensor([[0.4595, 0.1452, 0.7611, 0.9391, 0.8215, 0.0650, 0.3674, 0.9218, 0.4874]])"
      ]
     },
     "execution_count": 107,
     "metadata": {},
     "output_type": "execute_result"
    }
   ],
   "source": [
    "torch.reshape(sample1,(1,9))"
   ]
  },
  {
   "cell_type": "code",
   "execution_count": 108,
   "id": "493fd1a2-657a-4582-886f-7c4736621c56",
   "metadata": {},
   "outputs": [],
   "source": [
    "# we double the number of elements without doubling the elements"
   ]
  },
  {
   "cell_type": "code",
   "execution_count": 109,
   "id": "3cf6b3cd-9162-4cac-9731-bc637ccc9d7f",
   "metadata": {},
   "outputs": [
    {
     "data": {
      "text/plain": [
       "torch.Size([1, 9])"
      ]
     },
     "execution_count": 109,
     "metadata": {},
     "output_type": "execute_result"
    }
   ],
   "source": [
    "torch.reshape(sample1,(1,9)).shape"
   ]
  },
  {
   "cell_type": "code",
   "execution_count": 110,
   "id": "37624c9c-c7ef-47d5-a11f-79af35aa278b",
   "metadata": {},
   "outputs": [],
   "source": [
    "#the reshape should be compatable to the original size"
   ]
  },
  {
   "cell_type": "code",
   "execution_count": 111,
   "id": "7d20437a-b1d6-4e95-9c43-5269d29b6a77",
   "metadata": {},
   "outputs": [],
   "source": [
    "x=torch.rand(10)"
   ]
  },
  {
   "cell_type": "code",
   "execution_count": 112,
   "id": "2572cad7-0914-4b27-a42e-abd1bc0228c6",
   "metadata": {},
   "outputs": [
    {
     "data": {
      "text/plain": [
       "tensor([[0.5673, 0.8517],\n",
       "        [0.8216, 0.9824],\n",
       "        [0.3242, 0.3220],\n",
       "        [0.4136, 0.4611],\n",
       "        [0.4079, 0.3720]])"
      ]
     },
     "execution_count": 112,
     "metadata": {},
     "output_type": "execute_result"
    }
   ],
   "source": [
    "torch.reshape(x,(5,2))"
   ]
  },
  {
   "cell_type": "code",
   "execution_count": 113,
   "id": "02803c17-c84d-4419-a369-355b2a818974",
   "metadata": {},
   "outputs": [],
   "source": [
    "z=sample1.view(9,1)"
   ]
  },
  {
   "cell_type": "code",
   "execution_count": 119,
   "id": "2b48f6c7-c289-4c57-9bb6-44e8024cb126",
   "metadata": {},
   "outputs": [
    {
     "data": {
      "text/plain": [
       "tensor([[1.0000e+02],\n",
       "        [1.4519e-01],\n",
       "        [7.6106e-01],\n",
       "        [9.3914e-01],\n",
       "        [8.2155e-01],\n",
       "        [6.4983e-02],\n",
       "        [3.6739e-01],\n",
       "        [9.2176e-01],\n",
       "        [4.8735e-01]])"
      ]
     },
     "execution_count": 119,
     "metadata": {},
     "output_type": "execute_result"
    }
   ],
   "source": [
    "z\n"
   ]
  },
  {
   "cell_type": "markdown",
   "id": "addbb7c6-706c-4206-a01e-7daeffc146aa",
   "metadata": {},
   "source": [
    "* view is the similar to the reshape\n",
    "* But in view the variable shape the data from the original\n",
    "* any change in the view will result in hange in original\n",
    "* but not in the case of the case of the reshape"
   ]
  },
  {
   "cell_type": "code",
   "execution_count": 115,
   "id": "8f0a8d1d-8fe3-4e6e-ba62-4ddbd4d279aa",
   "metadata": {},
   "outputs": [],
   "source": [
    "z[0]=100"
   ]
  },
  {
   "cell_type": "code",
   "execution_count": 116,
   "id": "c5ad1d8c-5d65-420a-a41f-4863b3f437cf",
   "metadata": {},
   "outputs": [
    {
     "data": {
      "text/plain": [
       "tensor([[1.0000e+02, 1.4519e-01, 7.6106e-01],\n",
       "        [9.3914e-01, 8.2155e-01, 6.4983e-02],\n",
       "        [3.6739e-01, 9.2176e-01, 4.8735e-01]])"
      ]
     },
     "execution_count": 116,
     "metadata": {},
     "output_type": "execute_result"
    }
   ],
   "source": [
    "sample1"
   ]
  },
  {
   "cell_type": "code",
   "execution_count": 120,
   "id": "1fe9a214-4716-469b-bf50-137dc3c917ef",
   "metadata": {},
   "outputs": [
    {
     "data": {
      "text/plain": [
       "tensor([[0.8319, 0.6554, 0.4724],\n",
       "        [0.3508, 0.1080, 0.0924],\n",
       "        [0.1683, 0.3878, 0.6470]])"
      ]
     },
     "execution_count": 120,
     "metadata": {},
     "output_type": "execute_result"
    }
   ],
   "source": [
    "sample2"
   ]
  },
  {
   "cell_type": "code",
   "execution_count": 121,
   "id": "a1a51b69-108b-4950-aff7-7f7f0d89dfda",
   "metadata": {},
   "outputs": [
    {
     "data": {
      "text/plain": [
       "tensor([[1.0000e+02, 1.4519e-01, 7.6106e-01],\n",
       "        [9.3914e-01, 8.2155e-01, 6.4983e-02],\n",
       "        [3.6739e-01, 9.2176e-01, 4.8735e-01]])"
      ]
     },
     "execution_count": 121,
     "metadata": {},
     "output_type": "execute_result"
    }
   ],
   "source": [
    "sample1"
   ]
  },
  {
   "cell_type": "code",
   "execution_count": 125,
   "id": "920b6433-20cf-44ad-a8bf-c942cabb4117",
   "metadata": {},
   "outputs": [
    {
     "data": {
      "text/plain": [
       "tensor([[1.0000e+02, 1.4519e-01, 7.6106e-01, 8.3187e-01, 6.5545e-01, 4.7237e-01],\n",
       "        [9.3914e-01, 8.2155e-01, 6.4983e-02, 3.5077e-01, 1.0802e-01, 9.2358e-02],\n",
       "        [3.6739e-01, 9.2176e-01, 4.8735e-01, 1.6831e-01, 3.8778e-01, 6.4698e-01]])"
      ]
     },
     "execution_count": 125,
     "metadata": {},
     "output_type": "execute_result"
    }
   ],
   "source": [
    "torch.hstack((sample1,sample2))"
   ]
  },
  {
   "cell_type": "code",
   "execution_count": 123,
   "id": "72e3a113-457d-4025-9dc4-0698fd2cd43c",
   "metadata": {},
   "outputs": [
    {
     "data": {
      "text/plain": [
       "tensor([[1.0000e+02, 1.4519e-01, 7.6106e-01],\n",
       "        [9.3914e-01, 8.2155e-01, 6.4983e-02],\n",
       "        [3.6739e-01, 9.2176e-01, 4.8735e-01],\n",
       "        [8.3187e-01, 6.5545e-01, 4.7237e-01],\n",
       "        [3.5077e-01, 1.0802e-01, 9.2358e-02],\n",
       "        [1.6831e-01, 3.8778e-01, 6.4698e-01]])"
      ]
     },
     "execution_count": 123,
     "metadata": {},
     "output_type": "execute_result"
    }
   ],
   "source": [
    "torch.vstack((sample1,sample2))\n"
   ]
  },
  {
   "cell_type": "code",
   "execution_count": 126,
   "id": "a8f3a9ea-80c0-432d-8a01-5fc8aec49d2f",
   "metadata": {},
   "outputs": [],
   "source": [
    "x_sample=torch.tensor([1,2,3,4,5])"
   ]
  },
  {
   "cell_type": "code",
   "execution_count": 127,
   "id": "cd4db6ca-4707-4957-907f-28717c161ed0",
   "metadata": {},
   "outputs": [
    {
     "data": {
      "text/plain": [
       "tensor([[1, 2, 3, 4, 5],\n",
       "        [1, 2, 3, 4, 5],\n",
       "        [1, 2, 3, 4, 5]])"
      ]
     },
     "execution_count": 127,
     "metadata": {},
     "output_type": "execute_result"
    }
   ],
   "source": [
    "torch.stack([x_sample,x_sample,x_sample])"
   ]
  },
  {
   "cell_type": "code",
   "execution_count": 128,
   "id": "cf7d13f4-d113-4ff7-b5f5-fddded4aa3c4",
   "metadata": {},
   "outputs": [
    {
     "data": {
      "text/plain": [
       "tensor([[1, 1, 1],\n",
       "        [2, 2, 2],\n",
       "        [3, 3, 3],\n",
       "        [4, 4, 4],\n",
       "        [5, 5, 5]])"
      ]
     },
     "execution_count": 128,
     "metadata": {},
     "output_type": "execute_result"
    }
   ],
   "source": [
    "torch.stack([x_sample,x_sample,x_sample],dim=1)"
   ]
  },
  {
   "cell_type": "code",
   "execution_count": 129,
   "id": "eb080fea-da4f-445d-8e9f-757f7ea7f208",
   "metadata": {},
   "outputs": [
    {
     "data": {
      "text/plain": [
       "torch.Size([5, 3])"
      ]
     },
     "execution_count": 129,
     "metadata": {},
     "output_type": "execute_result"
    }
   ],
   "source": [
    "torch.stack([x_sample,x_sample,x_sample],dim=1).shape"
   ]
  },
  {
   "cell_type": "code",
   "execution_count": 130,
   "id": "8b523dfb-9056-4aac-a758-05666c14adda",
   "metadata": {},
   "outputs": [],
   "source": [
    "# squeezing and unsqueezing"
   ]
  },
  {
   "cell_type": "code",
   "execution_count": null,
   "id": "91170801-83b8-4950-9b9b-b3519b7526a7",
   "metadata": {},
   "outputs": [],
   "source": []
  }
 ],
 "metadata": {
  "kernelspec": {
   "display_name": "Python 3 (ipykernel)",
   "language": "python",
   "name": "python3"
  },
  "language_info": {
   "codemirror_mode": {
    "name": "ipython",
    "version": 3
   },
   "file_extension": ".py",
   "mimetype": "text/x-python",
   "name": "python",
   "nbconvert_exporter": "python",
   "pygments_lexer": "ipython3",
   "version": "3.12.7"
  }
 },
 "nbformat": 4,
 "nbformat_minor": 5
}
