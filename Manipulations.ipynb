{
 "cells": [
  {
   "cell_type": "code",
   "execution_count": 132,
   "id": "31ca3601-fcb4-4bf3-be7c-795f4be7f69c",
   "metadata": {},
   "outputs": [],
   "source": [
    "import torch\n",
    "import pandas as pd\n",
    "import numpy as np\n",
    "import matplotlib.pyplot as plt"
   ]
  },
  {
   "cell_type": "markdown",
   "id": "77abc78a-f356-4048-bd3b-22e058f1a88c",
   "metadata": {},
   "source": [
    "### The manipulations in Pytorch:\n",
    "1.Addition\n",
    "2.Subtraction\n",
    "3.Multiplication(element-wise)\n",
    "4.Division\n",
    "5.Matrix Multiplication"
   ]
  },
  {
   "cell_type": "code",
   "execution_count": 133,
   "id": "7f358901-a3fe-4502-9716-2f88698ae929",
   "metadata": {},
   "outputs": [],
   "source": [
    "sample1=torch.tensor([1.3,2,3])\n"
   ]
  },
  {
   "cell_type": "code",
   "execution_count": 134,
   "id": "9fe25254-cf3e-446e-8550-db01093baf8c",
   "metadata": {},
   "outputs": [
    {
     "data": {
      "text/plain": [
       "tensor([11.3000, 12.0000, 13.0000])"
      ]
     },
     "execution_count": 134,
     "metadata": {},
     "output_type": "execute_result"
    }
   ],
   "source": [
    "sample1+10"
   ]
  },
  {
   "cell_type": "code",
   "execution_count": 135,
   "id": "d5ad792a-71ea-433f-873b-395f05573f30",
   "metadata": {},
   "outputs": [
    {
     "data": {
      "text/plain": [
       "tensor([1.3000, 2.0000, 3.0000])"
      ]
     },
     "execution_count": 135,
     "metadata": {},
     "output_type": "execute_result"
    }
   ],
   "source": [
    "sample1"
   ]
  },
  {
   "cell_type": "code",
   "execution_count": 136,
   "id": "f1c5d5d9-14fc-4814-a4f8-29d6925eb621",
   "metadata": {},
   "outputs": [
    {
     "data": {
      "text/plain": [
       "tensor([101.3000, 102.0000, 103.0000])"
      ]
     },
     "execution_count": 136,
     "metadata": {},
     "output_type": "execute_result"
    }
   ],
   "source": [
    "sample1+100"
   ]
  },
  {
   "cell_type": "code",
   "execution_count": 137,
   "id": "ef680b1d-6ebf-4a52-8f15-066edf30d309",
   "metadata": {},
   "outputs": [
    {
     "data": {
      "text/plain": [
       "tensor([13., 20., 30.])"
      ]
     },
     "execution_count": 137,
     "metadata": {},
     "output_type": "execute_result"
    }
   ],
   "source": [
    "sample1*10"
   ]
  },
  {
   "cell_type": "code",
   "execution_count": 138,
   "id": "ba2a4206-bcca-4252-b2c1-d0c84b7f926a",
   "metadata": {},
   "outputs": [
    {
     "data": {
      "text/plain": [
       "tensor([0.6500, 1.0000, 1.5000])"
      ]
     },
     "execution_count": 138,
     "metadata": {},
     "output_type": "execute_result"
    }
   ],
   "source": [
    "sample1/2"
   ]
  },
  {
   "cell_type": "code",
   "execution_count": 139,
   "id": "3256ce8e-792f-49c2-948b-8f56b3ce7db3",
   "metadata": {},
   "outputs": [],
   "source": [
    "sample1=sample1*10"
   ]
  },
  {
   "cell_type": "code",
   "execution_count": 140,
   "id": "5b499a84-6948-41b6-b417-befb6b43a2d2",
   "metadata": {},
   "outputs": [
    {
     "data": {
      "text/plain": [
       "tensor([13., 20., 30.])"
      ]
     },
     "execution_count": 140,
     "metadata": {},
     "output_type": "execute_result"
    }
   ],
   "source": [
    "sample1"
   ]
  },
  {
   "cell_type": "code",
   "execution_count": 141,
   "id": "16fd9546-14c3-4ee9-ad14-58043a005c0c",
   "metadata": {},
   "outputs": [],
   "source": [
    "# subtract 10\n"
   ]
  },
  {
   "cell_type": "code",
   "execution_count": 142,
   "id": "84854faa-7f4c-46e6-87ca-55b994226fa6",
   "metadata": {},
   "outputs": [
    {
     "data": {
      "text/plain": [
       "tensor([ 3., 10., 20.])"
      ]
     },
     "execution_count": 142,
     "metadata": {},
     "output_type": "execute_result"
    }
   ],
   "source": [
    "sample1-10"
   ]
  },
  {
   "cell_type": "code",
   "execution_count": 143,
   "id": "39b8bfff-3b5c-4461-9624-a6e429dee6ad",
   "metadata": {},
   "outputs": [
    {
     "data": {
      "text/plain": [
       "tensor([-7.,  0., 10.])"
      ]
     },
     "execution_count": 143,
     "metadata": {},
     "output_type": "execute_result"
    }
   ],
   "source": [
    "sample1-20"
   ]
  },
  {
   "cell_type": "code",
   "execution_count": 144,
   "id": "ef96dc23-2279-4a40-ac3c-7b77f93fcf29",
   "metadata": {},
   "outputs": [],
   "source": [
    "## Try out pytorch inbuilt function"
   ]
  },
  {
   "cell_type": "code",
   "execution_count": 145,
   "id": "a4443b98-41ef-42cb-b7c0-3f7677a8d3af",
   "metadata": {},
   "outputs": [
    {
     "data": {
      "text/plain": [
       "tensor([130., 200., 300.])"
      ]
     },
     "execution_count": 145,
     "metadata": {},
     "output_type": "execute_result"
    }
   ],
   "source": [
    "torch.mul(sample1,10)"
   ]
  },
  {
   "cell_type": "code",
   "execution_count": 146,
   "id": "8ddcf432-2f99-4096-9ae9-ce4c4c8ea29a",
   "metadata": {},
   "outputs": [
    {
     "data": {
      "text/plain": [
       "tensor([213., 220., 230.])"
      ]
     },
     "execution_count": 146,
     "metadata": {},
     "output_type": "execute_result"
    }
   ],
   "source": [
    "torch.add(sample1,200)"
   ]
  },
  {
   "cell_type": "code",
   "execution_count": 147,
   "id": "ae7e915e-c4f6-4693-bbb3-5bcb964779a1",
   "metadata": {},
   "outputs": [
    {
     "data": {
      "text/plain": [
       "tensor([12., 19., 29.])"
      ]
     },
     "execution_count": 147,
     "metadata": {},
     "output_type": "execute_result"
    }
   ],
   "source": [
    "torch.sub(sample1,1)"
   ]
  },
  {
   "cell_type": "code",
   "execution_count": 148,
   "id": "73508089-8e01-4c51-844b-427b7b29272e",
   "metadata": {},
   "outputs": [
    {
     "data": {
      "text/plain": [
       "tensor([ 6.5000, 10.0000, 15.0000])"
      ]
     },
     "execution_count": 148,
     "metadata": {},
     "output_type": "execute_result"
    }
   ],
   "source": [
    "torch.div(sample1,2)"
   ]
  },
  {
   "cell_type": "code",
   "execution_count": 149,
   "id": "63ffabb7-7f9a-4aaa-9f83-1d7013d7e267",
   "metadata": {},
   "outputs": [
    {
     "data": {
      "text/plain": [
       "tensor([13., 20., 30.])"
      ]
     },
     "execution_count": 149,
     "metadata": {},
     "output_type": "execute_result"
    }
   ],
   "source": [
    "sample1"
   ]
  },
  {
   "cell_type": "code",
   "execution_count": 150,
   "id": "1791c1dd-ec5b-4a17-bd06-f9ee4b1abee8",
   "metadata": {},
   "outputs": [],
   "source": [
    "sample2=torch.rand(1,3)"
   ]
  },
  {
   "cell_type": "code",
   "execution_count": 151,
   "id": "08e63044-4013-4acf-a225-e4548071c5b9",
   "metadata": {},
   "outputs": [
    {
     "data": {
      "text/plain": [
       "tensor([[0.9699, 0.2529, 0.1584]])"
      ]
     },
     "execution_count": 151,
     "metadata": {},
     "output_type": "execute_result"
    }
   ],
   "source": [
    "sample2"
   ]
  },
  {
   "cell_type": "code",
   "execution_count": 152,
   "id": "352bc343-aef4-4321-b93a-6552f0457843",
   "metadata": {},
   "outputs": [
    {
     "data": {
      "text/plain": [
       "tensor([[12.6088,  5.0575,  4.7510]])"
      ]
     },
     "execution_count": 152,
     "metadata": {},
     "output_type": "execute_result"
    }
   ],
   "source": [
    "torch.mul(sample1,sample2)"
   ]
  },
  {
   "cell_type": "code",
   "execution_count": 153,
   "id": "8ab1b1c6-b1b6-4fe8-9c4e-5d3a50747fde",
   "metadata": {},
   "outputs": [
    {
     "data": {
      "text/plain": [
       "tensor([[0.9699, 0.2529, 0.1584]])"
      ]
     },
     "execution_count": 153,
     "metadata": {},
     "output_type": "execute_result"
    }
   ],
   "source": [
    "sample2"
   ]
  },
  {
   "cell_type": "code",
   "execution_count": 154,
   "id": "c2cedb09-3dea-4e7e-90da-05ce4b235a3d",
   "metadata": {},
   "outputs": [
    {
     "data": {
      "text/plain": [
       "tensor([13., 20., 30.])"
      ]
     },
     "execution_count": 154,
     "metadata": {},
     "output_type": "execute_result"
    }
   ],
   "source": [
    "sample1"
   ]
  },
  {
   "cell_type": "markdown",
   "id": "1a1cb4b7-f11d-4f33-88a1-7c4838999cb7",
   "metadata": {},
   "source": [
    "### matric multiplication\n",
    "## element-wise matmul\n",
    "## matrix multiplication`(dot product)`"
   ]
  },
  {
   "cell_type": "code",
   "execution_count": 155,
   "id": "b8cde46d-1ebd-4ead-a795-e010d7617c20",
   "metadata": {},
   "outputs": [
    {
     "name": "stdout",
     "output_type": "stream",
     "text": [
      "element wise multiplication tensor([169., 400., 900.])\n"
     ]
    }
   ],
   "source": [
    "print(f\"element wise multiplication {sample1*sample1}\")"
   ]
  },
  {
   "cell_type": "code",
   "execution_count": 156,
   "id": "d475cd96-867d-4d74-bbb2-1726c510353b",
   "metadata": {},
   "outputs": [],
   "source": [
    "# matric multiplication"
   ]
  },
  {
   "cell_type": "code",
   "execution_count": 157,
   "id": "a9082dea-215e-4db2-ba4a-f5ad7116eb4b",
   "metadata": {},
   "outputs": [
    {
     "data": {
      "text/plain": [
       "tensor(1469.)"
      ]
     },
     "execution_count": 157,
     "metadata": {},
     "output_type": "execute_result"
    }
   ],
   "source": [
    "torch.matmul(sample1,sample1)"
   ]
  },
  {
   "cell_type": "code",
   "execution_count": 158,
   "id": "2538da0f-4733-40e1-a61b-ea68995afe2f",
   "metadata": {},
   "outputs": [],
   "source": [
    "sample2=torch.rand(3,1)"
   ]
  },
  {
   "cell_type": "code",
   "execution_count": 159,
   "id": "7dd3e06b-94c6-4496-a79c-9290ca4b5b07",
   "metadata": {},
   "outputs": [
    {
     "data": {
      "text/plain": [
       "tensor([12.3513])"
      ]
     },
     "execution_count": 159,
     "metadata": {},
     "output_type": "execute_result"
    }
   ],
   "source": [
    "torch.matmul(sample1,sample2)"
   ]
  },
  {
   "cell_type": "code",
   "execution_count": 160,
   "id": "2fdd46f2-7d73-4d61-b767-bf5ee698a512",
   "metadata": {},
   "outputs": [
    {
     "name": "stdout",
     "output_type": "stream",
     "text": [
      "1.32 μs ± 27.3 ns per loop (mean ± std. dev. of 7 runs, 1,000,000 loops each)\n"
     ]
    }
   ],
   "source": [
    "%%timeit\n",
    "torch.matmul(sample1,sample2)"
   ]
  },
  {
   "cell_type": "code",
   "execution_count": 161,
   "id": "1bb9db21-8534-408d-a7a7-e556a292edad",
   "metadata": {},
   "outputs": [],
   "source": [
    "# use torch libraries for the better perfomance"
   ]
  },
  {
   "cell_type": "code",
   "execution_count": 162,
   "id": "7b67419a-3059-4422-a71d-fce69de69ba3",
   "metadata": {},
   "outputs": [],
   "source": [
    "## one of the most common errors in deep learning is shape errors"
   ]
  },
  {
   "cell_type": "code",
   "execution_count": 163,
   "id": "ec02eabe-0b41-4388-9aaf-27510bbe8aff",
   "metadata": {},
   "outputs": [],
   "source": [
    "## the inner dimentions must match match for matrix multiplication\n",
    "## else it wont work"
   ]
  },
  {
   "cell_type": "markdown",
   "id": "1a9a5791-2988-4a23-acb5-d91c06583bee",
   "metadata": {},
   "source": [
    "###### torch.matmul(torch.rand(3,2),torch.rand(3,2))\n",
    "##### thr above wont work as its innerdomention were not same\n",
    "### the output matric outer dimention\n",
    "`(2,3) (3,2)` outer is `(2,2)`"
   ]
  },
  {
   "cell_type": "code",
   "execution_count": 164,
   "id": "497651a6-0a30-405d-a6fd-e48fad053d95",
   "metadata": {},
   "outputs": [
    {
     "data": {
      "text/plain": [
       "tensor([[0.5709, 0.7376, 1.2421],\n",
       "        [0.3271, 0.5031, 1.0295],\n",
       "        [0.0619, 0.1041, 0.2299]])"
      ]
     },
     "execution_count": 164,
     "metadata": {},
     "output_type": "execute_result"
    }
   ],
   "source": [
    "torch.matmul(torch.rand(3,2),torch.rand(2,3))"
   ]
  },
  {
   "cell_type": "code",
   "execution_count": 165,
   "id": "010ed9dc-965a-4fd6-ae6c-326be8a1ad3b",
   "metadata": {},
   "outputs": [
    {
     "data": {
      "text/plain": [
       "torch.Size([10, 10])"
      ]
     },
     "execution_count": 165,
     "metadata": {},
     "output_type": "execute_result"
    }
   ],
   "source": [
    "torch.matmul(torch.rand(10,10),torch.rand(10,10)).shape"
   ]
  },
  {
   "cell_type": "code",
   "execution_count": 166,
   "id": "b1b83378-b139-45bc-a47f-6710b999a1d0",
   "metadata": {},
   "outputs": [],
   "source": [
    "# one of the most common errors"
   ]
  },
  {
   "cell_type": "code",
   "execution_count": 167,
   "id": "71d893a7-a451-48cf-af1f-4be274ff8513",
   "metadata": {},
   "outputs": [],
   "source": [
    "tensora=torch.tensor([[1,2,3],\n",
    "                      [4,5,6],\n",
    "                      [7,8,9]])\n",
    "tensorb=torch.tensor([[10,11,12],\n",
    "                      [13,14,15],\n",
    "                      [16,17,18]])"
   ]
  },
  {
   "cell_type": "code",
   "execution_count": 168,
   "id": "c27a38c2-9df7-41ff-bbdb-83e4c18f102f",
   "metadata": {},
   "outputs": [
    {
     "data": {
      "text/plain": [
       "(tensor([[1, 2, 3],\n",
       "         [4, 5, 6],\n",
       "         [7, 8, 9]]),\n",
       " tensor([[10, 11, 12],\n",
       "         [13, 14, 15],\n",
       "         [16, 17, 18]]))"
      ]
     },
     "execution_count": 168,
     "metadata": {},
     "output_type": "execute_result"
    }
   ],
   "source": [
    "tensora,tensorb"
   ]
  },
  {
   "cell_type": "code",
   "execution_count": 169,
   "id": "fc677a73-4d0c-401b-b3a9-2cafd33fac52",
   "metadata": {},
   "outputs": [
    {
     "data": {
      "text/plain": [
       "(torch.Size([3, 3]), torch.Size([3, 3]))"
      ]
     },
     "execution_count": 169,
     "metadata": {},
     "output_type": "execute_result"
    }
   ],
   "source": [
    "tensora.shape,tensorb.shape"
   ]
  },
  {
   "cell_type": "code",
   "execution_count": 170,
   "id": "20bd3251-0c4c-410f-a661-64f5d0a8e7fd",
   "metadata": {},
   "outputs": [
    {
     "name": "stdout",
     "output_type": "stream",
     "text": [
      "782 ns ± 10.8 ns per loop (mean ± std. dev. of 7 runs, 1,000,000 loops each)\n"
     ]
    }
   ],
   "source": [
    "%timeit torch.matmul(tensora,tensorb)"
   ]
  },
  {
   "cell_type": "code",
   "execution_count": 171,
   "id": "e8dfb689-e0f9-491d-8ee1-b14db307f7da",
   "metadata": {},
   "outputs": [
    {
     "name": "stdout",
     "output_type": "stream",
     "text": [
      "730 ns ± 4.61 ns per loop (mean ± std. dev. of 7 runs, 1,000,000 loops each)\n"
     ]
    }
   ],
   "source": [
    "%timeit torch.mul(tensora,tensorb)"
   ]
  },
  {
   "cell_type": "code",
   "execution_count": 172,
   "id": "a83f05df-c85a-4d6f-9e37-d53bd88162df",
   "metadata": {},
   "outputs": [
    {
     "name": "stdout",
     "output_type": "stream",
     "text": [
      "728 ns ± 1.22 ns per loop (mean ± std. dev. of 7 runs, 1,000,000 loops each)\n"
     ]
    }
   ],
   "source": [
    "%timeit torch.mm(tensora,tensorb)"
   ]
  },
  {
   "cell_type": "code",
   "execution_count": 173,
   "id": "fd0c3789-aed6-48ed-a4eb-749e8e1594b4",
   "metadata": {},
   "outputs": [],
   "source": [
    "## torch.mm was a shortform of matrixmultiplication"
   ]
  },
  {
   "cell_type": "code",
   "execution_count": 174,
   "id": "bf152d40-ec0b-4197-8a85-161896983d63",
   "metadata": {},
   "outputs": [],
   "source": [
    "tensora=torch.tensor([[1,2],\n",
    "                      [3,4],\n",
    "                      [5,6]])\n",
    "tensorb=torch.tensor([[7,8],\n",
    "                      [9,10],\n",
    "                      [11,12]])"
   ]
  },
  {
   "cell_type": "code",
   "execution_count": 175,
   "id": "5e0321a9-9982-4fec-84ad-6251648b22b7",
   "metadata": {},
   "outputs": [
    {
     "ename": "RuntimeError",
     "evalue": "mat1 and mat2 shapes cannot be multiplied (3x2 and 3x2)",
     "output_type": "error",
     "traceback": [
      "\u001b[0;31m---------------------------------------------------------------------------\u001b[0m",
      "\u001b[0;31mRuntimeError\u001b[0m                              Traceback (most recent call last)",
      "Cell \u001b[0;32mIn[175], line 1\u001b[0m\n\u001b[0;32m----> 1\u001b[0m \u001b[43mtorch\u001b[49m\u001b[38;5;241;43m.\u001b[39;49m\u001b[43mmatmul\u001b[49m\u001b[43m(\u001b[49m\u001b[43mtensora\u001b[49m\u001b[43m,\u001b[49m\u001b[43mtensorb\u001b[49m\u001b[43m)\u001b[49m\n",
      "\u001b[0;31mRuntimeError\u001b[0m: mat1 and mat2 shapes cannot be multiplied (3x2 and 3x2)"
     ]
    }
   ],
   "source": [
    "torch.matmul(tensora,tensorb)"
   ]
  },
  {
   "cell_type": "code",
   "execution_count": 176,
   "id": "bdafc03c-3540-4172-b595-dbaa7d0f31c2",
   "metadata": {},
   "outputs": [],
   "source": [
    "## now to solve /the above problem we should use the transpose function in the torch"
   ]
  },
  {
   "cell_type": "code",
   "execution_count": 177,
   "id": "4ee70f92-82f7-4f5a-bab2-bb09cf42df36",
   "metadata": {},
   "outputs": [],
   "source": [
    "## to fix the tensor shape issue\n",
    "## a transpose will switches the axes "
   ]
  },
  {
   "cell_type": "code",
   "execution_count": 178,
   "id": "0a841667-a6ab-47b2-8f53-a5678538e0f9",
   "metadata": {},
   "outputs": [],
   "source": [
    "tensorb=tensorb.T"
   ]
  },
  {
   "cell_type": "code",
   "execution_count": 179,
   "id": "cde8942e-e745-41d4-9c80-f0742dfaff33",
   "metadata": {},
   "outputs": [
    {
     "data": {
      "text/plain": [
       "tensor([[ 23,  29,  35],\n",
       "        [ 53,  67,  81],\n",
       "        [ 83, 105, 127]])"
      ]
     },
     "execution_count": 179,
     "metadata": {},
     "output_type": "execute_result"
    }
   ],
   "source": [
    "torch.matmul(tensora,tensorb)"
   ]
  },
  {
   "cell_type": "code",
   "execution_count": 180,
   "id": "60b6eaa6-da2e-4f8a-861f-492711360024",
   "metadata": {},
   "outputs": [
    {
     "data": {
      "text/plain": [
       "(torch.Size([2, 3]), torch.Size([3, 2]))"
      ]
     },
     "execution_count": 180,
     "metadata": {},
     "output_type": "execute_result"
    }
   ],
   "source": [
    "tensorb.shape,tensora.shape\n"
   ]
  },
  {
   "cell_type": "code",
   "execution_count": 181,
   "id": "81b88f56-2f37-4e4a-98b0-22b63675e965",
   "metadata": {},
   "outputs": [
    {
     "data": {
      "text/plain": [
       "tensor([[ 89, 116],\n",
       "        [ 98, 128]])"
      ]
     },
     "execution_count": 181,
     "metadata": {},
     "output_type": "execute_result"
    }
   ],
   "source": [
    "torch.matmul(tensorb,tensora)"
   ]
  },
  {
   "cell_type": "code",
   "execution_count": 182,
   "id": "ec5e3abc-da78-4478-84e4-007c55ab5198",
   "metadata": {},
   "outputs": [],
   "source": [
    "# the matrix multiplication operation works when tensorb transpose"
   ]
  },
  {
   "cell_type": "code",
   "execution_count": 183,
   "id": "4f4d8f61-369b-4a4b-9522-14360dbbe255",
   "metadata": {},
   "outputs": [],
   "source": [
    "## they do match"
   ]
  },
  {
   "cell_type": "code",
   "execution_count": 184,
   "id": "af601547-b0a8-4618-ad8b-273202c03489",
   "metadata": {},
   "outputs": [],
   "source": [
    "## finding the min,max,sum,mean,median etc ## called tensor aggragation"
   ]
  },
  {
   "cell_type": "code",
   "execution_count": 185,
   "id": "09c94963-f8c3-49f7-822e-ca79b7ed137a",
   "metadata": {},
   "outputs": [
    {
     "data": {
      "text/plain": [
       "tensor(63.)"
      ]
     },
     "execution_count": 185,
     "metadata": {},
     "output_type": "execute_result"
    }
   ],
   "source": [
    "torch.sum(sample1)"
   ]
  },
  {
   "cell_type": "code",
   "execution_count": 186,
   "id": "fa95df81-ffe8-4930-b0f2-a60da61752e0",
   "metadata": {},
   "outputs": [],
   "source": [
    "x=torch.arange(0,100,10)"
   ]
  },
  {
   "cell_type": "code",
   "execution_count": 187,
   "id": "f064357e-a309-406c-8263-a1e5c13d2386",
   "metadata": {},
   "outputs": [
    {
     "data": {
      "text/plain": [
       "(tensor([ 0, 10, 20, 30, 40, 50, 60, 70, 80, 90]), torch.int64)"
      ]
     },
     "execution_count": 187,
     "metadata": {},
     "output_type": "execute_result"
    }
   ],
   "source": [
    "x,x.dtype"
   ]
  },
  {
   "cell_type": "code",
   "execution_count": 188,
   "id": "a3a71c42-d3fa-4fb3-b69e-f2004fd231ea",
   "metadata": {},
   "outputs": [
    {
     "data": {
      "text/plain": [
       "tensor(450)"
      ]
     },
     "execution_count": 188,
     "metadata": {},
     "output_type": "execute_result"
    }
   ],
   "source": [
    "#sum of elements\n",
    "torch.sum(x)"
   ]
  },
  {
   "cell_type": "code",
   "execution_count": 189,
   "id": "43da238d-c479-44ee-bc20-dfab7011f6ff",
   "metadata": {},
   "outputs": [
    {
     "data": {
      "text/plain": [
       "tensor(0)"
      ]
     },
     "execution_count": 189,
     "metadata": {},
     "output_type": "execute_result"
    }
   ],
   "source": [
    "torch.min(x)"
   ]
  },
  {
   "cell_type": "code",
   "execution_count": 190,
   "id": "20131c7d-1f12-41ef-8b22-b2470ebec7b4",
   "metadata": {},
   "outputs": [
    {
     "data": {
      "text/plain": [
       "tensor(90)"
      ]
     },
     "execution_count": 190,
     "metadata": {},
     "output_type": "execute_result"
    }
   ],
   "source": [
    "torch.max(x)"
   ]
  },
  {
   "cell_type": "code",
   "execution_count": 191,
   "id": "dd956cb3-bc74-4b08-a92f-5a452c2fcd58",
   "metadata": {},
   "outputs": [
    {
     "data": {
      "text/plain": [
       "tensor(45.)"
      ]
     },
     "execution_count": 191,
     "metadata": {},
     "output_type": "execute_result"
    }
   ],
   "source": [
    "# it is becaule the datatype compatability int64 was also called long \n",
    "torch.mean(x.type(torch.float32))"
   ]
  },
  {
   "cell_type": "code",
   "execution_count": 192,
   "id": "04f521fb-80ea-4113-ab6b-093553cf2c2a",
   "metadata": {},
   "outputs": [],
   "source": [
    "#the above demonstates the type cnversion in pytorch"
   ]
  },
  {
   "cell_type": "code",
   "execution_count": 193,
   "id": "045f9f4a-119c-4a51-b38f-1e0009099e12",
   "metadata": {},
   "outputs": [],
   "source": [
    "x=x.type(torch.float32)"
   ]
  },
  {
   "cell_type": "code",
   "execution_count": 194,
   "id": "b359e06b-ace5-4143-9fd5-65c731aa40eb",
   "metadata": {},
   "outputs": [
    {
     "data": {
      "text/plain": [
       "tensor(45.)"
      ]
     },
     "execution_count": 194,
     "metadata": {},
     "output_type": "execute_result"
    }
   ],
   "source": [
    "x.mean()"
   ]
  },
  {
   "cell_type": "code",
   "execution_count": 195,
   "id": "7654189f-698c-440c-afb5-dcfe648dfde6",
   "metadata": {},
   "outputs": [
    {
     "data": {
      "text/plain": [
       "tensor(450.)"
      ]
     },
     "execution_count": 195,
     "metadata": {},
     "output_type": "execute_result"
    }
   ],
   "source": [
    "torch.sum(x)"
   ]
  },
  {
   "cell_type": "code",
   "execution_count": 196,
   "id": "389b2796-00a7-463f-98c4-f860a22f8724",
   "metadata": {},
   "outputs": [
    {
     "name": "stdout",
     "output_type": "stream",
     "text": [
      "843 ns ± 13.4 ns per loop (mean ± std. dev. of 7 runs, 1,000,000 loops each)\n"
     ]
    }
   ],
   "source": [
    "%timeit torch.sum(x)\n"
   ]
  },
  {
   "cell_type": "code",
   "execution_count": 197,
   "id": "319c1f3d-e57a-48b8-8df0-04a88891f55e",
   "metadata": {},
   "outputs": [
    {
     "name": "stdout",
     "output_type": "stream",
     "text": [
      "12.7 μs ± 85.6 ns per loop (mean ± std. dev. of 7 runs, 100,000 loops each)\n"
     ]
    }
   ],
   "source": [
    "%timeit sum(x)"
   ]
  },
  {
   "cell_type": "code",
   "execution_count": 198,
   "id": "ee5d86f0-6592-4715-a479-8541ff188fb8",
   "metadata": {},
   "outputs": [],
   "source": [
    "# to fingd the positional min and max"
   ]
  },
  {
   "cell_type": "code",
   "execution_count": 199,
   "id": "a83a32ef-d37c-4642-b36f-f5ebf04316ee",
   "metadata": {},
   "outputs": [
    {
     "data": {
      "text/plain": [
       "tensor(0.)"
      ]
     },
     "execution_count": 199,
     "metadata": {},
     "output_type": "execute_result"
    }
   ],
   "source": [
    "torch.prod(x)"
   ]
  },
  {
   "cell_type": "code",
   "execution_count": 200,
   "id": "70e08dd0-5f32-46a1-83c7-cbbe8c2c5ddf",
   "metadata": {},
   "outputs": [
    {
     "data": {
      "text/plain": [
       "tensor(30.2765)"
      ]
     },
     "execution_count": 200,
     "metadata": {},
     "output_type": "execute_result"
    }
   ],
   "source": [
    "torch.std(x)"
   ]
  },
  {
   "cell_type": "code",
   "execution_count": 201,
   "id": "30234891-0323-42b9-a264-af9d254853b5",
   "metadata": {},
   "outputs": [
    {
     "data": {
      "text/plain": [
       "tensor(916.6667)"
      ]
     },
     "execution_count": 201,
     "metadata": {},
     "output_type": "execute_result"
    }
   ],
   "source": [
    "torch.var(x)"
   ]
  },
  {
   "cell_type": "code",
   "execution_count": 202,
   "id": "c5c5327c-d713-4543-be66-a7eaa09dcaf5",
   "metadata": {},
   "outputs": [],
   "source": [
    "## the above were the standard deviation and variance"
   ]
  },
  {
   "cell_type": "code",
   "execution_count": 203,
   "id": "276299b2-b452-447e-b04b-faa9c1e1ff33",
   "metadata": {},
   "outputs": [
    {
     "data": {
      "text/plain": [
       "<module 'torch' from '/Library/Frameworks/Python.framework/Versions/3.12/lib/python3.12/site-packages/torch/__init__.py'>"
      ]
     },
     "execution_count": 203,
     "metadata": {},
     "output_type": "execute_result"
    }
   ],
   "source": [
    "torch"
   ]
  },
  {
   "cell_type": "markdown",
   "id": "6be37b95-4cbf-4ba2-ab00-3342bfb6c924",
   "metadata": {},
   "source": [
    "## finding the positional min and max"
   ]
  },
  {
   "cell_type": "code",
   "execution_count": 204,
   "id": "5c2d236d-3c1c-408a-a39c-0a91d4080325",
   "metadata": {},
   "outputs": [
    {
     "data": {
      "text/plain": [
       "tensor(0)"
      ]
     },
     "execution_count": 204,
     "metadata": {},
     "output_type": "execute_result"
    }
   ],
   "source": [
    "torch.argmin(x)"
   ]
  },
  {
   "cell_type": "code",
   "execution_count": 205,
   "id": "9c2f3231-d8b3-4b9b-8532-2397031a7571",
   "metadata": {},
   "outputs": [
    {
     "data": {
      "text/plain": [
       "tensor(0)"
      ]
     },
     "execution_count": 205,
     "metadata": {},
     "output_type": "execute_result"
    }
   ],
   "source": [
    "x.argmin()"
   ]
  },
  {
   "cell_type": "code",
   "execution_count": 206,
   "id": "233fe09a-8e1d-4ef6-bd1e-a90600ed6390",
   "metadata": {},
   "outputs": [
    {
     "data": {
      "text/plain": [
       "(tensor(9), tensor(9))"
      ]
     },
     "execution_count": 206,
     "metadata": {},
     "output_type": "execute_result"
    }
   ],
   "source": [
    "torch.argmax(x),x.argmax()"
   ]
  },
  {
   "cell_type": "code",
   "execution_count": 207,
   "id": "04cad44a-c822-4f3b-ab06-9beb416c6c0a",
   "metadata": {},
   "outputs": [],
   "source": [
    "## returns the index of the maximum and the minimum"
   ]
  },
  {
   "cell_type": "code",
   "execution_count": 208,
   "id": "b8309004-76d3-49c2-abd8-d0cf5f4c8806",
   "metadata": {},
   "outputs": [
    {
     "data": {
      "text/plain": [
       "tensor(0.)"
      ]
     },
     "execution_count": 208,
     "metadata": {},
     "output_type": "execute_result"
    }
   ],
   "source": [
    "x[0]"
   ]
  },
  {
   "cell_type": "code",
   "execution_count": 209,
   "id": "f722ea40-1a66-4bac-ac90-24d158bc54ec",
   "metadata": {},
   "outputs": [
    {
     "data": {
      "text/plain": [
       "tensor(0.)"
      ]
     },
     "execution_count": 209,
     "metadata": {},
     "output_type": "execute_result"
    }
   ],
   "source": [
    "x[torch.argmin(x)]"
   ]
  },
  {
   "cell_type": "code",
   "execution_count": 210,
   "id": "01086245-3c41-4d14-8310-3904c9aa5bb4",
   "metadata": {},
   "outputs": [
    {
     "name": "stdout",
     "output_type": "stream",
     "text": [
      "hello\n"
     ]
    }
   ],
   "source": [
    "print('hello')"
   ]
  },
  {
   "cell_type": "markdown",
   "id": "22e1ca40-7fd7-44f9-aa6c-d3add90bdb5c",
   "metadata": {},
   "source": [
    "## reshaping,squeezing,unsqueezing and stacking the tensors\n",
    "\n",
    "* reshaping- reshes the input tensor to defined shape\n",
    "* view- return of the input tensor of certain shape but keep the same memory\n",
    "* stacking- combine multiple tensor horizontally hstack or vertically called vstack"
   ]
  },
  {
   "cell_type": "code",
   "execution_count": 211,
   "id": "5e1c60f3-0a0f-4800-aa5c-0ee143fe1990",
   "metadata": {},
   "outputs": [],
   "source": [
    "## Types of stacks in tensors"
   ]
  },
  {
   "cell_type": "code",
   "execution_count": 212,
   "id": "1ce284ec-8e8c-4eae-b8e1-83618d357e3f",
   "metadata": {},
   "outputs": [],
   "source": [
    "sample1=torch.rand(3,3)"
   ]
  },
  {
   "cell_type": "code",
   "execution_count": 213,
   "id": "53135649-4f41-4c59-8b04-6d75f44d5ef3",
   "metadata": {},
   "outputs": [],
   "source": [
    "sample2=torch.rand(3,3)"
   ]
  },
  {
   "cell_type": "code",
   "execution_count": 214,
   "id": "47f9f099-9da1-4382-91ef-4a57f095f1fb",
   "metadata": {},
   "outputs": [],
   "source": [
    "\n",
    "## squeez remove alll 1 dimention from tensor\n",
    "## unsqueez add 1 dimention to the sensor"
   ]
  },
  {
   "cell_type": "code",
   "execution_count": 215,
   "id": "3d98bc8e-f23f-4bb9-8d4b-59482c90dd22",
   "metadata": {},
   "outputs": [
    {
     "data": {
      "text/plain": [
       "tensor([[0.4290, 0.3033, 0.4606],\n",
       "        [0.1768, 0.9379, 0.5313],\n",
       "        [0.9231, 0.0044, 0.4718],\n",
       "        [0.4493, 0.4020, 0.5551],\n",
       "        [0.6834, 0.9629, 0.2259],\n",
       "        [0.7403, 0.0846, 0.4374]])"
      ]
     },
     "execution_count": 215,
     "metadata": {},
     "output_type": "execute_result"
    }
   ],
   "source": [
    "torch.vstack((sample1,sample2))"
   ]
  },
  {
   "cell_type": "code",
   "execution_count": 216,
   "id": "9cc7e090-5bc3-4586-8961-82d509df369d",
   "metadata": {},
   "outputs": [
    {
     "data": {
      "text/plain": [
       "(tensor([[0.4290, 0.3033, 0.4606],\n",
       "         [0.1768, 0.9379, 0.5313],\n",
       "         [0.9231, 0.0044, 0.4718]]),\n",
       " tensor([[0.4493, 0.4020, 0.5551],\n",
       "         [0.6834, 0.9629, 0.2259],\n",
       "         [0.7403, 0.0846, 0.4374]]))"
      ]
     },
     "execution_count": 216,
     "metadata": {},
     "output_type": "execute_result"
    }
   ],
   "source": [
    "sample1,sample2"
   ]
  },
  {
   "cell_type": "code",
   "execution_count": 217,
   "id": "ec14f927-fb25-4869-a153-d340a13c4813",
   "metadata": {},
   "outputs": [
    {
     "data": {
      "text/plain": [
       "tensor([[0.4290, 0.3033, 0.4606, 0.4493, 0.4020, 0.5551],\n",
       "        [0.1768, 0.9379, 0.5313, 0.6834, 0.9629, 0.2259],\n",
       "        [0.9231, 0.0044, 0.4718, 0.7403, 0.0846, 0.4374]])"
      ]
     },
     "execution_count": 217,
     "metadata": {},
     "output_type": "execute_result"
    }
   ],
   "source": [
    "torch.hstack((sample1,sample2))"
   ]
  },
  {
   "cell_type": "code",
   "execution_count": 218,
   "id": "91e16513-1524-44c2-812b-965d070ac06a",
   "metadata": {},
   "outputs": [],
   "source": [
    "## the above will give us the stacking horixontaly and \n"
   ]
  },
  {
   "cell_type": "code",
   "execution_count": 219,
   "id": "9a54ca67-29cc-4c5e-aa07-d4fa45b93311",
   "metadata": {},
   "outputs": [
    {
     "data": {
      "text/plain": [
       "(tensor([0.4290, 0.3033, 0.4606, 0.1768, 0.9379, 0.5313, 0.9231, 0.0044, 0.4718]),\n",
       " torch.Size([9]))"
      ]
     },
     "execution_count": 219,
     "metadata": {},
     "output_type": "execute_result"
    }
   ],
   "source": [
    "sample1.reshape(9),sample1.reshape(9).shape\n"
   ]
  },
  {
   "cell_type": "code",
   "execution_count": 220,
   "id": "dc5d0226-257f-4f8b-9da2-5f9fed94b73f",
   "metadata": {},
   "outputs": [
    {
     "data": {
      "text/plain": [
       "tensor([[0.4290],\n",
       "        [0.3033],\n",
       "        [0.4606],\n",
       "        [0.1768],\n",
       "        [0.9379],\n",
       "        [0.5313],\n",
       "        [0.9231],\n",
       "        [0.0044],\n",
       "        [0.4718]])"
      ]
     },
     "execution_count": 220,
     "metadata": {},
     "output_type": "execute_result"
    }
   ],
   "source": [
    "torch.reshape(sample1,(9,1))"
   ]
  },
  {
   "cell_type": "code",
   "execution_count": 221,
   "id": "179b4a83-9207-470c-9773-61c6bb1640ce",
   "metadata": {},
   "outputs": [
    {
     "data": {
      "text/plain": [
       "tensor([[0.4290, 0.3033, 0.4606, 0.1768, 0.9379, 0.5313, 0.9231, 0.0044, 0.4718]])"
      ]
     },
     "execution_count": 221,
     "metadata": {},
     "output_type": "execute_result"
    }
   ],
   "source": [
    "torch.reshape(sample1,(1,9))"
   ]
  },
  {
   "cell_type": "code",
   "execution_count": 222,
   "id": "493fd1a2-657a-4582-886f-7c4736621c56",
   "metadata": {},
   "outputs": [],
   "source": [
    "# we double the number of elements without doubling the elements"
   ]
  },
  {
   "cell_type": "code",
   "execution_count": 223,
   "id": "3cf6b3cd-9162-4cac-9731-bc637ccc9d7f",
   "metadata": {},
   "outputs": [
    {
     "data": {
      "text/plain": [
       "torch.Size([1, 9])"
      ]
     },
     "execution_count": 223,
     "metadata": {},
     "output_type": "execute_result"
    }
   ],
   "source": [
    "torch.reshape(sample1,(1,9)).shape"
   ]
  },
  {
   "cell_type": "code",
   "execution_count": 224,
   "id": "37624c9c-c7ef-47d5-a11f-79af35aa278b",
   "metadata": {},
   "outputs": [],
   "source": [
    "#the reshape should be compatable to the original size"
   ]
  },
  {
   "cell_type": "code",
   "execution_count": 225,
   "id": "7d20437a-b1d6-4e95-9c43-5269d29b6a77",
   "metadata": {},
   "outputs": [],
   "source": [
    "x=torch.rand(10)"
   ]
  },
  {
   "cell_type": "code",
   "execution_count": 226,
   "id": "2572cad7-0914-4b27-a42e-abd1bc0228c6",
   "metadata": {},
   "outputs": [
    {
     "data": {
      "text/plain": [
       "tensor([[0.9255, 0.3253],\n",
       "        [0.4832, 0.4008],\n",
       "        [0.0469, 0.7002],\n",
       "        [0.1381, 0.0106],\n",
       "        [0.6857, 0.6536]])"
      ]
     },
     "execution_count": 226,
     "metadata": {},
     "output_type": "execute_result"
    }
   ],
   "source": [
    "torch.reshape(x,(5,2))"
   ]
  },
  {
   "cell_type": "code",
   "execution_count": 227,
   "id": "02803c17-c84d-4419-a369-355b2a818974",
   "metadata": {},
   "outputs": [],
   "source": [
    "z=sample1.view(9,1)"
   ]
  },
  {
   "cell_type": "code",
   "execution_count": 228,
   "id": "2b48f6c7-c289-4c57-9bb6-44e8024cb126",
   "metadata": {},
   "outputs": [
    {
     "data": {
      "text/plain": [
       "tensor([[0.4290],\n",
       "        [0.3033],\n",
       "        [0.4606],\n",
       "        [0.1768],\n",
       "        [0.9379],\n",
       "        [0.5313],\n",
       "        [0.9231],\n",
       "        [0.0044],\n",
       "        [0.4718]])"
      ]
     },
     "execution_count": 228,
     "metadata": {},
     "output_type": "execute_result"
    }
   ],
   "source": [
    "z\n"
   ]
  },
  {
   "cell_type": "markdown",
   "id": "addbb7c6-706c-4206-a01e-7daeffc146aa",
   "metadata": {},
   "source": [
    "* view is the similar to the reshape\n",
    "* But in view the variable shape the data from the original\n",
    "* any change in the view will result in hange in original\n",
    "* but not in the case of the case of the reshape"
   ]
  },
  {
   "cell_type": "code",
   "execution_count": 229,
   "id": "8f0a8d1d-8fe3-4e6e-ba62-4ddbd4d279aa",
   "metadata": {},
   "outputs": [],
   "source": [
    "z[0]=100"
   ]
  },
  {
   "cell_type": "code",
   "execution_count": 230,
   "id": "c5ad1d8c-5d65-420a-a41f-4863b3f437cf",
   "metadata": {},
   "outputs": [
    {
     "data": {
      "text/plain": [
       "tensor([[1.0000e+02, 3.0335e-01, 4.6059e-01],\n",
       "        [1.7677e-01, 9.3794e-01, 5.3126e-01],\n",
       "        [9.2311e-01, 4.3587e-03, 4.7178e-01]])"
      ]
     },
     "execution_count": 230,
     "metadata": {},
     "output_type": "execute_result"
    }
   ],
   "source": [
    "sample1"
   ]
  },
  {
   "cell_type": "code",
   "execution_count": 231,
   "id": "1fe9a214-4716-469b-bf50-137dc3c917ef",
   "metadata": {},
   "outputs": [
    {
     "data": {
      "text/plain": [
       "tensor([[0.4493, 0.4020, 0.5551],\n",
       "        [0.6834, 0.9629, 0.2259],\n",
       "        [0.7403, 0.0846, 0.4374]])"
      ]
     },
     "execution_count": 231,
     "metadata": {},
     "output_type": "execute_result"
    }
   ],
   "source": [
    "sample2"
   ]
  },
  {
   "cell_type": "code",
   "execution_count": 232,
   "id": "a1a51b69-108b-4950-aff7-7f7f0d89dfda",
   "metadata": {},
   "outputs": [
    {
     "data": {
      "text/plain": [
       "tensor([[1.0000e+02, 3.0335e-01, 4.6059e-01],\n",
       "        [1.7677e-01, 9.3794e-01, 5.3126e-01],\n",
       "        [9.2311e-01, 4.3587e-03, 4.7178e-01]])"
      ]
     },
     "execution_count": 232,
     "metadata": {},
     "output_type": "execute_result"
    }
   ],
   "source": [
    "sample1"
   ]
  },
  {
   "cell_type": "code",
   "execution_count": 233,
   "id": "920b6433-20cf-44ad-a8bf-c942cabb4117",
   "metadata": {},
   "outputs": [
    {
     "data": {
      "text/plain": [
       "tensor([[1.0000e+02, 3.0335e-01, 4.6059e-01, 4.4926e-01, 4.0202e-01, 5.5509e-01],\n",
       "        [1.7677e-01, 9.3794e-01, 5.3126e-01, 6.8344e-01, 9.6294e-01, 2.2587e-01],\n",
       "        [9.2311e-01, 4.3587e-03, 4.7178e-01, 7.4032e-01, 8.4584e-02, 4.3737e-01]])"
      ]
     },
     "execution_count": 233,
     "metadata": {},
     "output_type": "execute_result"
    }
   ],
   "source": [
    "torch.hstack((sample1,sample2))"
   ]
  },
  {
   "cell_type": "code",
   "execution_count": 234,
   "id": "72e3a113-457d-4025-9dc4-0698fd2cd43c",
   "metadata": {},
   "outputs": [
    {
     "data": {
      "text/plain": [
       "tensor([[1.0000e+02, 3.0335e-01, 4.6059e-01],\n",
       "        [1.7677e-01, 9.3794e-01, 5.3126e-01],\n",
       "        [9.2311e-01, 4.3587e-03, 4.7178e-01],\n",
       "        [4.4926e-01, 4.0202e-01, 5.5509e-01],\n",
       "        [6.8344e-01, 9.6294e-01, 2.2587e-01],\n",
       "        [7.4032e-01, 8.4584e-02, 4.3737e-01]])"
      ]
     },
     "execution_count": 234,
     "metadata": {},
     "output_type": "execute_result"
    }
   ],
   "source": [
    "torch.vstack([sample1,sample2])\n"
   ]
  },
  {
   "cell_type": "code",
   "execution_count": 235,
   "id": "a8f3a9ea-80c0-432d-8a01-5fc8aec49d2f",
   "metadata": {},
   "outputs": [],
   "source": [
    "x_sample=torch.tensor([1,2,3,4,5])"
   ]
  },
  {
   "cell_type": "code",
   "execution_count": 236,
   "id": "cd4db6ca-4707-4957-907f-28717c161ed0",
   "metadata": {},
   "outputs": [
    {
     "data": {
      "text/plain": [
       "tensor([[1, 2, 3, 4, 5],\n",
       "        [1, 2, 3, 4, 5],\n",
       "        [1, 2, 3, 4, 5]])"
      ]
     },
     "execution_count": 236,
     "metadata": {},
     "output_type": "execute_result"
    }
   ],
   "source": [
    "torch.stack([x_sample,x_sample,x_sample])"
   ]
  },
  {
   "cell_type": "code",
   "execution_count": 237,
   "id": "cf7d13f4-d113-4ff7-b5f5-fddded4aa3c4",
   "metadata": {},
   "outputs": [
    {
     "data": {
      "text/plain": [
       "tensor([[1, 1, 1],\n",
       "        [2, 2, 2],\n",
       "        [3, 3, 3],\n",
       "        [4, 4, 4],\n",
       "        [5, 5, 5]])"
      ]
     },
     "execution_count": 237,
     "metadata": {},
     "output_type": "execute_result"
    }
   ],
   "source": [
    "torch.stack([x_sample,x_sample,x_sample],dim=1)"
   ]
  },
  {
   "cell_type": "code",
   "execution_count": 238,
   "id": "eb080fea-da4f-445d-8e9f-757f7ea7f208",
   "metadata": {},
   "outputs": [
    {
     "data": {
      "text/plain": [
       "torch.Size([5, 3])"
      ]
     },
     "execution_count": 238,
     "metadata": {},
     "output_type": "execute_result"
    }
   ],
   "source": [
    "torch.stack([x_sample,x_sample,x_sample],dim=1).shape"
   ]
  },
  {
   "cell_type": "code",
   "execution_count": 239,
   "id": "8b523dfb-9056-4aac-a758-05666c14adda",
   "metadata": {},
   "outputs": [],
   "source": [
    "# squeezing and unsqueezing"
   ]
  },
  {
   "cell_type": "code",
   "execution_count": 240,
   "id": "91170801-83b8-4950-9b9b-b3519b7526a7",
   "metadata": {},
   "outputs": [],
   "source": [
    "# squeezing -- temoving al one dim elements from the tensor\n"
   ]
  },
  {
   "cell_type": "code",
   "execution_count": 241,
   "id": "86f42d37-ba80-4e48-a106-c61afba6d3b0",
   "metadata": {},
   "outputs": [
    {
     "data": {
      "text/plain": [
       "tensor([0.9255, 0.3253, 0.4832, 0.4008, 0.0469, 0.7002, 0.1381, 0.0106, 0.6857,\n",
       "        0.6536])"
      ]
     },
     "execution_count": 241,
     "metadata": {},
     "output_type": "execute_result"
    }
   ],
   "source": [
    "x"
   ]
  },
  {
   "cell_type": "code",
   "execution_count": 243,
   "id": "d259cc6f-6761-4e66-9eee-9f03a8ab50cc",
   "metadata": {},
   "outputs": [],
   "source": [
    "sq=torch.rand(10,1)"
   ]
  },
  {
   "cell_type": "code",
   "execution_count": 244,
   "id": "474052ea-6333-4cdd-8816-a60bfbb6816b",
   "metadata": {},
   "outputs": [
    {
     "data": {
      "text/plain": [
       "tensor([[0.6643],\n",
       "        [0.9441],\n",
       "        [0.5088],\n",
       "        [0.0579],\n",
       "        [0.4667],\n",
       "        [0.8594],\n",
       "        [0.9124],\n",
       "        [0.4977],\n",
       "        [0.0933],\n",
       "        [0.0567]])"
      ]
     },
     "execution_count": 244,
     "metadata": {},
     "output_type": "execute_result"
    }
   ],
   "source": [
    "sq\n"
   ]
  },
  {
   "cell_type": "code",
   "execution_count": 245,
   "id": "a1235c70-6640-4c98-b0f7-637fad9f18fb",
   "metadata": {},
   "outputs": [
    {
     "data": {
      "text/plain": [
       "tensor([0.6643, 0.9441, 0.5088, 0.0579, 0.4667, 0.8594, 0.9124, 0.4977, 0.0933,\n",
       "        0.0567])"
      ]
     },
     "execution_count": 245,
     "metadata": {},
     "output_type": "execute_result"
    }
   ],
   "source": [
    "sq.squeeze()"
   ]
  },
  {
   "cell_type": "code",
   "execution_count": 250,
   "id": "9bb748aa-c9dc-4191-a18c-932b1fe40eb0",
   "metadata": {},
   "outputs": [],
   "source": [
    "three=torch.rand(3,1)"
   ]
  },
  {
   "cell_type": "code",
   "execution_count": 251,
   "id": "dc918cb0-7fbd-4d73-b508-73c02f1ce589",
   "metadata": {},
   "outputs": [
    {
     "data": {
      "text/plain": [
       "tensor([[0.9183],\n",
       "        [0.4077],\n",
       "        [0.9184]])"
      ]
     },
     "execution_count": 251,
     "metadata": {},
     "output_type": "execute_result"
    }
   ],
   "source": [
    "three"
   ]
  },
  {
   "cell_type": "code",
   "execution_count": 252,
   "id": "98e3beb7-0ebc-4465-87b0-29e164b787c0",
   "metadata": {},
   "outputs": [
    {
     "data": {
      "text/plain": [
       "tensor([0.9183, 0.4077, 0.9184])"
      ]
     },
     "execution_count": 252,
     "metadata": {},
     "output_type": "execute_result"
    }
   ],
   "source": [
    "torch.squeeze(three)"
   ]
  },
  {
   "cell_type": "code",
   "execution_count": 253,
   "id": "0e0f0d6a-b008-403a-804d-b264aa7544a6",
   "metadata": {},
   "outputs": [
    {
     "data": {
      "text/plain": [
       "tensor([0.9183, 0.4077, 0.9184])"
      ]
     },
     "execution_count": 253,
     "metadata": {},
     "output_type": "execute_result"
    }
   ],
   "source": [
    "three.squeeze()"
   ]
  },
  {
   "cell_type": "code",
   "execution_count": 254,
   "id": "597df95d-3dcb-4ab4-8186-602d9f20059c",
   "metadata": {},
   "outputs": [],
   "source": [
    "## original value but lok different"
   ]
  },
  {
   "cell_type": "code",
   "execution_count": 260,
   "id": "2586afa1-2706-44b1-98fb-c3682507ab21",
   "metadata": {},
   "outputs": [
    {
     "data": {
      "text/plain": [
       "tensor([[0.9183],\n",
       "        [0.4077],\n",
       "        [0.9184]])"
      ]
     },
     "execution_count": 260,
     "metadata": {},
     "output_type": "execute_result"
    }
   ],
   "source": [
    "## un squeeze add the one dimention at a particular position\n"
   ]
  },
  {
   "cell_type": "code",
   "execution_count": 258,
   "id": "852e0366-44f6-4c7d-a171-8b512ee0590e",
   "metadata": {},
   "outputs": [
    {
     "data": {
      "text/plain": [
       "tensor([[[0.9183],\n",
       "         [0.4077],\n",
       "         [0.9184]]])"
      ]
     },
     "execution_count": 258,
     "metadata": {},
     "output_type": "execute_result"
    }
   ],
   "source": [
    "torch.unsqueeze(three,0)"
   ]
  },
  {
   "cell_type": "code",
   "execution_count": 259,
   "id": "96fd11f4-50a8-4b6a-9987-9164c7f878f6",
   "metadata": {},
   "outputs": [
    {
     "data": {
      "text/plain": [
       "tensor([[0.9183],\n",
       "        [0.4077],\n",
       "        [0.9184]])"
      ]
     },
     "execution_count": 259,
     "metadata": {},
     "output_type": "execute_result"
    }
   ],
   "source": [
    "three"
   ]
  },
  {
   "cell_type": "code",
   "execution_count": 261,
   "id": "5adeb02e-6320-4def-bb68-699022becc80",
   "metadata": {},
   "outputs": [],
   "source": [
    "s=torch.rand(9)"
   ]
  },
  {
   "cell_type": "code",
   "execution_count": 262,
   "id": "3ef414c1-df7c-4276-819e-5c698ae8c575",
   "metadata": {},
   "outputs": [
    {
     "data": {
      "text/plain": [
       "tensor([0.7393, 0.0100, 0.9877, 0.4796, 0.6939, 0.6501, 0.4017, 0.1437, 0.7534])"
      ]
     },
     "execution_count": 262,
     "metadata": {},
     "output_type": "execute_result"
    }
   ],
   "source": [
    "s"
   ]
  },
  {
   "cell_type": "code",
   "execution_count": 263,
   "id": "35d068bb-c975-4aaa-97ee-804e0db4e64c",
   "metadata": {},
   "outputs": [
    {
     "data": {
      "text/plain": [
       "tensor([[0.7393, 0.0100, 0.9877, 0.4796, 0.6939, 0.6501, 0.4017, 0.1437, 0.7534]])"
      ]
     },
     "execution_count": 263,
     "metadata": {},
     "output_type": "execute_result"
    }
   ],
   "source": [
    "torch.unsqueeze(s,0)"
   ]
  },
  {
   "cell_type": "code",
   "execution_count": 265,
   "id": "c8c5ee07-20c1-4ee0-a81e-718e84156fbf",
   "metadata": {},
   "outputs": [
    {
     "data": {
      "text/plain": [
       "tensor([[0.7393],\n",
       "        [0.0100],\n",
       "        [0.9877],\n",
       "        [0.4796],\n",
       "        [0.6939],\n",
       "        [0.6501],\n",
       "        [0.4017],\n",
       "        [0.1437],\n",
       "        [0.7534]])"
      ]
     },
     "execution_count": 265,
     "metadata": {},
     "output_type": "execute_result"
    }
   ],
   "source": [
    "torch.unsqueeze(s,1)"
   ]
  },
  {
   "cell_type": "code",
   "execution_count": 266,
   "id": "b037e826-5604-494d-be88-87141a54e26d",
   "metadata": {},
   "outputs": [],
   "source": [
    "#Permuted"
   ]
  },
  {
   "cell_type": "code",
   "execution_count": 267,
   "id": "1291fa82-68c4-47f8-99f8-4ebf6427c627",
   "metadata": {},
   "outputs": [],
   "source": [
    "## torch.permute used in images\n"
   ]
  },
  {
   "cell_type": "code",
   "execution_count": 268,
   "id": "153aefbe-e3a3-4226-bc74-bc3bdb02e09c",
   "metadata": {},
   "outputs": [],
   "source": [
    "img=torch.rand(3,224,224)"
   ]
  },
  {
   "cell_type": "code",
   "execution_count": 270,
   "id": "852ae962-2b26-4b25-9bd2-237b8aa65918",
   "metadata": {},
   "outputs": [
    {
     "data": {
      "text/plain": [
       "tensor([[[0.8652, 0.1955, 0.9243,  ..., 0.6673, 0.9123, 0.8005],\n",
       "         [0.2905, 0.8237, 0.4101,  ..., 0.8438, 0.6235, 0.4696],\n",
       "         [0.7787, 0.1450, 0.5319,  ..., 0.3765, 0.8776, 0.0365],\n",
       "         ...,\n",
       "         [0.6070, 0.1830, 0.0545,  ..., 0.7901, 0.2141, 0.4815],\n",
       "         [0.0173, 0.1839, 0.0800,  ..., 0.4773, 0.6764, 0.8141],\n",
       "         [0.8524, 0.5107, 0.3122,  ..., 0.1678, 0.1877, 0.5401]],\n",
       "\n",
       "        [[0.7239, 0.8239, 0.7545,  ..., 0.6828, 0.2674, 0.1768],\n",
       "         [0.0559, 0.9351, 0.6236,  ..., 0.6914, 0.0213, 0.7589],\n",
       "         [0.4929, 0.3951, 0.7290,  ..., 0.0436, 0.9630, 0.7917],\n",
       "         ...,\n",
       "         [0.4883, 0.5409, 0.9361,  ..., 0.3139, 0.7707, 0.8497],\n",
       "         [0.1400, 0.2477, 0.3732,  ..., 0.1760, 0.9866, 0.0182],\n",
       "         [0.1984, 0.4854, 0.6832,  ..., 0.9652, 0.2306, 0.0725]],\n",
       "\n",
       "        [[0.6788, 0.5501, 0.1156,  ..., 0.9039, 0.8815, 0.4176],\n",
       "         [0.7523, 0.4183, 0.8954,  ..., 0.7913, 0.4307, 0.7122],\n",
       "         [0.2464, 0.6681, 0.1380,  ..., 0.8297, 0.2842, 0.3090],\n",
       "         ...,\n",
       "         [0.6858, 0.6863, 0.2251,  ..., 0.5043, 0.1776, 0.1032],\n",
       "         [0.4600, 0.6087, 0.3354,  ..., 0.5737, 0.3746, 0.0804],\n",
       "         [0.6623, 0.7266, 0.0595,  ..., 0.1576, 0.0288, 0.3377]]])"
      ]
     },
     "execution_count": 270,
     "metadata": {},
     "output_type": "execute_result"
    }
   ],
   "source": [
    "img"
   ]
  },
  {
   "cell_type": "code",
   "execution_count": 271,
   "id": "f5824c25-45e0-4115-affd-76adb3a1252e",
   "metadata": {},
   "outputs": [],
   "source": [
    "# to rearrange the elements\n",
    "imgp=img.permute(2,0,1)"
   ]
  },
  {
   "cell_type": "code",
   "execution_count": 273,
   "id": "fc0a75eb-722a-4e37-8fba-88e3f0c1c205",
   "metadata": {},
   "outputs": [
    {
     "name": "stdout",
     "output_type": "stream",
     "text": [
      "tensor([[[0.8652, 0.2905, 0.7787,  ..., 0.6070, 0.0173, 0.8524],\n",
      "         [0.7239, 0.0559, 0.4929,  ..., 0.4883, 0.1400, 0.1984],\n",
      "         [0.6788, 0.7523, 0.2464,  ..., 0.6858, 0.4600, 0.6623]],\n",
      "\n",
      "        [[0.1955, 0.8237, 0.1450,  ..., 0.1830, 0.1839, 0.5107],\n",
      "         [0.8239, 0.9351, 0.3951,  ..., 0.5409, 0.2477, 0.4854],\n",
      "         [0.5501, 0.4183, 0.6681,  ..., 0.6863, 0.6087, 0.7266]],\n",
      "\n",
      "        [[0.9243, 0.4101, 0.5319,  ..., 0.0545, 0.0800, 0.3122],\n",
      "         [0.7545, 0.6236, 0.7290,  ..., 0.9361, 0.3732, 0.6832],\n",
      "         [0.1156, 0.8954, 0.1380,  ..., 0.2251, 0.3354, 0.0595]],\n",
      "\n",
      "        ...,\n",
      "\n",
      "        [[0.6673, 0.8438, 0.3765,  ..., 0.7901, 0.4773, 0.1678],\n",
      "         [0.6828, 0.6914, 0.0436,  ..., 0.3139, 0.1760, 0.9652],\n",
      "         [0.9039, 0.7913, 0.8297,  ..., 0.5043, 0.5737, 0.1576]],\n",
      "\n",
      "        [[0.9123, 0.6235, 0.8776,  ..., 0.2141, 0.6764, 0.1877],\n",
      "         [0.2674, 0.0213, 0.9630,  ..., 0.7707, 0.9866, 0.2306],\n",
      "         [0.8815, 0.4307, 0.2842,  ..., 0.1776, 0.3746, 0.0288]],\n",
      "\n",
      "        [[0.8005, 0.4696, 0.0365,  ..., 0.4815, 0.8141, 0.5401],\n",
      "         [0.1768, 0.7589, 0.7917,  ..., 0.8497, 0.0182, 0.0725],\n",
      "         [0.4176, 0.7122, 0.3090,  ..., 0.1032, 0.0804, 0.3377]]])\n"
     ]
    }
   ],
   "source": [
    "print(imgp)"
   ]
  },
  {
   "cell_type": "code",
   "execution_count": 274,
   "id": "671e8e5e-bb30-4dd9-8210-2688bb5fc65a",
   "metadata": {},
   "outputs": [
    {
     "data": {
      "text/plain": [
       "tensor([[[0.8652, 0.2905, 0.7787,  ..., 0.6070, 0.0173, 0.8524],\n",
       "         [0.7239, 0.0559, 0.4929,  ..., 0.4883, 0.1400, 0.1984],\n",
       "         [0.6788, 0.7523, 0.2464,  ..., 0.6858, 0.4600, 0.6623]],\n",
       "\n",
       "        [[0.1955, 0.8237, 0.1450,  ..., 0.1830, 0.1839, 0.5107],\n",
       "         [0.8239, 0.9351, 0.3951,  ..., 0.5409, 0.2477, 0.4854],\n",
       "         [0.5501, 0.4183, 0.6681,  ..., 0.6863, 0.6087, 0.7266]],\n",
       "\n",
       "        [[0.9243, 0.4101, 0.5319,  ..., 0.0545, 0.0800, 0.3122],\n",
       "         [0.7545, 0.6236, 0.7290,  ..., 0.9361, 0.3732, 0.6832],\n",
       "         [0.1156, 0.8954, 0.1380,  ..., 0.2251, 0.3354, 0.0595]],\n",
       "\n",
       "        ...,\n",
       "\n",
       "        [[0.6673, 0.8438, 0.3765,  ..., 0.7901, 0.4773, 0.1678],\n",
       "         [0.6828, 0.6914, 0.0436,  ..., 0.3139, 0.1760, 0.9652],\n",
       "         [0.9039, 0.7913, 0.8297,  ..., 0.5043, 0.5737, 0.1576]],\n",
       "\n",
       "        [[0.9123, 0.6235, 0.8776,  ..., 0.2141, 0.6764, 0.1877],\n",
       "         [0.2674, 0.0213, 0.9630,  ..., 0.7707, 0.9866, 0.2306],\n",
       "         [0.8815, 0.4307, 0.2842,  ..., 0.1776, 0.3746, 0.0288]],\n",
       "\n",
       "        [[0.8005, 0.4696, 0.0365,  ..., 0.4815, 0.8141, 0.5401],\n",
       "         [0.1768, 0.7589, 0.7917,  ..., 0.8497, 0.0182, 0.0725],\n",
       "         [0.4176, 0.7122, 0.3090,  ..., 0.1032, 0.0804, 0.3377]]])"
      ]
     },
     "execution_count": 274,
     "metadata": {},
     "output_type": "execute_result"
    }
   ],
   "source": [
    "torch.permute(img,(2,0,1))"
   ]
  },
  {
   "cell_type": "code",
   "execution_count": 276,
   "id": "033b9f58-e9fb-4acf-b8c8-f2b891cc5551",
   "metadata": {},
   "outputs": [
    {
     "data": {
      "text/plain": [
       "tensor(0.8652)"
      ]
     },
     "execution_count": 276,
     "metadata": {},
     "output_type": "execute_result"
    }
   ],
   "source": [
    "img[0,0,0]"
   ]
  },
  {
   "cell_type": "code",
   "execution_count": 277,
   "id": "2602ebd2-8b38-4c95-a8d5-85eb14741308",
   "metadata": {},
   "outputs": [
    {
     "data": {
      "text/plain": [
       "tensor(0.8652)"
      ]
     },
     "execution_count": 277,
     "metadata": {},
     "output_type": "execute_result"
    }
   ],
   "source": [
    "imgp[0,0,0]"
   ]
  },
  {
   "cell_type": "code",
   "execution_count": 278,
   "id": "0a2183d3-9f6a-46ca-9de2-ec9bde74ca3d",
   "metadata": {},
   "outputs": [],
   "source": [
    "# the value didnt change even after the squeezing"
   ]
  },
  {
   "cell_type": "code",
   "execution_count": 279,
   "id": "ea9857c9-df41-4980-a33f-c8e4bd175920",
   "metadata": {},
   "outputs": [],
   "source": [
    "## Indexing\n"
   ]
  },
  {
   "cell_type": "code",
   "execution_count": 280,
   "id": "ebedd107-d4a2-44b9-b521-b9ad35f04211",
   "metadata": {},
   "outputs": [
    {
     "data": {
      "text/plain": [
       "tensor(0.8652)"
      ]
     },
     "execution_count": 280,
     "metadata": {},
     "output_type": "execute_result"
    }
   ],
   "source": [
    "img[0,0,0]"
   ]
  },
  {
   "cell_type": "code",
   "execution_count": 281,
   "id": "e4e97717-cb41-47bd-8f44-8748869ac4b4",
   "metadata": {},
   "outputs": [
    {
     "data": {
      "text/plain": [
       "tensor([0.8652, 0.7239, 0.6788])"
      ]
     },
     "execution_count": 281,
     "metadata": {},
     "output_type": "execute_result"
    }
   ],
   "source": [
    "img[:,0,0]"
   ]
  },
  {
   "cell_type": "code",
   "execution_count": 282,
   "id": "9091ae66-dd7c-4d65-a467-8d9e15ff0548",
   "metadata": {},
   "outputs": [
    {
     "data": {
      "text/plain": [
       "tensor([[0.8652, 0.2905, 0.7787, 0.9804, 0.9446, 0.0186, 0.3305, 0.0205, 0.2336,\n",
       "         0.7041, 0.3604, 0.0331, 0.4405, 0.2369, 0.0552, 0.8726, 0.0374, 0.2810,\n",
       "         0.8940, 0.1475, 0.1781, 0.5661, 0.7113, 0.0529, 0.4142, 0.4541, 0.2234,\n",
       "         0.2175, 0.6502, 0.1859, 0.3692, 0.7319, 0.2010, 0.1732, 0.7053, 0.1527,\n",
       "         0.0991, 0.6963, 0.9990, 0.8864, 0.0690, 0.1442, 0.3905, 0.6210, 0.1028,\n",
       "         0.6386, 0.0695, 0.4627, 0.7351, 0.9338, 0.0755, 0.4945, 0.0857, 0.1886,\n",
       "         0.3547, 0.6620, 0.8279, 0.1948, 0.7136, 0.1695, 0.1030, 0.5329, 0.7768,\n",
       "         0.5806, 0.8555, 0.6241, 0.3418, 0.6593, 0.8524, 0.3284, 0.4671, 0.3892,\n",
       "         0.3270, 0.1438, 0.2467, 0.3043, 0.0426, 0.7661, 0.3146, 0.1312, 0.7787,\n",
       "         0.9567, 0.2443, 0.6437, 0.5519, 0.1383, 0.6819, 0.0692, 0.8433, 0.2871,\n",
       "         0.8788, 0.9825, 0.7939, 0.1957, 0.7731, 0.2095, 0.1015, 0.2511, 0.3310,\n",
       "         0.9616, 0.2628, 0.7835, 0.1323, 0.3218, 0.6356, 0.4931, 0.8892, 0.7625,\n",
       "         0.2934, 0.3188, 0.5973, 0.1087, 0.1445, 0.5403, 0.6346, 0.2287, 0.4267,\n",
       "         0.1371, 0.4196, 0.1186, 0.4702, 0.2105, 0.0855, 0.4206, 0.7345, 0.3373,\n",
       "         0.6049, 0.2122, 0.3260, 0.8707, 0.3522, 0.5294, 0.8378, 0.8635, 0.4222,\n",
       "         0.6691, 0.0395, 0.8841, 0.4448, 0.5369, 0.5235, 0.5649, 0.9849, 0.4188,\n",
       "         0.6745, 0.5613, 0.0861, 0.8896, 0.2297, 0.0659, 0.0871, 0.6453, 0.8436,\n",
       "         0.4870, 0.3713, 0.5223, 0.6166, 0.9061, 0.9845, 0.0383, 0.8410, 0.7373,\n",
       "         0.6203, 0.4853, 0.1145, 0.4859, 0.3290, 0.6592, 0.9360, 0.9924, 0.7494,\n",
       "         0.1057, 0.8921, 0.0170, 0.4016, 0.3629, 0.7460, 0.3680, 0.2881, 0.6420,\n",
       "         0.2442, 0.9169, 0.6357, 0.1624, 0.7522, 0.0675, 0.9930, 0.7208, 0.0774,\n",
       "         0.2470, 0.0237, 0.8134, 0.9144, 0.1730, 0.4884, 0.9600, 0.1551, 0.6104,\n",
       "         0.3846, 0.3770, 0.8125, 0.0507, 0.4103, 0.0099, 0.9930, 0.9120, 0.6544,\n",
       "         0.4589, 0.2928, 0.5307, 0.3998, 0.2072, 0.2795, 0.5895, 0.4559, 0.1999,\n",
       "         0.1922, 0.3007, 0.7130, 0.5692, 0.9668, 0.6070, 0.0173, 0.8524],\n",
       "        [0.7239, 0.0559, 0.4929, 0.6326, 0.2446, 0.7720, 0.9576, 0.4870, 0.1354,\n",
       "         0.2548, 0.2776, 0.1940, 0.1610, 0.3061, 0.9087, 0.4845, 0.8395, 0.4370,\n",
       "         0.2791, 0.0071, 0.0758, 0.6212, 0.3067, 0.6922, 0.4901, 0.2412, 0.2348,\n",
       "         0.3000, 0.1007, 0.5166, 0.0312, 0.8933, 0.8502, 0.5657, 0.6709, 0.0604,\n",
       "         0.5304, 0.0516, 0.7456, 0.5897, 0.2475, 0.0050, 0.4905, 0.3131, 0.1364,\n",
       "         0.0328, 0.5921, 0.9046, 0.7265, 0.9905, 0.6794, 0.1340, 0.0488, 0.3685,\n",
       "         0.8358, 0.3257, 0.5809, 0.8717, 0.4680, 0.1551, 0.4082, 0.6866, 0.0169,\n",
       "         0.9724, 0.3610, 0.4892, 0.1035, 0.0271, 0.5093, 0.0663, 0.3075, 0.7267,\n",
       "         0.6179, 0.7191, 0.4446, 0.6501, 0.0564, 0.3599, 0.1835, 0.6730, 0.6237,\n",
       "         0.1738, 0.3270, 0.6131, 0.3897, 0.3825, 0.2702, 0.5195, 0.9882, 0.2581,\n",
       "         0.6712, 0.5117, 0.8490, 0.9504, 0.0720, 0.5952, 0.2864, 0.6695, 0.1485,\n",
       "         0.7092, 0.5735, 0.1652, 0.7435, 0.1336, 0.8250, 0.5515, 0.9065, 0.3082,\n",
       "         0.0033, 0.2829, 0.3375, 0.9475, 0.9619, 0.6060, 0.3947, 0.0581, 0.0729,\n",
       "         0.7050, 0.3174, 0.9604, 0.9100, 0.7252, 0.4636, 0.8895, 0.3382, 0.0921,\n",
       "         0.7325, 0.3602, 0.5262, 0.2424, 0.3356, 0.7667, 0.1696, 0.9756, 0.2472,\n",
       "         0.2868, 0.6874, 0.7538, 0.8402, 0.1597, 0.2966, 0.6154, 0.3027, 0.2633,\n",
       "         0.6569, 0.7562, 0.2006, 0.6049, 0.7886, 0.6559, 0.1117, 0.6611, 0.4288,\n",
       "         0.7154, 0.0173, 0.2631, 0.7241, 0.0701, 0.7114, 0.6337, 0.5888, 0.3614,\n",
       "         0.7563, 0.7032, 0.8464, 0.1306, 0.1543, 0.0703, 0.8166, 0.1776, 0.3433,\n",
       "         0.6548, 0.0284, 0.0286, 0.1164, 0.6713, 0.0218, 0.8316, 0.7225, 0.7984,\n",
       "         0.5860, 0.6999, 0.0422, 0.5464, 0.6182, 0.6635, 0.6683, 0.7025, 0.1174,\n",
       "         0.2448, 0.2695, 0.6223, 0.1498, 0.7107, 0.5701, 0.8067, 0.4563, 0.4824,\n",
       "         0.0478, 0.6544, 0.1056, 0.7999, 0.8670, 0.5862, 0.1265, 0.5139, 0.0169,\n",
       "         0.6264, 0.2728, 0.8928, 0.2166, 0.2978, 0.2758, 0.5535, 0.7068, 0.4104,\n",
       "         0.1830, 0.0600, 0.5128, 0.4154, 0.6897, 0.4883, 0.1400, 0.1984],\n",
       "        [0.6788, 0.7523, 0.2464, 0.1223, 0.0437, 0.0265, 0.3863, 0.1986, 0.2183,\n",
       "         0.2084, 0.1240, 0.6418, 0.9169, 0.2719, 0.7249, 0.7252, 0.8982, 0.8875,\n",
       "         0.0119, 0.6524, 0.1079, 0.4466, 0.0209, 0.8559, 0.6016, 0.9914, 0.0107,\n",
       "         0.1459, 0.1826, 0.3062, 0.5516, 0.3187, 0.6997, 0.0093, 0.6617, 0.6815,\n",
       "         0.4537, 0.8300, 0.4931, 0.8667, 0.4276, 0.3164, 0.2204, 0.4156, 0.0085,\n",
       "         0.5716, 0.1364, 0.7637, 0.8294, 0.9561, 0.8270, 0.8979, 0.4195, 0.8867,\n",
       "         0.4627, 0.6756, 0.3796, 0.7287, 0.0576, 0.9963, 0.8734, 0.7679, 0.0852,\n",
       "         0.1119, 0.7502, 0.7084, 0.4176, 0.8419, 0.3015, 0.7483, 0.1278, 0.3351,\n",
       "         0.2107, 0.2514, 0.5041, 0.5515, 0.4478, 0.1683, 0.8709, 0.6788, 0.7304,\n",
       "         0.8961, 0.3306, 0.4853, 0.7269, 0.0392, 0.6377, 0.2282, 0.3140, 0.0797,\n",
       "         0.7039, 0.3129, 0.6292, 0.1067, 0.6574, 0.9644, 0.1142, 0.0350, 0.6224,\n",
       "         0.2746, 0.7320, 0.1650, 0.1917, 0.4915, 0.7018, 0.2799, 0.6319, 0.1760,\n",
       "         0.9058, 0.0094, 0.8362, 0.1426, 0.7428, 0.8967, 0.4464, 0.8390, 0.9016,\n",
       "         0.2783, 0.0542, 0.2808, 0.1110, 0.5245, 0.5238, 0.1378, 0.4133, 0.4454,\n",
       "         0.8398, 0.0729, 0.8560, 0.1285, 0.9438, 0.4263, 0.3891, 0.8028, 0.6138,\n",
       "         0.5251, 0.2498, 0.9104, 0.2701, 0.7461, 0.2045, 0.7819, 0.3864, 0.7255,\n",
       "         0.3420, 0.9059, 0.7349, 0.8370, 0.0137, 0.3454, 0.1363, 0.6520, 0.1922,\n",
       "         0.8888, 0.7543, 0.8395, 0.7962, 0.5214, 0.8798, 0.0474, 0.5055, 0.7059,\n",
       "         0.6820, 0.0079, 0.8279, 0.4807, 0.9464, 0.5444, 0.5186, 0.8525, 0.3564,\n",
       "         0.3795, 0.3942, 0.3703, 0.3294, 0.7046, 0.4100, 0.1912, 0.2434, 0.0035,\n",
       "         0.3716, 0.9511, 0.7741, 0.1053, 0.6542, 0.0220, 0.5172, 0.8171, 0.7208,\n",
       "         0.5403, 0.1365, 0.2259, 0.4506, 0.7752, 0.5510, 0.3137, 0.0893, 0.5186,\n",
       "         0.4570, 0.9922, 0.8491, 0.2030, 0.1562, 0.2247, 0.9107, 0.6015, 0.3183,\n",
       "         0.1089, 0.6110, 0.6892, 0.4867, 0.9584, 0.2531, 0.6293, 0.9746, 0.7285,\n",
       "         0.5328, 0.6505, 0.6935, 0.7493, 0.1648, 0.6858, 0.4600, 0.6623]])"
      ]
     },
     "execution_count": 282,
     "metadata": {},
     "output_type": "execute_result"
    }
   ],
   "source": [
    "img[:,:,0]"
   ]
  },
  {
   "cell_type": "code",
   "execution_count": 283,
   "id": "4ab4379e-4a25-4aa6-8e7a-9e18fb4b107e",
   "metadata": {},
   "outputs": [],
   "source": [
    "## indexing in pytorch was similar to the numpy"
   ]
  },
  {
   "cell_type": "code",
   "execution_count": 284,
   "id": "81dfe838-579e-43de-ae79-600e87b8728b",
   "metadata": {},
   "outputs": [],
   "source": [
    "x=torch.arange(1,10)"
   ]
  },
  {
   "cell_type": "code",
   "execution_count": 285,
   "id": "d3b9f8f0-41e4-4d3a-8314-6c89724343a2",
   "metadata": {},
   "outputs": [
    {
     "data": {
      "text/plain": [
       "torch.Size([9])"
      ]
     },
     "execution_count": 285,
     "metadata": {},
     "output_type": "execute_result"
    }
   ],
   "source": [
    "x.shape"
   ]
  },
  {
   "cell_type": "code",
   "execution_count": 288,
   "id": "717aeef4-f48e-4237-9555-e2436424fdca",
   "metadata": {},
   "outputs": [],
   "source": [
    "x=torch.reshape(x,(1,3,3))"
   ]
  },
  {
   "cell_type": "code",
   "execution_count": 290,
   "id": "13362e44-e5c1-4c93-80d0-b7ed17400216",
   "metadata": {},
   "outputs": [
    {
     "data": {
      "text/plain": [
       "(tensor([[[1, 2, 3],\n",
       "          [4, 5, 6],\n",
       "          [7, 8, 9]]]),\n",
       " torch.Size([1, 3, 3]))"
      ]
     },
     "execution_count": 290,
     "metadata": {},
     "output_type": "execute_result"
    }
   ],
   "source": [
    "x,x.shape"
   ]
  },
  {
   "cell_type": "code",
   "execution_count": 291,
   "id": "96fd0c26-1de9-47e8-a711-3c5152531031",
   "metadata": {},
   "outputs": [
    {
     "data": {
      "text/plain": [
       "tensor([[1, 2, 3],\n",
       "        [4, 5, 6],\n",
       "        [7, 8, 9]])"
      ]
     },
     "execution_count": 291,
     "metadata": {},
     "output_type": "execute_result"
    }
   ],
   "source": [
    "x[0]"
   ]
  },
  {
   "cell_type": "code",
   "execution_count": 297,
   "id": "937e9f9f-4abd-4a86-aa77-9b9abe404bf9",
   "metadata": {},
   "outputs": [
    {
     "data": {
      "text/plain": [
       "(tensor([4, 5, 6]), tensor([4, 5, 6]))"
      ]
     },
     "execution_count": 297,
     "metadata": {},
     "output_type": "execute_result"
    }
   ],
   "source": [
    "x[0,1],x[0][1]"
   ]
  },
  {
   "cell_type": "code",
   "execution_count": 298,
   "id": "7c16dcf5-2844-4952-b168-5ea4a42fb592",
   "metadata": {},
   "outputs": [
    {
     "data": {
      "text/plain": [
       "(tensor(5), tensor(5))"
      ]
     },
     "execution_count": 298,
     "metadata": {},
     "output_type": "execute_result"
    }
   ],
   "source": [
    "x[0,1,1],x[0][1][1]"
   ]
  },
  {
   "cell_type": "code",
   "execution_count": 299,
   "id": "6c777143-9db3-4579-847c-48d786fea1c3",
   "metadata": {},
   "outputs": [],
   "source": [
    "# you can also use the : to select from a range"
   ]
  },
  {
   "cell_type": "code",
   "execution_count": 300,
   "id": "12dc8142-3ec2-4b51-a0fa-401fb54fde1c",
   "metadata": {},
   "outputs": [
    {
     "data": {
      "text/plain": [
       "tensor([[1, 2, 3]])"
      ]
     },
     "execution_count": 300,
     "metadata": {},
     "output_type": "execute_result"
    }
   ],
   "source": [
    "x[:,0]"
   ]
  },
  {
   "cell_type": "code",
   "execution_count": 301,
   "id": "d14db965-fe53-49cb-b9ad-3092383a5680",
   "metadata": {},
   "outputs": [
    {
     "data": {
      "text/plain": [
       "tensor([[2, 5, 8]])"
      ]
     },
     "execution_count": 301,
     "metadata": {},
     "output_type": "execute_result"
    }
   ],
   "source": [
    "x[:,:,1]"
   ]
  },
  {
   "cell_type": "code",
   "execution_count": 302,
   "id": "f247f703-f390-4324-af71-5587280a423a",
   "metadata": {},
   "outputs": [],
   "source": [
    "# get all values from 0 dimention and only 1 index value of 1st and 2nd dimention"
   ]
  },
  {
   "cell_type": "code",
   "execution_count": 303,
   "id": "a1841850-8e04-4fde-9f44-b7303088f952",
   "metadata": {},
   "outputs": [
    {
     "data": {
      "text/plain": [
       "tensor([5])"
      ]
     },
     "execution_count": 303,
     "metadata": {},
     "output_type": "execute_result"
    }
   ],
   "source": [
    "x[:,1,1]"
   ]
  },
  {
   "cell_type": "code",
   "execution_count": 306,
   "id": "6f27c61b-0e0b-49d4-be45-9dfd481242c1",
   "metadata": {},
   "outputs": [
    {
     "data": {
      "text/plain": [
       "(tensor([1, 2, 3]), tensor([1, 2, 3]))"
      ]
     },
     "execution_count": 306,
     "metadata": {},
     "output_type": "execute_result"
    }
   ],
   "source": [
    "x[0,0,:],x[0,0]"
   ]
  },
  {
   "cell_type": "code",
   "execution_count": 307,
   "id": "f3906e7a-41db-4a45-b028-ec39bd5a2110",
   "metadata": {},
   "outputs": [
    {
     "data": {
      "text/plain": [
       "tensor(9)"
      ]
     },
     "execution_count": 307,
     "metadata": {},
     "output_type": "execute_result"
    }
   ],
   "source": [
    "x[0,2,2]"
   ]
  },
  {
   "cell_type": "code",
   "execution_count": 308,
   "id": "d16337e1-a621-4e6d-bacb-f703effc56bd",
   "metadata": {},
   "outputs": [
    {
     "data": {
      "text/plain": [
       "tensor([3, 6, 9])"
      ]
     },
     "execution_count": 308,
     "metadata": {},
     "output_type": "execute_result"
    }
   ],
   "source": [
    "x[0,:,2]"
   ]
  },
  {
   "cell_type": "code",
   "execution_count": 310,
   "id": "ab0078b2-6fcf-4302-8be5-69bab574debf",
   "metadata": {},
   "outputs": [],
   "source": [
    "## to convert from the numpy torch.from_numpy()"
   ]
  },
  {
   "cell_type": "code",
   "execution_count": 316,
   "id": "025f244e-2c95-42c6-97c8-ac4aa9250d52",
   "metadata": {},
   "outputs": [],
   "source": [
    "import numpy as np"
   ]
  },
  {
   "cell_type": "code",
   "execution_count": 317,
   "id": "b648c04b-d823-48a3-acd7-e2949f78aabb",
   "metadata": {},
   "outputs": [],
   "source": [
    "n1=np.array([1,2,3,4,5,6,7,8])"
   ]
  },
  {
   "cell_type": "code",
   "execution_count": 318,
   "id": "e376e347-0613-4d31-9ceb-5499e9e6b494",
   "metadata": {},
   "outputs": [],
   "source": [
    "t=torch.from_numpy(n1)"
   ]
  },
  {
   "cell_type": "code",
   "execution_count": 319,
   "id": "d69a18e1-53c9-4f5d-981b-adc32a2fe858",
   "metadata": {},
   "outputs": [
    {
     "data": {
      "text/plain": [
       "tensor([1, 2, 3, 4, 5, 6, 7, 8])"
      ]
     },
     "execution_count": 319,
     "metadata": {},
     "output_type": "execute_result"
    }
   ],
   "source": [
    "t"
   ]
  },
  {
   "cell_type": "code",
   "execution_count": 320,
   "id": "f10ffca8-7dfa-4c97-a349-37f450d7767f",
   "metadata": {},
   "outputs": [
    {
     "data": {
      "text/plain": [
       "(1, 1)"
      ]
     },
     "execution_count": 320,
     "metadata": {},
     "output_type": "execute_result"
    }
   ],
   "source": [
    "n1.ndim,t.ndim"
   ]
  },
  {
   "cell_type": "code",
   "execution_count": 321,
   "id": "84b12926-48ea-44bd-97e8-6489b4d7aed7",
   "metadata": {},
   "outputs": [
    {
     "data": {
      "text/plain": [
       "dtype('int64')"
      ]
     },
     "execution_count": 321,
     "metadata": {},
     "output_type": "execute_result"
    }
   ],
   "source": [
    "n1.dtype"
   ]
  },
  {
   "cell_type": "code",
   "execution_count": 322,
   "id": "1903b7a6-e37f-407c-ba2a-cc31a501262d",
   "metadata": {},
   "outputs": [
    {
     "data": {
      "text/plain": [
       "torch.int64"
      ]
     },
     "execution_count": 322,
     "metadata": {},
     "output_type": "execute_result"
    }
   ],
   "source": [
    "t.dtype"
   ]
  },
  {
   "cell_type": "code",
   "execution_count": 323,
   "id": "594bf99d-04ea-4009-8ecb-7f9d00584b28",
   "metadata": {},
   "outputs": [
    {
     "data": {
      "text/plain": [
       "tensor([1., 2., 3., 4., 5., 6., 7., 8.])"
      ]
     },
     "execution_count": 323,
     "metadata": {},
     "output_type": "execute_result"
    }
   ],
   "source": [
    "t.type(torch.float32)"
   ]
  },
  {
   "cell_type": "code",
   "execution_count": 324,
   "id": "2f09763a-cfb0-4c83-86bb-434c8df20b0e",
   "metadata": {},
   "outputs": [],
   "source": [
    "## it will produce the new tensor memory rather than mapping"
   ]
  },
  {
   "cell_type": "code",
   "execution_count": 325,
   "id": "720daba0-1edf-4953-bc5f-f65044dd8220",
   "metadata": {},
   "outputs": [],
   "source": [
    "## tensor to numpy\n",
    "to=torch.ones(3,3)"
   ]
  },
  {
   "cell_type": "code",
   "execution_count": 326,
   "id": "961346b3-d8e7-42c7-9ad2-92b59bbba4c7",
   "metadata": {},
   "outputs": [
    {
     "data": {
      "text/plain": [
       "tensor([[1., 1., 1.],\n",
       "        [1., 1., 1.],\n",
       "        [1., 1., 1.]])"
      ]
     },
     "execution_count": 326,
     "metadata": {},
     "output_type": "execute_result"
    }
   ],
   "source": [
    "to"
   ]
  },
  {
   "cell_type": "code",
   "execution_count": 327,
   "id": "9a91b801-e0b9-433c-853f-78eea6878fa3",
   "metadata": {},
   "outputs": [],
   "source": [
    "ta=to.numpy()"
   ]
  },
  {
   "cell_type": "code",
   "execution_count": 328,
   "id": "6367ea08-90a2-47a0-adaf-f8ed0e3ec083",
   "metadata": {},
   "outputs": [
    {
     "data": {
      "text/plain": [
       "array([[1., 1., 1.],\n",
       "       [1., 1., 1.],\n",
       "       [1., 1., 1.]], dtype=float32)"
      ]
     },
     "execution_count": 328,
     "metadata": {},
     "output_type": "execute_result"
    }
   ],
   "source": [
    "ta"
   ]
  },
  {
   "cell_type": "markdown",
   "id": "931c2e7f-c2bc-4920-b16c-d6fee6a715a9",
   "metadata": {},
   "source": [
    "### Reproducability\n",
    "* trying to take out random from random\n",
    "* In neural network it works as:\n",
    "        `start with the random numbers-> tensor operations->update random numbers -> try to make representation again and again`"
   ]
  },
  {
   "cell_type": "code",
   "execution_count": 331,
   "id": "d42db22e-a007-4cb2-b59d-f3cb3725e7ca",
   "metadata": {},
   "outputs": [
    {
     "data": {
      "text/plain": [
       "tensor([[0.2970, 0.7849, 0.0895],\n",
       "        [0.9326, 0.4341, 0.6674],\n",
       "        [0.1399, 0.6357, 0.9114]])"
      ]
     },
     "execution_count": 331,
     "metadata": {},
     "output_type": "execute_result"
    }
   ],
   "source": [
    "torch.rand(3,3)"
   ]
  },
  {
   "cell_type": "raw",
   "id": "e4bef0b5-448f-42a4-b1a5-e0db7d5d6891",
   "metadata": {},
   "source": [
    "reproducability will give us the ability to reduce the randomness in neural netwrks and \n",
    "pytorch comes with random seed"
   ]
  },
  {
   "cell_type": "code",
   "execution_count": 333,
   "id": "4d493484-18bc-46a0-a80f-cc076bdc0223",
   "metadata": {},
   "outputs": [],
   "source": [
    "## pseudo randomness "
   ]
  },
  {
   "cell_type": "code",
   "execution_count": 336,
   "id": "84e4913b-b9f0-490d-b768-7c1db5816ed7",
   "metadata": {},
   "outputs": [
    {
     "name": "stdout",
     "output_type": "stream",
     "text": [
      "tensor([[0.4613, 0.9180, 0.7742, 0.4114],\n",
      "        [0.4014, 0.9040, 0.0539, 0.6601],\n",
      "        [0.1980, 0.0571, 0.8406, 0.4692]])\n",
      "tensor([[0.3921, 0.6114, 0.3225, 0.5894],\n",
      "        [0.8406, 0.3864, 0.2973, 0.4916],\n",
      "        [0.2706, 0.9380, 0.3432, 0.4056]])\n",
      "tensor([[False, False, False, False],\n",
      "        [False, False, False, False],\n",
      "        [False, False, False, False]])\n"
     ]
    }
   ],
   "source": [
    "ra=torch.rand(3,4)\n",
    "rb=torch.rand(3,4)\n",
    "print(ra)\n",
    "print(rb)\n",
    "print(ra==rb)"
   ]
  },
  {
   "cell_type": "code",
   "execution_count": 337,
   "id": "db7a77eb-5efd-4845-ac80-ed02468dd490",
   "metadata": {},
   "outputs": [],
   "source": [
    "## no values of the random tensor would match"
   ]
  },
  {
   "cell_type": "code",
   "execution_count": 338,
   "id": "1f3fca08-e482-44c0-bb26-42f68dcd3f76",
   "metadata": {},
   "outputs": [],
   "source": [
    "# through concept of random seed"
   ]
  },
  {
   "cell_type": "code",
   "execution_count": 342,
   "id": "f51b8a3d-eafc-4654-9dd3-4c41ae854985",
   "metadata": {},
   "outputs": [
    {
     "name": "stdout",
     "output_type": "stream",
     "text": [
      "tensor([[0.8823, 0.9150, 0.3829, 0.9593],\n",
      "        [0.3904, 0.6009, 0.2566, 0.7936],\n",
      "        [0.9408, 0.1332, 0.9346, 0.5936]])\n",
      "tensor([[0.8823, 0.9150, 0.3829, 0.9593],\n",
      "        [0.3904, 0.6009, 0.2566, 0.7936],\n",
      "        [0.9408, 0.1332, 0.9346, 0.5936]])\n",
      "tensor([[True, True, True, True],\n",
      "        [True, True, True, True],\n",
      "        [True, True, True, True]])\n"
     ]
    }
   ],
   "source": [
    "#randomseed\n",
    "RANDOM_SEED=42\n",
    "torch.manual_seed(RANDOM_SEED)\n",
    "randoms=torch.rand(3,4)\n",
    "torch.manual_seed(RANDOM_SEED)\n",
    "randomss=torch.rand(3,4)\n",
    "print(randoms)\n",
    "print(randomss)\n",
    "print(randoms==randomss)"
   ]
  },
  {
   "cell_type": "code",
   "execution_count": 343,
   "id": "6e98145c-9bf7-4d8e-b00d-d1878981de58",
   "metadata": {},
   "outputs": [],
   "source": [
    "## by random seed we will get the same random values "
   ]
  },
  {
   "cell_type": "code",
   "execution_count": null,
   "id": "65440e25-b39e-4ba8-a264-8f41b1953de5",
   "metadata": {},
   "outputs": [],
   "source": []
  }
 ],
 "metadata": {
  "kernelspec": {
   "display_name": "Python 3 (ipykernel)",
   "language": "python",
   "name": "python3"
  },
  "language_info": {
   "codemirror_mode": {
    "name": "ipython",
    "version": 3
   },
   "file_extension": ".py",
   "mimetype": "text/x-python",
   "name": "python",
   "nbconvert_exporter": "python",
   "pygments_lexer": "ipython3",
   "version": "3.12.7"
  }
 },
 "nbformat": 4,
 "nbformat_minor": 5
}
