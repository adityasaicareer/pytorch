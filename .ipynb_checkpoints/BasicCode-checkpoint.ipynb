{
 "cells": [
  {
   "cell_type": "code",
   "execution_count": 1,
   "id": "2a4a0d7e-315b-44d2-ab4e-3b21b485f962",
   "metadata": {},
   "outputs": [],
   "source": [
    "import numpy as np\n",
    "import pandas as pd\n",
    "import torch"
   ]
  },
  {
   "cell_type": "markdown",
   "id": "3998d035-1d74-422b-9108-0cbae347af54",
   "metadata": {},
   "source": [
    "* Accessing the GPU\n",
    "* Running Tensors and pytorch objects on GPU and making faster computations\n",
    "  "
   ]
  },
  {
   "cell_type": "markdown",
   "id": "c14de229-4361-487b-8528-6497f6f199aa",
   "metadata": {},
   "source": [
    "### getting a gpu\n",
    "1. By google colab --(upgrade for better)\n",
    "2. In Built GPU\n",
    "3. Cloud Computing- GCP,Aws,Azure allow to rent comp and access them"
   ]
  },
  {
   "cell_type": "code",
   "execution_count": 3,
   "id": "b43990ab-7f72-4f7b-8a18-ecf154cbea41",
   "metadata": {},
   "outputs": [],
   "source": [
    "## check with the gpu access"
   ]
  },
  {
   "cell_type": "code",
   "execution_count": 5,
   "id": "03c9c54d-0903-4faa-addc-00d5d572c03f",
   "metadata": {},
   "outputs": [
    {
     "data": {
      "text/plain": [
       "False"
      ]
     },
     "execution_count": 5,
     "metadata": {},
     "output_type": "execute_result"
    }
   ],
   "source": [
    "torch.cuda.is_available()"
   ]
  },
  {
   "cell_type": "code",
   "execution_count": 7,
   "id": "c97c4d28-42e4-4d70-be0d-5e817938ca30",
   "metadata": {},
   "outputs": [
    {
     "data": {
      "text/plain": [
       "True"
      ]
     },
     "execution_count": 7,
     "metadata": {},
     "output_type": "execute_result"
    }
   ],
   "source": [
    "torch.backends.mps.is_available()"
   ]
  },
  {
   "cell_type": "code",
   "execution_count": 8,
   "id": "0caa85df-54b3-49ce-bbfd-d94c2e3fe139",
   "metadata": {},
   "outputs": [],
   "source": [
    "# setup device agostic code\n"
   ]
  },
  {
   "cell_type": "code",
   "execution_count": 10,
   "id": "3f398f15-e27a-4de8-a1a2-9be7b27a2780",
   "metadata": {},
   "outputs": [
    {
     "data": {
      "text/plain": [
       "True"
      ]
     },
     "execution_count": 10,
     "metadata": {},
     "output_type": "execute_result"
    }
   ],
   "source": [
    "torch.backends.mps.is_available()"
   ]
  },
  {
   "cell_type": "code",
   "execution_count": 11,
   "id": "365fd948-f35f-45c9-9c8b-57f65bb85770",
   "metadata": {},
   "outputs": [],
   "source": [
    "tensor=torch.tensor([1,2,3])"
   ]
  },
  {
   "cell_type": "code",
   "execution_count": 14,
   "id": "847bd3cd-0c04-4982-a591-5f0063db6fa6",
   "metadata": {},
   "outputs": [
    {
     "data": {
      "text/plain": [
       "(tensor([1, 2, 3]), device(type='cpu'))"
      ]
     },
     "execution_count": 14,
     "metadata": {},
     "output_type": "execute_result"
    }
   ],
   "source": [
    "tensor,tensor.device"
   ]
  },
  {
   "cell_type": "code",
   "execution_count": 21,
   "id": "5fcf89a1-dcf6-4d18-897e-27c4ac37eb29",
   "metadata": {},
   "outputs": [],
   "source": [
    "#this will  produce new variable on gpu\n",
    "tensor_on_gpu=tensor.to(\"mps\")"
   ]
  },
  {
   "cell_type": "code",
   "execution_count": 22,
   "id": "7b60cdcf-5510-4ddf-bf4d-a796f3f152f8",
   "metadata": {},
   "outputs": [
    {
     "data": {
      "text/plain": [
       "device(type='cpu')"
      ]
     },
     "execution_count": 22,
     "metadata": {},
     "output_type": "execute_result"
    }
   ],
   "source": [
    "tensor.device"
   ]
  },
  {
   "cell_type": "code",
   "execution_count": 23,
   "id": "42bc03ee-0736-4ea7-9fc9-b92366eda2e2",
   "metadata": {},
   "outputs": [
    {
     "data": {
      "text/plain": [
       "tensor([1, 2, 3], device='mps:0')"
      ]
     },
     "execution_count": 23,
     "metadata": {},
     "output_type": "execute_result"
    }
   ],
   "source": [
    "tensor_on_gpu"
   ]
  },
  {
   "cell_type": "code",
   "execution_count": 24,
   "id": "e482fec7-3b7d-4dd4-953f-2d3fedb6ce3f",
   "metadata": {},
   "outputs": [],
   "source": [
    "## moving back to cpu"
   ]
  },
  {
   "cell_type": "code",
   "execution_count": 25,
   "id": "b5dc4774-d8d0-4dd8-99df-ecc5a3b55a99",
   "metadata": {},
   "outputs": [
    {
     "ename": "TypeError",
     "evalue": "can't convert mps:0 device type tensor to numpy. Use Tensor.cpu() to copy the tensor to host memory first.",
     "output_type": "error",
     "traceback": [
      "\u001b[0;31m---------------------------------------------------------------------------\u001b[0m",
      "\u001b[0;31mTypeError\u001b[0m                                 Traceback (most recent call last)",
      "Cell \u001b[0;32mIn[25], line 1\u001b[0m\n\u001b[0;32m----> 1\u001b[0m tocpu\u001b[38;5;241m=\u001b[39m\u001b[43mtensor_on_gpu\u001b[49m\u001b[38;5;241;43m.\u001b[39;49m\u001b[43mnumpy\u001b[49m\u001b[43m(\u001b[49m\u001b[43m)\u001b[49m\n",
      "\u001b[0;31mTypeError\u001b[0m: can't convert mps:0 device type tensor to numpy. Use Tensor.cpu() to copy the tensor to host memory first."
     ]
    }
   ],
   "source": [
    "tocpu=tensor_on_gpu.numpy()\n",
    "# cant convert to the numpy when in gpu"
   ]
  },
  {
   "cell_type": "code",
   "execution_count": 26,
   "id": "1cc75619-7d5f-4408-acd6-578a06a779b0",
   "metadata": {},
   "outputs": [],
   "source": [
    "tocpu=tensor_on_gpu.to(\"cpu\")"
   ]
  },
  {
   "cell_type": "code",
   "execution_count": 28,
   "id": "590e5ef5-9c47-4fa5-a147-c5b623fb4ff2",
   "metadata": {},
   "outputs": [
    {
     "data": {
      "text/plain": [
       "(tensor([1, 2, 3]), device(type='cpu'))"
      ]
     },
     "execution_count": 28,
     "metadata": {},
     "output_type": "execute_result"
    }
   ],
   "source": [
    "tocpu,tocpu.device"
   ]
  },
  {
   "cell_type": "code",
   "execution_count": 29,
   "id": "d69db7ff-6722-4164-b64b-3a30eb9d9981",
   "metadata": {},
   "outputs": [
    {
     "data": {
      "text/plain": [
       "array([1, 2, 3])"
      ]
     },
     "execution_count": 29,
     "metadata": {},
     "output_type": "execute_result"
    }
   ],
   "source": [
    "tocpu.numpy()"
   ]
  },
  {
   "cell_type": "code",
   "execution_count": null,
   "id": "ab5d6440-0249-436e-b273-050b4e032de4",
   "metadata": {},
   "outputs": [],
   "source": []
  }
 ],
 "metadata": {
  "kernelspec": {
   "display_name": "Python 3 (ipykernel)",
   "language": "python",
   "name": "python3"
  },
  "language_info": {
   "codemirror_mode": {
    "name": "ipython",
    "version": 3
   },
   "file_extension": ".py",
   "mimetype": "text/x-python",
   "name": "python",
   "nbconvert_exporter": "python",
   "pygments_lexer": "ipython3",
   "version": "3.12.7"
  }
 },
 "nbformat": 4,
 "nbformat_minor": 5
}
