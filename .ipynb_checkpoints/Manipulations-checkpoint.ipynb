{
 "cells": [
  {
   "cell_type": "code",
   "execution_count": 37,
   "id": "31ca3601-fcb4-4bf3-be7c-795f4be7f69c",
   "metadata": {},
   "outputs": [],
   "source": [
    "import torch\n",
    "import pandas as pd\n",
    "import numpy as np\n",
    "import matplotlib.pyplot as plt"
   ]
  },
  {
   "cell_type": "markdown",
   "id": "77abc78a-f356-4048-bd3b-22e058f1a88c",
   "metadata": {},
   "source": [
    "### The manipulations in Pytorch:\n",
    "1.Addition\n",
    "2.Subtraction\n",
    "3.Multiplication(element-wise)\n",
    "4.Division\n",
    "5.Matrix Multiplication"
   ]
  },
  {
   "cell_type": "code",
   "execution_count": 38,
   "id": "7f358901-a3fe-4502-9716-2f88698ae929",
   "metadata": {},
   "outputs": [],
   "source": [
    "sample1=torch.tensor([1.3,2,3])\n"
   ]
  },
  {
   "cell_type": "code",
   "execution_count": 39,
   "id": "9fe25254-cf3e-446e-8550-db01093baf8c",
   "metadata": {},
   "outputs": [
    {
     "data": {
      "text/plain": [
       "tensor([11.3000, 12.0000, 13.0000])"
      ]
     },
     "execution_count": 39,
     "metadata": {},
     "output_type": "execute_result"
    }
   ],
   "source": [
    "sample1+10"
   ]
  },
  {
   "cell_type": "code",
   "execution_count": 40,
   "id": "d5ad792a-71ea-433f-873b-395f05573f30",
   "metadata": {},
   "outputs": [
    {
     "data": {
      "text/plain": [
       "tensor([1.3000, 2.0000, 3.0000])"
      ]
     },
     "execution_count": 40,
     "metadata": {},
     "output_type": "execute_result"
    }
   ],
   "source": [
    "sample1"
   ]
  },
  {
   "cell_type": "code",
   "execution_count": 41,
   "id": "f1c5d5d9-14fc-4814-a4f8-29d6925eb621",
   "metadata": {},
   "outputs": [
    {
     "data": {
      "text/plain": [
       "tensor([101.3000, 102.0000, 103.0000])"
      ]
     },
     "execution_count": 41,
     "metadata": {},
     "output_type": "execute_result"
    }
   ],
   "source": [
    "sample1+100"
   ]
  },
  {
   "cell_type": "code",
   "execution_count": 42,
   "id": "ef680b1d-6ebf-4a52-8f15-066edf30d309",
   "metadata": {},
   "outputs": [
    {
     "data": {
      "text/plain": [
       "tensor([13., 20., 30.])"
      ]
     },
     "execution_count": 42,
     "metadata": {},
     "output_type": "execute_result"
    }
   ],
   "source": [
    "sample1*10"
   ]
  },
  {
   "cell_type": "code",
   "execution_count": 43,
   "id": "ba2a4206-bcca-4252-b2c1-d0c84b7f926a",
   "metadata": {},
   "outputs": [
    {
     "data": {
      "text/plain": [
       "tensor([0.6500, 1.0000, 1.5000])"
      ]
     },
     "execution_count": 43,
     "metadata": {},
     "output_type": "execute_result"
    }
   ],
   "source": [
    "sample1/2"
   ]
  },
  {
   "cell_type": "code",
   "execution_count": 44,
   "id": "3256ce8e-792f-49c2-948b-8f56b3ce7db3",
   "metadata": {},
   "outputs": [],
   "source": [
    "sample1=sample1*10"
   ]
  },
  {
   "cell_type": "code",
   "execution_count": 45,
   "id": "5b499a84-6948-41b6-b417-befb6b43a2d2",
   "metadata": {},
   "outputs": [
    {
     "data": {
      "text/plain": [
       "tensor([13., 20., 30.])"
      ]
     },
     "execution_count": 45,
     "metadata": {},
     "output_type": "execute_result"
    }
   ],
   "source": [
    "sample1"
   ]
  },
  {
   "cell_type": "code",
   "execution_count": 46,
   "id": "16fd9546-14c3-4ee9-ad14-58043a005c0c",
   "metadata": {},
   "outputs": [],
   "source": [
    "# subtract 10\n"
   ]
  },
  {
   "cell_type": "code",
   "execution_count": 47,
   "id": "84854faa-7f4c-46e6-87ca-55b994226fa6",
   "metadata": {},
   "outputs": [
    {
     "data": {
      "text/plain": [
       "tensor([ 3., 10., 20.])"
      ]
     },
     "execution_count": 47,
     "metadata": {},
     "output_type": "execute_result"
    }
   ],
   "source": [
    "sample1-10"
   ]
  },
  {
   "cell_type": "code",
   "execution_count": 48,
   "id": "39b8bfff-3b5c-4461-9624-a6e429dee6ad",
   "metadata": {},
   "outputs": [
    {
     "data": {
      "text/plain": [
       "tensor([-7.,  0., 10.])"
      ]
     },
     "execution_count": 48,
     "metadata": {},
     "output_type": "execute_result"
    }
   ],
   "source": [
    "sample1-20"
   ]
  },
  {
   "cell_type": "code",
   "execution_count": 49,
   "id": "ef96dc23-2279-4a40-ac3c-7b77f93fcf29",
   "metadata": {},
   "outputs": [],
   "source": [
    "## Try out pytorch inbuilt function"
   ]
  },
  {
   "cell_type": "code",
   "execution_count": 50,
   "id": "a4443b98-41ef-42cb-b7c0-3f7677a8d3af",
   "metadata": {},
   "outputs": [
    {
     "data": {
      "text/plain": [
       "tensor([130., 200., 300.])"
      ]
     },
     "execution_count": 50,
     "metadata": {},
     "output_type": "execute_result"
    }
   ],
   "source": [
    "torch.mul(sample1,10)"
   ]
  },
  {
   "cell_type": "code",
   "execution_count": 51,
   "id": "8ddcf432-2f99-4096-9ae9-ce4c4c8ea29a",
   "metadata": {},
   "outputs": [
    {
     "data": {
      "text/plain": [
       "tensor([213., 220., 230.])"
      ]
     },
     "execution_count": 51,
     "metadata": {},
     "output_type": "execute_result"
    }
   ],
   "source": [
    "torch.add(sample1,200)"
   ]
  },
  {
   "cell_type": "code",
   "execution_count": 52,
   "id": "ae7e915e-c4f6-4693-bbb3-5bcb964779a1",
   "metadata": {},
   "outputs": [
    {
     "data": {
      "text/plain": [
       "tensor([12., 19., 29.])"
      ]
     },
     "execution_count": 52,
     "metadata": {},
     "output_type": "execute_result"
    }
   ],
   "source": [
    "torch.sub(sample1,1)"
   ]
  },
  {
   "cell_type": "code",
   "execution_count": 53,
   "id": "73508089-8e01-4c51-844b-427b7b29272e",
   "metadata": {},
   "outputs": [
    {
     "data": {
      "text/plain": [
       "tensor([ 6.5000, 10.0000, 15.0000])"
      ]
     },
     "execution_count": 53,
     "metadata": {},
     "output_type": "execute_result"
    }
   ],
   "source": [
    "torch.div(sample1,2)"
   ]
  },
  {
   "cell_type": "code",
   "execution_count": 54,
   "id": "63ffabb7-7f9a-4aaa-9f83-1d7013d7e267",
   "metadata": {},
   "outputs": [
    {
     "data": {
      "text/plain": [
       "tensor([13., 20., 30.])"
      ]
     },
     "execution_count": 54,
     "metadata": {},
     "output_type": "execute_result"
    }
   ],
   "source": [
    "sample1"
   ]
  },
  {
   "cell_type": "code",
   "execution_count": 55,
   "id": "1791c1dd-ec5b-4a17-bd06-f9ee4b1abee8",
   "metadata": {},
   "outputs": [],
   "source": [
    "sample2=torch.rand(1,3)"
   ]
  },
  {
   "cell_type": "code",
   "execution_count": 56,
   "id": "08e63044-4013-4acf-a225-e4548071c5b9",
   "metadata": {},
   "outputs": [
    {
     "data": {
      "text/plain": [
       "tensor([[0.6716, 0.0950, 0.5675]])"
      ]
     },
     "execution_count": 56,
     "metadata": {},
     "output_type": "execute_result"
    }
   ],
   "source": [
    "sample2"
   ]
  },
  {
   "cell_type": "code",
   "execution_count": 57,
   "id": "352bc343-aef4-4321-b93a-6552f0457843",
   "metadata": {},
   "outputs": [
    {
     "data": {
      "text/plain": [
       "tensor([[ 8.7312,  1.9006, 17.0241]])"
      ]
     },
     "execution_count": 57,
     "metadata": {},
     "output_type": "execute_result"
    }
   ],
   "source": [
    "torch.mul(sample1,sample2)"
   ]
  },
  {
   "cell_type": "code",
   "execution_count": 58,
   "id": "8ab1b1c6-b1b6-4fe8-9c4e-5d3a50747fde",
   "metadata": {},
   "outputs": [
    {
     "data": {
      "text/plain": [
       "tensor([[0.6716, 0.0950, 0.5675]])"
      ]
     },
     "execution_count": 58,
     "metadata": {},
     "output_type": "execute_result"
    }
   ],
   "source": [
    "sample2"
   ]
  },
  {
   "cell_type": "code",
   "execution_count": 59,
   "id": "c2cedb09-3dea-4e7e-90da-05ce4b235a3d",
   "metadata": {},
   "outputs": [
    {
     "data": {
      "text/plain": [
       "tensor([13., 20., 30.])"
      ]
     },
     "execution_count": 59,
     "metadata": {},
     "output_type": "execute_result"
    }
   ],
   "source": [
    "sample1"
   ]
  },
  {
   "cell_type": "markdown",
   "id": "1a1cb4b7-f11d-4f33-88a1-7c4838999cb7",
   "metadata": {},
   "source": [
    "### matric multiplication\n",
    "## element-wise matmul\n",
    "## matrix multiplication`(dot product)`"
   ]
  },
  {
   "cell_type": "code",
   "execution_count": 60,
   "id": "b8cde46d-1ebd-4ead-a795-e010d7617c20",
   "metadata": {},
   "outputs": [
    {
     "name": "stdout",
     "output_type": "stream",
     "text": [
      "element wise multiplication tensor([169., 400., 900.])\n"
     ]
    }
   ],
   "source": [
    "print(f\"element wise multiplication {sample1*sample1}\")"
   ]
  },
  {
   "cell_type": "code",
   "execution_count": 61,
   "id": "d475cd96-867d-4d74-bbb2-1726c510353b",
   "metadata": {},
   "outputs": [],
   "source": [
    "# matric multiplication"
   ]
  },
  {
   "cell_type": "code",
   "execution_count": 62,
   "id": "a9082dea-215e-4db2-ba4a-f5ad7116eb4b",
   "metadata": {},
   "outputs": [
    {
     "data": {
      "text/plain": [
       "tensor(1469.)"
      ]
     },
     "execution_count": 62,
     "metadata": {},
     "output_type": "execute_result"
    }
   ],
   "source": [
    "torch.matmul(sample1,sample1)"
   ]
  },
  {
   "cell_type": "code",
   "execution_count": 63,
   "id": "2538da0f-4733-40e1-a61b-ea68995afe2f",
   "metadata": {},
   "outputs": [],
   "source": [
    "sample2=torch.rand(3,1)"
   ]
  },
  {
   "cell_type": "code",
   "execution_count": 64,
   "id": "7dd3e06b-94c6-4496-a79c-9290ca4b5b07",
   "metadata": {},
   "outputs": [
    {
     "data": {
      "text/plain": [
       "tensor([33.4651])"
      ]
     },
     "execution_count": 64,
     "metadata": {},
     "output_type": "execute_result"
    }
   ],
   "source": [
    "torch.matmul(sample1,sample2)"
   ]
  },
  {
   "cell_type": "code",
   "execution_count": 68,
   "id": "2fdd46f2-7d73-4d61-b767-bf5ee698a512",
   "metadata": {},
   "outputs": [
    {
     "name": "stdout",
     "output_type": "stream",
     "text": [
      "1.32 μs ± 13.2 ns per loop (mean ± std. dev. of 7 runs, 1,000,000 loops each)\n"
     ]
    }
   ],
   "source": [
    "%%timeit\n",
    "torch.matmul(sample1,sample2)"
   ]
  },
  {
   "cell_type": "code",
   "execution_count": 69,
   "id": "1bb9db21-8534-408d-a7a7-e556a292edad",
   "metadata": {},
   "outputs": [],
   "source": [
    "# use torch libraries for the better perfomance"
   ]
  },
  {
   "cell_type": "code",
   "execution_count": 71,
   "id": "7b67419a-3059-4422-a71d-fce69de69ba3",
   "metadata": {},
   "outputs": [],
   "source": [
    "## one of the most common errors in deep learning is shape errors"
   ]
  },
  {
   "cell_type": "code",
   "execution_count": 74,
   "id": "ec02eabe-0b41-4388-9aaf-27510bbe8aff",
   "metadata": {},
   "outputs": [],
   "source": [
    "## the inner dimentions must match match for matrix multiplication\n",
    "## else it wont work"
   ]
  },
  {
   "cell_type": "markdown",
   "id": "1a9a5791-2988-4a23-acb5-d91c06583bee",
   "metadata": {},
   "source": [
    "###### torch.matmul(torch.rand(3,2),torch.rand(3,2))\n",
    "##### thr above wont work as its innerdomention were not same\n",
    "### the output matric outer dimention\n",
    "`(2,3) (3,2)` outer is `(2,2)`"
   ]
  },
  {
   "cell_type": "code",
   "execution_count": 79,
   "id": "497651a6-0a30-405d-a6fd-e48fad053d95",
   "metadata": {},
   "outputs": [
    {
     "data": {
      "text/plain": [
       "tensor([[0.4284, 0.2345, 0.3230],\n",
       "        [0.9029, 0.2376, 0.3900],\n",
       "        [0.9184, 0.3295, 0.4961]])"
      ]
     },
     "execution_count": 79,
     "metadata": {},
     "output_type": "execute_result"
    }
   ],
   "source": [
    "torch.matmul(torch.rand(3,2),torch.rand(2,3))"
   ]
  },
  {
   "cell_type": "code",
   "execution_count": 81,
   "id": "010ed9dc-965a-4fd6-ae6c-326be8a1ad3b",
   "metadata": {},
   "outputs": [
    {
     "data": {
      "text/plain": [
       "torch.Size([10, 10])"
      ]
     },
     "execution_count": 81,
     "metadata": {},
     "output_type": "execute_result"
    }
   ],
   "source": [
    "torch.matmul(torch.rand(10,10),torch.rand(10,10)).shape"
   ]
  },
  {
   "cell_type": "code",
   "execution_count": 82,
   "id": "b1b83378-b139-45bc-a47f-6710b999a1d0",
   "metadata": {},
   "outputs": [],
   "source": [
    "# one of the most common errors"
   ]
  },
  {
   "cell_type": "code",
   "execution_count": 84,
   "id": "71d893a7-a451-48cf-af1f-4be274ff8513",
   "metadata": {},
   "outputs": [],
   "source": [
    "tensora=torch.tensor([[1,2,3],\n",
    "                      [4,5,6],\n",
    "                      [7,8,9]])\n",
    "tensorb=torch.tensor([[10,11,12],\n",
    "                      [13,14,15],\n",
    "                      [16,17,18]])"
   ]
  },
  {
   "cell_type": "code",
   "execution_count": 85,
   "id": "c27a38c2-9df7-41ff-bbdb-83e4c18f102f",
   "metadata": {},
   "outputs": [
    {
     "data": {
      "text/plain": [
       "(tensor([[1, 2, 3],\n",
       "         [4, 5, 6],\n",
       "         [7, 8, 9]]),\n",
       " tensor([[10, 11, 12],\n",
       "         [13, 14, 15],\n",
       "         [16, 17, 18]]))"
      ]
     },
     "execution_count": 85,
     "metadata": {},
     "output_type": "execute_result"
    }
   ],
   "source": [
    "tensora,tensorb"
   ]
  },
  {
   "cell_type": "code",
   "execution_count": 86,
   "id": "fc677a73-4d0c-401b-b3a9-2cafd33fac52",
   "metadata": {},
   "outputs": [
    {
     "data": {
      "text/plain": [
       "(torch.Size([3, 3]), torch.Size([3, 3]))"
      ]
     },
     "execution_count": 86,
     "metadata": {},
     "output_type": "execute_result"
    }
   ],
   "source": [
    "tensora.shape,tensorb.shape"
   ]
  },
  {
   "cell_type": "code",
   "execution_count": 90,
   "id": "20bd3251-0c4c-410f-a661-64f5d0a8e7fd",
   "metadata": {},
   "outputs": [
    {
     "name": "stdout",
     "output_type": "stream",
     "text": [
      "826 ns ± 8.79 ns per loop (mean ± std. dev. of 7 runs, 1,000,000 loops each)\n"
     ]
    }
   ],
   "source": [
    "%timeit torch.matmul(tensora,tensorb)"
   ]
  },
  {
   "cell_type": "code",
   "execution_count": 91,
   "id": "e8dfb689-e0f9-491d-8ee1-b14db307f7da",
   "metadata": {},
   "outputs": [
    {
     "name": "stdout",
     "output_type": "stream",
     "text": [
      "786 ns ± 7.33 ns per loop (mean ± std. dev. of 7 runs, 1,000,000 loops each)\n"
     ]
    }
   ],
   "source": [
    "%timeit torch.mul(tensora,tensorb)"
   ]
  },
  {
   "cell_type": "code",
   "execution_count": 95,
   "id": "a83f05df-c85a-4d6f-9e37-d53bd88162df",
   "metadata": {},
   "outputs": [
    {
     "name": "stdout",
     "output_type": "stream",
     "text": [
      "778 ns ± 5.36 ns per loop (mean ± std. dev. of 7 runs, 1,000,000 loops each)\n"
     ]
    }
   ],
   "source": [
    "%timeit torch.mm(tensora,tensorb)"
   ]
  },
  {
   "cell_type": "code",
   "execution_count": 93,
   "id": "fd0c3789-aed6-48ed-a4eb-749e8e1594b4",
   "metadata": {},
   "outputs": [],
   "source": [
    "## torch.mm was a shortform of matrixmultiplication"
   ]
  },
  {
   "cell_type": "code",
   "execution_count": 96,
   "id": "bf152d40-ec0b-4197-8a85-161896983d63",
   "metadata": {},
   "outputs": [],
   "source": [
    "tensora=torch.tensor([[1,2],\n",
    "                      [3,4],\n",
    "                      [5,6]])\n",
    "tensorb=torch.tensor([[7,8],\n",
    "                      [9,10],\n",
    "                      [11,12]])"
   ]
  },
  {
   "cell_type": "code",
   "execution_count": 97,
   "id": "5e0321a9-9982-4fec-84ad-6251648b22b7",
   "metadata": {},
   "outputs": [
    {
     "ename": "RuntimeError",
     "evalue": "mat1 and mat2 shapes cannot be multiplied (3x2 and 3x2)",
     "output_type": "error",
     "traceback": [
      "\u001b[0;31m---------------------------------------------------------------------------\u001b[0m",
      "\u001b[0;31mRuntimeError\u001b[0m                              Traceback (most recent call last)",
      "Cell \u001b[0;32mIn[97], line 1\u001b[0m\n\u001b[0;32m----> 1\u001b[0m \u001b[43mtorch\u001b[49m\u001b[38;5;241;43m.\u001b[39;49m\u001b[43mmatmul\u001b[49m\u001b[43m(\u001b[49m\u001b[43mtensora\u001b[49m\u001b[43m,\u001b[49m\u001b[43mtensorb\u001b[49m\u001b[43m)\u001b[49m\n",
      "\u001b[0;31mRuntimeError\u001b[0m: mat1 and mat2 shapes cannot be multiplied (3x2 and 3x2)"
     ]
    }
   ],
   "source": [
    "torch.matmul(tensora,tensorb)"
   ]
  },
  {
   "cell_type": "code",
   "execution_count": 98,
   "id": "bdafc03c-3540-4172-b595-dbaa7d0f31c2",
   "metadata": {},
   "outputs": [],
   "source": [
    "## now to solve the above problem we should use the transpose function in the torch"
   ]
  },
  {
   "cell_type": "code",
   "execution_count": 99,
   "id": "4ee70f92-82f7-4f5a-bab2-bb09cf42df36",
   "metadata": {},
   "outputs": [],
   "source": [
    "## to fix the tensor shape issue\n",
    "## a transpose will switches the axes "
   ]
  },
  {
   "cell_type": "code",
   "execution_count": 101,
   "id": "0a841667-a6ab-47b2-8f53-a5678538e0f9",
   "metadata": {},
   "outputs": [],
   "source": [
    "tensorb=tensorb.T"
   ]
  },
  {
   "cell_type": "code",
   "execution_count": 103,
   "id": "cde8942e-e745-41d4-9c80-f0742dfaff33",
   "metadata": {},
   "outputs": [
    {
     "data": {
      "text/plain": [
       "tensor([[ 23,  29,  35],\n",
       "        [ 53,  67,  81],\n",
       "        [ 83, 105, 127]])"
      ]
     },
     "execution_count": 103,
     "metadata": {},
     "output_type": "execute_result"
    }
   ],
   "source": [
    "torch.matmul(tensora,tensorb)"
   ]
  },
  {
   "cell_type": "code",
   "execution_count": 105,
   "id": "60b6eaa6-da2e-4f8a-861f-492711360024",
   "metadata": {},
   "outputs": [
    {
     "data": {
      "text/plain": [
       "(torch.Size([2, 3]), torch.Size([3, 2]))"
      ]
     },
     "execution_count": 105,
     "metadata": {},
     "output_type": "execute_result"
    }
   ],
   "source": [
    "tensorb.shape,tensora.shape\n"
   ]
  },
  {
   "cell_type": "code",
   "execution_count": 106,
   "id": "81b88f56-2f37-4e4a-98b0-22b63675e965",
   "metadata": {},
   "outputs": [
    {
     "data": {
      "text/plain": [
       "tensor([[ 89, 116],\n",
       "        [ 98, 128]])"
      ]
     },
     "execution_count": 106,
     "metadata": {},
     "output_type": "execute_result"
    }
   ],
   "source": [
    "torch.matmul(tensorb,tensora)"
   ]
  },
  {
   "cell_type": "code",
   "execution_count": 107,
   "id": "ec5e3abc-da78-4478-84e4-007c55ab5198",
   "metadata": {},
   "outputs": [],
   "source": [
    "# the matrix multiplication operation works when tensorb transpose"
   ]
  },
  {
   "cell_type": "code",
   "execution_count": 108,
   "id": "4f4d8f61-369b-4a4b-9522-14360dbbe255",
   "metadata": {},
   "outputs": [],
   "source": [
    "## they do match"
   ]
  },
  {
   "cell_type": "code",
   "execution_count": null,
   "id": "af601547-b0a8-4618-ad8b-273202c03489",
   "metadata": {},
   "outputs": [],
   "source": []
  }
 ],
 "metadata": {
  "kernelspec": {
   "display_name": "Python 3 (ipykernel)",
   "language": "python",
   "name": "python3"
  },
  "language_info": {
   "codemirror_mode": {
    "name": "ipython",
    "version": 3
   },
   "file_extension": ".py",
   "mimetype": "text/x-python",
   "name": "python",
   "nbconvert_exporter": "python",
   "pygments_lexer": "ipython3",
   "version": "3.12.7"
  }
 },
 "nbformat": 4,
 "nbformat_minor": 5
}
