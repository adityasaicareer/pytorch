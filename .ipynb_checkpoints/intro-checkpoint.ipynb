{
 "cells": [
  {
   "cell_type": "code",
   "execution_count": 270,
   "metadata": {},
   "outputs": [],
   "source": [
    "import pandas as pd \n",
    "import torch"
   ]
  },
  {
   "cell_type": "code",
   "execution_count": 271,
   "metadata": {},
   "outputs": [],
   "source": [
    "#check the cpu and gpu version\n"
   ]
  },
  {
   "cell_type": "code",
   "execution_count": 272,
   "metadata": {},
   "outputs": [],
   "source": [
    "# Pytorch funcdamentals"
   ]
  },
  {
   "cell_type": "code",
   "execution_count": 273,
   "metadata": {},
   "outputs": [
    {
     "name": "stdout",
     "output_type": "stream",
     "text": [
      "2.4.1\n"
     ]
    }
   ],
   "source": [
    "print(torch.__version__)"
   ]
  },
  {
   "cell_type": "code",
   "execution_count": 274,
   "metadata": {},
   "outputs": [
    {
     "name": "stdout",
     "output_type": "stream",
     "text": [
      "2.4.1\n"
     ]
    }
   ],
   "source": [
    "print(torch.__version__)"
   ]
  },
  {
   "cell_type": "code",
   "execution_count": 275,
   "metadata": {},
   "outputs": [],
   "source": [
    "import numpy as np\n",
    "import pandas as pd\n",
    "import matplotlib.pyplot as plt\n",
    "import torch"
   ]
  },
  {
   "cell_type": "code",
   "execution_count": 276,
   "metadata": {},
   "outputs": [],
   "source": [
    "#cu111  cuda 11"
   ]
  },
  {
   "cell_type": "code",
   "execution_count": 277,
   "metadata": {},
   "outputs": [],
   "source": [
    "## introduction to tensors\n",
    "## main building block of the data"
   ]
  },
  {
   "cell_type": "code",
   "execution_count": 278,
   "metadata": {},
   "outputs": [],
   "source": [
    "#multidimentional data"
   ]
  },
  {
   "cell_type": "code",
   "execution_count": 279,
   "metadata": {},
   "outputs": [],
   "source": [
    "# creating the tensor"
   ]
  },
  {
   "cell_type": "code",
   "execution_count": 280,
   "metadata": {},
   "outputs": [],
   "source": [
    "#scaler"
   ]
  },
  {
   "cell_type": "code",
   "execution_count": 281,
   "metadata": {},
   "outputs": [],
   "source": [
    "scaler=torch.tensor(7)"
   ]
  },
  {
   "cell_type": "code",
   "execution_count": 282,
   "metadata": {},
   "outputs": [
    {
     "data": {
      "text/plain": [
       "tensor(7)"
      ]
     },
     "execution_count": 282,
     "metadata": {},
     "output_type": "execute_result"
    }
   ],
   "source": [
    "scaler"
   ]
  },
  {
   "cell_type": "code",
   "execution_count": 283,
   "metadata": {},
   "outputs": [
    {
     "data": {
      "text/plain": [
       "torch.Tensor"
      ]
     },
     "execution_count": 283,
     "metadata": {},
     "output_type": "execute_result"
    }
   ],
   "source": [
    "type(scaler)"
   ]
  },
  {
   "cell_type": "code",
   "execution_count": 284,
   "metadata": {},
   "outputs": [
    {
     "data": {
      "text/plain": [
       "torch.Tensor"
      ]
     },
     "execution_count": 284,
     "metadata": {},
     "output_type": "execute_result"
    }
   ],
   "source": [
    "torch.Tensor"
   ]
  },
  {
   "cell_type": "code",
   "execution_count": 285,
   "metadata": {},
   "outputs": [
    {
     "data": {
      "text/plain": [
       "tensor(10.4000)"
      ]
     },
     "execution_count": 285,
     "metadata": {},
     "output_type": "execute_result"
    }
   ],
   "source": [
    "torch.tensor(10.4)"
   ]
  },
  {
   "cell_type": "code",
   "execution_count": 286,
   "metadata": {},
   "outputs": [],
   "source": [
    "mat=torch.tensor([[1,2,3],[4,5,6]])"
   ]
  },
  {
   "cell_type": "code",
   "execution_count": 287,
   "metadata": {},
   "outputs": [
    {
     "data": {
      "text/plain": [
       "tensor([[1, 2, 3],\n",
       "        [4, 5, 6]])"
      ]
     },
     "execution_count": 287,
     "metadata": {},
     "output_type": "execute_result"
    }
   ],
   "source": [
    "mat"
   ]
  },
  {
   "cell_type": "code",
   "execution_count": 288,
   "metadata": {},
   "outputs": [
    {
     "data": {
      "text/plain": [
       "0"
      ]
     },
     "execution_count": 288,
     "metadata": {},
     "output_type": "execute_result"
    }
   ],
   "source": [
    "scaler.ndim\n",
    "#they are tensor domentions not wrt to the matrices"
   ]
  },
  {
   "cell_type": "code",
   "execution_count": 289,
   "metadata": {},
   "outputs": [
    {
     "data": {
      "text/plain": [
       "2"
      ]
     },
     "execution_count": 289,
     "metadata": {},
     "output_type": "execute_result"
    }
   ],
   "source": [
    "mat.ndim"
   ]
  },
  {
   "cell_type": "code",
   "execution_count": 290,
   "metadata": {},
   "outputs": [],
   "source": [
    "vec=torch.tensor([1,2,3])"
   ]
  },
  {
   "cell_type": "code",
   "execution_count": 291,
   "metadata": {},
   "outputs": [
    {
     "data": {
      "text/plain": [
       "1"
      ]
     },
     "execution_count": 291,
     "metadata": {},
     "output_type": "execute_result"
    }
   ],
   "source": [
    "vec.ndim"
   ]
  },
  {
   "cell_type": "code",
   "execution_count": 292,
   "metadata": {},
   "outputs": [],
   "source": [
    "#scaler tensor 0\n",
    "#vector tensor 1\n",
    "#2-d array tensor 2"
   ]
  },
  {
   "cell_type": "code",
   "execution_count": 293,
   "metadata": {},
   "outputs": [
    {
     "data": {
      "text/plain": [
       "7"
      ]
     },
     "execution_count": 293,
     "metadata": {},
     "output_type": "execute_result"
    }
   ],
   "source": [
    "scaler.item()"
   ]
  },
  {
   "cell_type": "code",
   "execution_count": 294,
   "metadata": {},
   "outputs": [
    {
     "data": {
      "text/plain": [
       "tensor([[1, 2, 3],\n",
       "        [4, 5, 6]])"
      ]
     },
     "execution_count": 294,
     "metadata": {},
     "output_type": "execute_result"
    }
   ],
   "source": [
    "mat"
   ]
  },
  {
   "cell_type": "code",
   "execution_count": 295,
   "metadata": {},
   "outputs": [],
   "source": [
    "vector=torch.tensor([7,7])"
   ]
  },
  {
   "cell_type": "code",
   "execution_count": 296,
   "metadata": {},
   "outputs": [
    {
     "data": {
      "text/plain": [
       "tensor([7, 7])"
      ]
     },
     "execution_count": 296,
     "metadata": {},
     "output_type": "execute_result"
    }
   ],
   "source": [
    "vector"
   ]
  },
  {
   "cell_type": "code",
   "execution_count": 297,
   "metadata": {},
   "outputs": [
    {
     "data": {
      "text/plain": [
       "1"
      ]
     },
     "execution_count": 297,
     "metadata": {},
     "output_type": "execute_result"
    }
   ],
   "source": [
    "vector.ndim"
   ]
  },
  {
   "cell_type": "code",
   "execution_count": 298,
   "metadata": {},
   "outputs": [
    {
     "data": {
      "text/plain": [
       "2"
      ]
     },
     "execution_count": 298,
     "metadata": {},
     "output_type": "execute_result"
    }
   ],
   "source": [
    "mat.ndim"
   ]
  },
  {
   "cell_type": "code",
   "execution_count": 299,
   "metadata": {},
   "outputs": [
    {
     "data": {
      "text/plain": [
       "torch.Size([2])"
      ]
     },
     "execution_count": 299,
     "metadata": {},
     "output_type": "execute_result"
    }
   ],
   "source": [
    "vector.shape"
   ]
  },
  {
   "cell_type": "code",
   "execution_count": 300,
   "metadata": {},
   "outputs": [
    {
     "data": {
      "text/plain": [
       "torch.Size([2])"
      ]
     },
     "execution_count": 300,
     "metadata": {},
     "output_type": "execute_result"
    }
   ],
   "source": [
    "vector.size()"
   ]
  },
  {
   "cell_type": "code",
   "execution_count": 301,
   "metadata": {},
   "outputs": [
    {
     "data": {
      "text/plain": [
       "torch.Size([2, 3])"
      ]
     },
     "execution_count": 301,
     "metadata": {},
     "output_type": "execute_result"
    }
   ],
   "source": [
    "mat.size()"
   ]
  },
  {
   "cell_type": "code",
   "execution_count": 302,
   "metadata": {},
   "outputs": [
    {
     "data": {
      "text/plain": [
       "tensor([[1, 2, 3],\n",
       "        [4, 5, 6]])"
      ]
     },
     "execution_count": 302,
     "metadata": {},
     "output_type": "execute_result"
    }
   ],
   "source": [
    "mat"
   ]
  },
  {
   "cell_type": "code",
   "execution_count": 303,
   "metadata": {},
   "outputs": [
    {
     "data": {
      "text/plain": [
       "2"
      ]
     },
     "execution_count": 303,
     "metadata": {},
     "output_type": "execute_result"
    }
   ],
   "source": [
    "mat.ndim"
   ]
  },
  {
   "cell_type": "code",
   "execution_count": 304,
   "metadata": {},
   "outputs": [
    {
     "data": {
      "text/plain": [
       "tensor([1, 2, 3])"
      ]
     },
     "execution_count": 304,
     "metadata": {},
     "output_type": "execute_result"
    }
   ],
   "source": [
    "mat[0]"
   ]
  },
  {
   "cell_type": "code",
   "execution_count": 305,
   "metadata": {},
   "outputs": [
    {
     "data": {
      "text/plain": [
       "tensor(1)"
      ]
     },
     "execution_count": 305,
     "metadata": {},
     "output_type": "execute_result"
    }
   ],
   "source": [
    "mat[0][0]"
   ]
  },
  {
   "cell_type": "code",
   "execution_count": 306,
   "metadata": {},
   "outputs": [
    {
     "data": {
      "text/plain": [
       "tensor([4, 5, 6])"
      ]
     },
     "execution_count": 306,
     "metadata": {},
     "output_type": "execute_result"
    }
   ],
   "source": [
    "mat[1]"
   ]
  },
  {
   "cell_type": "code",
   "execution_count": 307,
   "metadata": {},
   "outputs": [
    {
     "data": {
      "text/plain": [
       "torch.Size([2, 3])"
      ]
     },
     "execution_count": 307,
     "metadata": {},
     "output_type": "execute_result"
    }
   ],
   "source": [
    "mat.shape"
   ]
  },
  {
   "cell_type": "code",
   "execution_count": 308,
   "metadata": {},
   "outputs": [
    {
     "data": {
      "text/plain": [
       "torch.Size([2, 3])"
      ]
     },
     "execution_count": 308,
     "metadata": {},
     "output_type": "execute_result"
    }
   ],
   "source": [
    "mat.size()"
   ]
  },
  {
   "cell_type": "code",
   "execution_count": 309,
   "metadata": {},
   "outputs": [
    {
     "data": {
      "text/plain": [
       "3"
      ]
     },
     "execution_count": 309,
     "metadata": {},
     "output_type": "execute_result"
    }
   ],
   "source": [
    "mat.shape[1]"
   ]
  },
  {
   "cell_type": "markdown",
   "metadata": {},
   "source": [
    "TENSOR=torch.tensor([[[1,2,3],[4,5,6]],[[7,8,9],[10,11,12]]]"
   ]
  },
  {
   "cell_type": "code",
   "execution_count": 310,
   "metadata": {},
   "outputs": [],
   "source": [
    "TENSOR=torch.tensor([[[1,2,3],[4,5,6]],[[7,8,9],[10,11,12]]])"
   ]
  },
  {
   "cell_type": "code",
   "execution_count": 311,
   "metadata": {},
   "outputs": [
    {
     "data": {
      "text/plain": [
       "tensor([[[ 1,  2,  3],\n",
       "         [ 4,  5,  6]],\n",
       "\n",
       "        [[ 7,  8,  9],\n",
       "         [10, 11, 12]]])"
      ]
     },
     "execution_count": 311,
     "metadata": {},
     "output_type": "execute_result"
    }
   ],
   "source": [
    "TENSOR\n"
   ]
  },
  {
   "cell_type": "code",
   "execution_count": 312,
   "metadata": {},
   "outputs": [
    {
     "data": {
      "text/plain": [
       "3"
      ]
     },
     "execution_count": 312,
     "metadata": {},
     "output_type": "execute_result"
    }
   ],
   "source": [
    "TENSOR.ndim"
   ]
  },
  {
   "cell_type": "code",
   "execution_count": 313,
   "metadata": {},
   "outputs": [
    {
     "data": {
      "text/plain": [
       "torch.Size([2, 2, 3])"
      ]
     },
     "execution_count": 313,
     "metadata": {},
     "output_type": "execute_result"
    }
   ],
   "source": [
    "TENSOR.shape"
   ]
  },
  {
   "cell_type": "code",
   "execution_count": 314,
   "metadata": {},
   "outputs": [
    {
     "data": {
      "text/plain": [
       "torch.Size([2, 2, 3])"
      ]
     },
     "execution_count": 314,
     "metadata": {},
     "output_type": "execute_result"
    }
   ],
   "source": [
    "TENSOR.size()"
   ]
  },
  {
   "cell_type": "code",
   "execution_count": 315,
   "metadata": {},
   "outputs": [
    {
     "data": {
      "text/plain": [
       "tensor([[1, 2, 3],\n",
       "        [4, 5, 6]])"
      ]
     },
     "execution_count": 315,
     "metadata": {},
     "output_type": "execute_result"
    }
   ],
   "source": [
    "TENSOR[0]"
   ]
  },
  {
   "cell_type": "code",
   "execution_count": 316,
   "metadata": {},
   "outputs": [
    {
     "data": {
      "text/plain": [
       "tensor([[ 7,  8,  9],\n",
       "        [10, 11, 12]])"
      ]
     },
     "execution_count": 316,
     "metadata": {},
     "output_type": "execute_result"
    }
   ],
   "source": [
    "TENSOR[1]"
   ]
  },
  {
   "cell_type": "code",
   "execution_count": 317,
   "metadata": {},
   "outputs": [
    {
     "data": {
      "text/plain": [
       "torch.Size([2, 2, 3])"
      ]
     },
     "execution_count": 317,
     "metadata": {},
     "output_type": "execute_result"
    }
   ],
   "source": [
    "TENSOR.shape"
   ]
  },
  {
   "cell_type": "code",
   "execution_count": 318,
   "metadata": {},
   "outputs": [],
   "source": [
    "#the above means two 2*3 matrices"
   ]
  },
  {
   "cell_type": "code",
   "execution_count": 319,
   "metadata": {},
   "outputs": [],
   "source": [
    "#now lets see about the generating the random values of the tensors"
   ]
  },
  {
   "cell_type": "code",
   "execution_count": 320,
   "metadata": {},
   "outputs": [
    {
     "data": {
      "text/plain": [
       "torch.Size([2, 2, 3])"
      ]
     },
     "execution_count": 320,
     "metadata": {},
     "output_type": "execute_result"
    }
   ],
   "source": [
    "TENSOR.shape"
   ]
  },
  {
   "cell_type": "code",
   "execution_count": 321,
   "metadata": {},
   "outputs": [],
   "source": [
    "#generally scalers and vectors will be a lower case and matrices and tensors will be the uppercase"
   ]
  },
  {
   "cell_type": "code",
   "execution_count": 322,
   "metadata": {},
   "outputs": [],
   "source": [
    "### Random tensors"
   ]
  },
  {
   "cell_type": "markdown",
   "metadata": {},
   "source": [
    "# random tensors were iportant were important as many neural networks learn from the random numbers and learn grom the data but they \n",
    "start with the random numbers and update them with the algorithm"
   ]
  },
  {
   "cell_type": "code",
   "execution_count": 323,
   "metadata": {},
   "outputs": [],
   "source": [
    "#random tensor of size(3,4)"
   ]
  },
  {
   "cell_type": "code",
   "execution_count": 324,
   "metadata": {},
   "outputs": [],
   "source": [
    "random=torch.rand(3,4)"
   ]
  },
  {
   "cell_type": "code",
   "execution_count": 325,
   "metadata": {},
   "outputs": [
    {
     "data": {
      "text/plain": [
       "tensor([[0.6136, 0.1320, 0.8664, 0.3894],\n",
       "        [0.9040, 0.0887, 0.1321, 0.8564],\n",
       "        [0.0961, 0.5731, 0.6608, 0.3004]])"
      ]
     },
     "execution_count": 325,
     "metadata": {},
     "output_type": "execute_result"
    }
   ],
   "source": [
    "random"
   ]
  },
  {
   "cell_type": "code",
   "execution_count": 326,
   "metadata": {},
   "outputs": [
    {
     "data": {
      "text/plain": [
       "2"
      ]
     },
     "execution_count": 326,
     "metadata": {},
     "output_type": "execute_result"
    }
   ],
   "source": [
    "random.ndim"
   ]
  },
  {
   "cell_type": "code",
   "execution_count": 327,
   "metadata": {},
   "outputs": [],
   "source": [
    "r=torch.rand(3)"
   ]
  },
  {
   "cell_type": "code",
   "execution_count": 328,
   "metadata": {},
   "outputs": [
    {
     "data": {
      "text/plain": [
       "tensor([0.2316, 0.5368, 0.0308])"
      ]
     },
     "execution_count": 328,
     "metadata": {},
     "output_type": "execute_result"
    }
   ],
   "source": [
    "r"
   ]
  },
  {
   "cell_type": "code",
   "execution_count": 329,
   "metadata": {},
   "outputs": [],
   "source": [
    "newrandom=torch.rand(2,10,10)"
   ]
  },
  {
   "cell_type": "raw",
   "metadata": {},
   "source": [
    "## new random number/\n"
   ]
  },
  {
   "cell_type": "code",
   "execution_count": 330,
   "metadata": {},
   "outputs": [
    {
     "data": {
      "text/plain": [
       "tensor([[[0.3717, 0.6046, 0.7810, 0.0023, 0.8277, 0.0889, 0.9467, 0.0772,\n",
       "          0.8502, 0.8531],\n",
       "         [0.8991, 0.7263, 0.9935, 0.9219, 0.7667, 0.1630, 0.0856, 0.5891,\n",
       "          0.5337, 0.8031],\n",
       "         [0.5445, 0.9997, 0.7697, 0.3436, 0.8464, 0.6840, 0.3217, 0.2759,\n",
       "          0.4334, 0.4113],\n",
       "         [0.8353, 0.9969, 0.1103, 0.9156, 0.6736, 0.0391, 0.1859, 0.5101,\n",
       "          0.1273, 0.5922],\n",
       "         [0.9661, 0.1492, 0.0962, 0.4636, 0.1296, 0.7746, 0.9879, 0.1383,\n",
       "          0.0390, 0.7328],\n",
       "         [0.9630, 0.7489, 0.1981, 0.0186, 0.1450, 0.1451, 0.8251, 0.7485,\n",
       "          0.4584, 0.2373],\n",
       "         [0.1528, 0.0331, 0.6045, 0.9392, 0.5624, 0.7881, 0.8526, 0.2943,\n",
       "          0.6342, 0.0275],\n",
       "         [0.5456, 0.1550, 0.2913, 0.2486, 0.0411, 0.4884, 0.5610, 0.1035,\n",
       "          0.7737, 0.4718],\n",
       "         [0.8943, 0.6459, 0.3928, 0.3313, 0.0974, 0.9121, 0.8725, 0.5708,\n",
       "          0.0857, 0.4971],\n",
       "         [0.7121, 0.3782, 0.7143, 0.5072, 0.1088, 0.2226, 0.2603, 0.7813,\n",
       "          0.2507, 0.1978]],\n",
       "\n",
       "        [[0.5900, 0.1909, 0.9067, 0.4381, 0.7433, 0.3704, 0.3487, 0.0298,\n",
       "          0.7430, 0.7628],\n",
       "         [0.2875, 0.3070, 0.0047, 0.4100, 0.5449, 0.2608, 0.2140, 0.8463,\n",
       "          0.5139, 0.1217],\n",
       "         [0.8437, 0.2854, 0.5203, 0.5098, 0.7572, 0.9466, 0.7866, 0.2843,\n",
       "          0.6412, 0.5362],\n",
       "         [0.3609, 0.3985, 0.2524, 0.9599, 0.4937, 0.4508, 0.5679, 0.3502,\n",
       "          0.5303, 0.6095],\n",
       "         [0.2427, 0.3185, 0.7202, 0.8762, 0.6177, 0.9831, 0.2464, 0.1137,\n",
       "          0.9620, 0.3837],\n",
       "         [0.0658, 0.1819, 0.6035, 0.6889, 0.6491, 0.0863, 0.5513, 0.1736,\n",
       "          0.6936, 0.3710],\n",
       "         [0.7228, 0.1273, 0.5737, 0.7135, 0.1280, 0.4591, 0.2107, 0.2722,\n",
       "          0.7349, 0.2077],\n",
       "         [0.7914, 0.1440, 0.0223, 0.0602, 0.2125, 0.4808, 0.2315, 0.6485,\n",
       "          0.7644, 0.7958],\n",
       "         [0.4702, 0.1615, 0.5989, 0.5237, 0.9013, 0.5310, 0.8301, 0.6580,\n",
       "          0.8043, 0.1256],\n",
       "         [0.0525, 0.5290, 0.2106, 0.4501, 0.5278, 0.6119, 0.6303, 0.3372,\n",
       "          0.0943, 0.9149]]])"
      ]
     },
     "execution_count": 330,
     "metadata": {},
     "output_type": "execute_result"
    }
   ],
   "source": [
    "newrandom"
   ]
  },
  {
   "cell_type": "code",
   "execution_count": 331,
   "metadata": {},
   "outputs": [],
   "source": [
    "sample=torch.rand(10,10,10)"
   ]
  },
  {
   "cell_type": "code",
   "execution_count": 332,
   "metadata": {},
   "outputs": [
    {
     "data": {
      "text/plain": [
       "tensor([[[0.9057, 0.4664, 0.9395, 0.5021, 0.2961, 0.4957, 0.8520, 0.3401,\n",
       "          0.8138, 0.7078],\n",
       "         [0.6235, 0.8360, 0.0319, 0.7396, 0.8296, 0.8726, 0.8173, 0.5973,\n",
       "          0.1076, 0.3808],\n",
       "         [0.0738, 0.6454, 0.9687, 0.4074, 0.4293, 0.0285, 0.8361, 0.2197,\n",
       "          0.3126, 0.8109],\n",
       "         [0.9779, 0.7424, 0.8669, 0.8943, 0.2463, 0.2349, 0.0498, 0.1509,\n",
       "          0.9356, 0.9287],\n",
       "         [0.1262, 0.5726, 0.0483, 0.4259, 0.1197, 0.3274, 0.5962, 0.9714,\n",
       "          0.6815, 0.3805],\n",
       "         [0.7871, 0.0935, 0.3780, 0.5288, 0.4239, 0.9332, 0.9839, 0.0786,\n",
       "          0.2516, 0.1746],\n",
       "         [0.2319, 0.1936, 0.6033, 0.4482, 0.1717, 0.1954, 0.2647, 0.9619,\n",
       "          0.0795, 0.5671],\n",
       "         [0.1858, 0.6446, 0.7674, 0.0036, 0.4691, 0.5173, 0.3366, 0.2621,\n",
       "          0.0301, 0.2511],\n",
       "         [0.8850, 0.3196, 0.3470, 0.5547, 0.3342, 0.6223, 0.6606, 0.4027,\n",
       "          0.0288, 0.2010],\n",
       "         [0.3704, 0.5217, 0.7292, 0.6191, 0.5180, 0.5715, 0.3418, 0.6439,\n",
       "          0.9970, 0.0993]],\n",
       "\n",
       "        [[0.5120, 0.3288, 0.3018, 0.0766, 0.9085, 0.4969, 0.7763, 0.2308,\n",
       "          0.8909, 0.8336],\n",
       "         [0.3756, 0.7955, 0.8011, 0.6678, 0.5866, 0.2092, 0.0348, 0.0713,\n",
       "          0.9607, 0.7814],\n",
       "         [0.9879, 0.7493, 0.9239, 0.9442, 0.4287, 0.2335, 0.6143, 0.8247,\n",
       "          0.2849, 0.1890],\n",
       "         [0.9245, 0.8733, 0.8045, 0.6797, 0.6353, 0.5404, 0.7294, 0.5123,\n",
       "          0.8615, 0.2067],\n",
       "         [0.7918, 0.4368, 0.0678, 0.7216, 0.7370, 0.4935, 0.8008, 0.9130,\n",
       "          0.8666, 0.4117],\n",
       "         [0.8719, 0.5714, 0.9766, 0.3506, 0.1197, 0.4569, 0.5480, 0.9790,\n",
       "          0.6950, 0.5289],\n",
       "         [0.1143, 0.4829, 0.8069, 0.1125, 0.7867, 0.9104, 0.2956, 0.5422,\n",
       "          0.8590, 0.0318],\n",
       "         [0.8737, 0.3694, 0.7167, 0.6383, 0.0996, 0.6641, 0.1831, 0.7801,\n",
       "          0.0149, 0.6838],\n",
       "         [0.1083, 0.8876, 0.3995, 0.4244, 0.4511, 0.3144, 0.9323, 0.8979,\n",
       "          0.8926, 0.1909],\n",
       "         [0.2381, 0.6040, 0.3479, 0.7858, 0.3539, 0.5805, 0.8936, 0.5126,\n",
       "          0.6394, 0.9154]],\n",
       "\n",
       "        [[0.1888, 0.7027, 0.8806, 0.3161, 0.3952, 0.6070, 0.1010, 0.7540,\n",
       "          0.6119, 0.7283],\n",
       "         [0.4589, 0.3539, 0.5300, 0.3524, 0.3918, 0.7867, 0.9468, 0.8310,\n",
       "          0.3087, 0.7508],\n",
       "         [0.7178, 0.3005, 0.2534, 0.5282, 0.3823, 0.4448, 0.2260, 0.5563,\n",
       "          0.4194, 0.5288],\n",
       "         [0.7377, 0.9734, 0.7847, 0.6204, 0.0356, 0.4465, 0.0285, 0.1037,\n",
       "          0.8383, 0.6934],\n",
       "         [0.7837, 0.7925, 0.2045, 0.1420, 0.7184, 0.2780, 0.2590, 0.9615,\n",
       "          0.0697, 0.6664],\n",
       "         [0.4329, 0.6686, 0.1016, 0.8686, 0.4563, 0.0064, 0.3222, 0.7750,\n",
       "          0.7430, 0.9010],\n",
       "         [0.1811, 0.8940, 0.3936, 0.9013, 0.4375, 0.7503, 0.6724, 0.4853,\n",
       "          0.0445, 0.9118],\n",
       "         [0.7298, 0.9637, 0.2858, 0.6908, 0.7368, 0.7688, 0.3625, 0.6144,\n",
       "          0.6098, 0.6533],\n",
       "         [0.7664, 0.9002, 0.2837, 0.0658, 0.4347, 0.3875, 0.9608, 0.6253,\n",
       "          0.3227, 0.1534],\n",
       "         [0.4324, 0.6666, 0.7621, 0.8693, 0.4634, 0.6919, 0.3746, 0.7418,\n",
       "          0.1101, 0.7325]],\n",
       "\n",
       "        [[0.8131, 0.3843, 0.8501, 0.0146, 0.7983, 0.2640, 0.3748, 0.6948,\n",
       "          0.5515, 0.4964],\n",
       "         [0.4519, 0.4309, 0.8175, 0.2481, 0.0406, 0.3015, 0.6652, 0.0261,\n",
       "          0.6099, 0.9913],\n",
       "         [0.0625, 0.3879, 0.5459, 0.6874, 0.0654, 0.5509, 0.9136, 0.4204,\n",
       "          0.5007, 0.6961],\n",
       "         [0.8857, 0.2351, 0.3087, 0.6388, 0.6240, 0.2943, 0.3368, 0.6367,\n",
       "          0.2954, 0.4223],\n",
       "         [0.2073, 0.5794, 0.6402, 0.1004, 0.7403, 0.7791, 0.2944, 0.7884,\n",
       "          0.2661, 0.7669],\n",
       "         [0.2018, 0.7461, 0.9732, 0.7053, 0.1283, 0.2337, 0.7631, 0.1768,\n",
       "          0.9529, 0.3509],\n",
       "         [0.7266, 0.5973, 0.9661, 0.5959, 0.8868, 0.9772, 0.3362, 0.0075,\n",
       "          0.2442, 0.8293],\n",
       "         [0.8511, 0.5921, 0.5817, 0.4353, 0.0576, 0.9270, 0.9620, 0.4494,\n",
       "          0.4473, 0.5672],\n",
       "         [0.3929, 0.3818, 0.4217, 0.5297, 0.4699, 0.1800, 0.5311, 0.2153,\n",
       "          0.0249, 0.6012],\n",
       "         [0.4426, 0.9483, 0.0629, 0.7885, 0.2820, 0.2732, 0.7590, 0.3846,\n",
       "          0.5307, 0.0803]],\n",
       "\n",
       "        [[0.9795, 0.1365, 0.2562, 0.7787, 0.3651, 0.2731, 0.0215, 0.1058,\n",
       "          0.6539, 0.6507],\n",
       "         [0.4847, 0.5234, 0.4082, 0.8127, 0.4563, 0.1379, 0.6003, 0.4443,\n",
       "          0.3601, 0.4811],\n",
       "         [0.8934, 0.5541, 0.1977, 0.7517, 0.1613, 0.2321, 0.2195, 0.3216,\n",
       "          0.6138, 0.8173],\n",
       "         [0.6016, 0.9327, 0.7921, 0.2288, 0.0827, 0.3505, 0.4429, 0.7052,\n",
       "          0.1885, 0.8394],\n",
       "         [0.7105, 0.6298, 0.6637, 0.9067, 0.2560, 0.5761, 0.1026, 0.1828,\n",
       "          0.8862, 0.1150],\n",
       "         [0.2834, 0.6467, 0.1419, 0.2771, 0.0395, 0.3068, 0.5317, 0.3870,\n",
       "          0.5586, 0.6513],\n",
       "         [0.5626, 0.1531, 0.3510, 0.6062, 0.9239, 0.5634, 0.8450, 0.7040,\n",
       "          0.2933, 0.1209],\n",
       "         [0.9484, 0.2594, 0.7357, 0.5750, 0.4184, 0.0828, 0.7796, 0.6885,\n",
       "          0.1615, 0.3070],\n",
       "         [0.9582, 0.4943, 0.3201, 0.6239, 0.1762, 0.1549, 0.2687, 0.5855,\n",
       "          0.8339, 0.5932],\n",
       "         [0.7442, 0.9638, 0.0862, 0.7039, 0.1129, 0.5459, 0.1977, 0.1983,\n",
       "          0.0952, 0.6355]],\n",
       "\n",
       "        [[0.5564, 0.9648, 0.4162, 0.9877, 0.3090, 0.3249, 0.8673, 0.7446,\n",
       "          0.0179, 0.5132],\n",
       "         [0.1618, 0.8359, 0.7268, 0.6597, 0.8788, 0.4935, 0.4093, 0.7066,\n",
       "          0.8221, 0.2061],\n",
       "         [0.7114, 0.0457, 0.4456, 0.9682, 0.3663, 0.3129, 0.4630, 0.2121,\n",
       "          0.3210, 0.4860],\n",
       "         [0.3555, 0.7710, 0.7569, 0.2336, 0.9444, 0.6699, 0.3710, 0.2719,\n",
       "          0.0626, 0.8619],\n",
       "         [0.9335, 0.5658, 0.6358, 0.2192, 0.5464, 0.8547, 0.3562, 0.2469,\n",
       "          0.9061, 0.2050],\n",
       "         [0.7696, 0.9103, 0.7540, 0.3111, 0.3268, 0.8609, 0.3559, 0.1182,\n",
       "          0.3736, 0.0784],\n",
       "         [0.8728, 0.1985, 0.8924, 0.8719, 0.7127, 0.8765, 0.9589, 0.4616,\n",
       "          0.2266, 0.2891],\n",
       "         [0.8403, 0.1069, 0.6638, 0.8769, 0.3547, 0.9029, 0.8194, 0.8226,\n",
       "          0.8308, 0.8942],\n",
       "         [0.8580, 0.5825, 0.1007, 0.0504, 0.9420, 0.0057, 0.0620, 0.8765,\n",
       "          0.1263, 0.9775],\n",
       "         [0.9884, 0.6326, 0.5528, 0.8392, 0.6513, 0.8290, 0.4008, 0.2943,\n",
       "          0.5818, 0.5785]],\n",
       "\n",
       "        [[0.6637, 0.6218, 0.9936, 0.3636, 0.6587, 0.9387, 0.4224, 0.6905,\n",
       "          0.0912, 0.2251],\n",
       "         [0.6060, 0.7362, 0.9590, 0.2785, 0.3230, 0.2774, 0.7931, 0.7690,\n",
       "          0.1560, 0.0300],\n",
       "         [0.7435, 0.0015, 0.7751, 0.1022, 0.6182, 0.1426, 0.8202, 0.5614,\n",
       "          0.3148, 0.1408],\n",
       "         [0.3470, 0.4157, 0.9218, 0.3813, 0.0661, 0.7245, 0.3793, 0.9266,\n",
       "          0.4387, 0.4604],\n",
       "         [0.5425, 0.0130, 0.8847, 0.0784, 0.2401, 0.1822, 0.9541, 0.6153,\n",
       "          0.4105, 0.0499],\n",
       "         [0.7531, 0.5586, 0.9025, 0.7964, 0.6008, 0.3297, 0.0291, 0.5093,\n",
       "          0.4509, 0.6153],\n",
       "         [0.9084, 0.5118, 0.7976, 0.1278, 0.9230, 0.1757, 0.1600, 0.2295,\n",
       "          0.3577, 0.9032],\n",
       "         [0.2545, 0.9808, 0.8624, 0.3603, 0.6981, 0.4376, 0.1549, 0.5300,\n",
       "          0.0595, 0.3798],\n",
       "         [0.5097, 0.3273, 0.2968, 0.1036, 0.4134, 0.5878, 0.4069, 0.3149,\n",
       "          0.2470, 0.8782],\n",
       "         [0.3406, 0.3001, 0.2214, 0.7215, 0.0649, 0.6663, 0.8626, 0.0542,\n",
       "          0.1977, 0.7177]],\n",
       "\n",
       "        [[0.7440, 0.9029, 0.5946, 0.0693, 0.0616, 0.5802, 0.1756, 0.2461,\n",
       "          0.9552, 0.4113],\n",
       "         [0.5776, 0.7876, 0.8325, 0.3196, 0.2669, 0.9461, 0.5287, 0.2255,\n",
       "          0.3689, 0.1393],\n",
       "         [0.5801, 0.0811, 0.7099, 0.4118, 0.1693, 0.1669, 0.0736, 0.5951,\n",
       "          0.0308, 0.8713],\n",
       "         [0.1463, 0.1514, 0.7761, 0.2054, 0.6037, 0.3712, 0.3496, 0.9281,\n",
       "          0.7882, 0.3546],\n",
       "         [0.9629, 0.1024, 0.4153, 0.7286, 0.2672, 0.6739, 0.2523, 0.0248,\n",
       "          0.1538, 0.1627],\n",
       "         [0.7232, 0.0646, 0.6281, 0.8665, 0.4795, 0.4599, 0.3227, 0.0250,\n",
       "          0.4298, 0.1948],\n",
       "         [0.6861, 0.0212, 0.0661, 0.8154, 0.9661, 0.9729, 0.8278, 0.9217,\n",
       "          0.1260, 0.3095],\n",
       "         [0.2767, 0.7820, 0.4376, 0.5079, 0.9421, 0.0048, 0.5149, 0.3477,\n",
       "          0.9616, 0.1290],\n",
       "         [0.1294, 0.3624, 0.4754, 0.6317, 0.1276, 0.2244, 0.3097, 0.2589,\n",
       "          0.6943, 0.4060],\n",
       "         [0.3847, 0.0492, 0.2646, 0.9275, 0.1945, 0.2267, 0.7911, 0.8924,\n",
       "          0.1978, 0.9812]],\n",
       "\n",
       "        [[0.3046, 0.5887, 0.3524, 0.3038, 0.1575, 0.0817, 0.8148, 0.4139,\n",
       "          0.1837, 0.4531],\n",
       "         [0.0842, 0.1006, 0.3962, 0.2246, 0.4716, 0.2665, 0.2465, 0.4725,\n",
       "          0.8532, 0.0595],\n",
       "         [0.3625, 0.5003, 0.2978, 0.0859, 0.0295, 0.8506, 0.6697, 0.6379,\n",
       "          0.0745, 0.0842],\n",
       "         [0.9091, 0.1071, 0.1338, 0.1197, 0.3005, 0.9071, 0.9983, 0.8955,\n",
       "          0.1125, 0.8045],\n",
       "         [0.7185, 0.5742, 0.4511, 0.6536, 0.6016, 0.3215, 0.5099, 0.5295,\n",
       "          0.2771, 0.7853],\n",
       "         [0.1610, 0.6116, 0.5491, 0.5635, 0.6376, 0.4924, 0.6906, 0.7183,\n",
       "          0.8111, 0.2520],\n",
       "         [0.2132, 0.5019, 0.2231, 0.6483, 0.4076, 0.3630, 0.8695, 0.5465,\n",
       "          0.4623, 0.0067],\n",
       "         [0.1411, 0.4514, 0.6633, 0.3539, 0.5915, 0.7512, 0.9109, 0.9351,\n",
       "          0.4914, 0.3091],\n",
       "         [0.4156, 0.7924, 0.5429, 0.7698, 0.3397, 0.5841, 0.8174, 0.8874,\n",
       "          0.8205, 0.2261],\n",
       "         [0.8409, 0.1356, 0.5772, 0.5377, 0.4568, 0.1740, 0.2943, 0.9471,\n",
       "          0.2874, 0.4417]],\n",
       "\n",
       "        [[0.9621, 0.9562, 0.1276, 0.8717, 0.2278, 0.7617, 0.3944, 0.6523,\n",
       "          0.0297, 0.2789],\n",
       "         [0.1944, 0.4965, 0.3474, 0.2297, 0.2193, 0.9612, 0.2535, 0.5284,\n",
       "          0.3873, 0.4116],\n",
       "         [0.3119, 0.4248, 0.9780, 0.4029, 0.9215, 0.7399, 0.7260, 0.1050,\n",
       "          0.7840, 0.4025],\n",
       "         [0.2020, 0.4605, 0.7463, 0.3371, 0.0114, 0.2338, 0.3576, 0.0483,\n",
       "          0.8116, 0.9298],\n",
       "         [0.6978, 0.0492, 0.4992, 0.8137, 0.2120, 0.3996, 0.3505, 0.0974,\n",
       "          0.6065, 0.3318],\n",
       "         [0.7040, 0.1585, 0.1375, 0.9427, 0.9160, 0.9040, 0.0154, 0.2693,\n",
       "          0.7499, 0.2435],\n",
       "         [0.9004, 0.6685, 0.8101, 0.4402, 0.9083, 0.4775, 0.0650, 0.4839,\n",
       "          0.0611, 0.9908],\n",
       "         [0.8719, 0.2261, 0.2308, 0.7678, 0.9179, 0.5856, 0.7291, 0.6807,\n",
       "          0.8818, 0.2918],\n",
       "         [0.5758, 0.2046, 0.2182, 0.7152, 0.1729, 0.2283, 0.8184, 0.3643,\n",
       "          0.7661, 0.4940],\n",
       "         [0.1356, 0.2505, 0.9813, 0.3912, 0.2252, 0.3402, 0.9931, 0.8038,\n",
       "          0.6684, 0.1210]]])"
      ]
     },
     "execution_count": 332,
     "metadata": {},
     "output_type": "execute_result"
    }
   ],
   "source": [
    "sample"
   ]
  },
  {
   "cell_type": "code",
   "execution_count": 333,
   "metadata": {},
   "outputs": [
    {
     "data": {
      "text/plain": [
       "3"
      ]
     },
     "execution_count": 333,
     "metadata": {},
     "output_type": "execute_result"
    }
   ],
   "source": [
    "sample.ndim"
   ]
  },
  {
   "cell_type": "code",
   "execution_count": 334,
   "metadata": {},
   "outputs": [
    {
     "data": {
      "text/plain": [
       "tensor([[0.6136, 0.1320, 0.8664, 0.3894],\n",
       "        [0.9040, 0.0887, 0.1321, 0.8564],\n",
       "        [0.0961, 0.5731, 0.6608, 0.3004]])"
      ]
     },
     "execution_count": 334,
     "metadata": {},
     "output_type": "execute_result"
    }
   ],
   "source": [
    "random"
   ]
  },
  {
   "cell_type": "code",
   "execution_count": 335,
   "metadata": {},
   "outputs": [],
   "source": [
    "# random tensor similar to image tensor"
   ]
  },
  {
   "cell_type": "code",
   "execution_count": 336,
   "metadata": {},
   "outputs": [],
   "source": [
    "random_img=torch.rand(size=(3,224,224))  #colorchannel,height,width"
   ]
  },
  {
   "cell_type": "code",
   "execution_count": 337,
   "metadata": {},
   "outputs": [
    {
     "data": {
      "text/plain": [
       "torch.Size([3, 224, 224])"
      ]
     },
     "execution_count": 337,
     "metadata": {},
     "output_type": "execute_result"
    }
   ],
   "source": [
    "random_img.shape"
   ]
  },
  {
   "cell_type": "code",
   "execution_count": 338,
   "metadata": {},
   "outputs": [],
   "source": [
    "#we have the color channel wil have the 3rd dimention "
   ]
  },
  {
   "cell_type": "markdown",
   "metadata": {},
   "source": [
    "### The random numbers in the pytorch was more important as the neural network were initiated with the random numbers and then updated with respect to the algorithm\n",
    "\n",
    "`torch.rand(size=(z,x,y))`"
   ]
  },
  {
   "cell_type": "code",
   "execution_count": 339,
   "metadata": {},
   "outputs": [],
   "source": [
    "s=torch.rand(100,100,10000)"
   ]
  },
  {
   "cell_type": "code",
   "execution_count": 340,
   "metadata": {},
   "outputs": [
    {
     "data": {
      "text/plain": [
       "3"
      ]
     },
     "execution_count": 340,
     "metadata": {},
     "output_type": "execute_result"
    }
   ],
   "source": [
    "s.ndim"
   ]
  },
  {
   "cell_type": "code",
   "execution_count": 341,
   "metadata": {},
   "outputs": [
    {
     "data": {
      "text/plain": [
       "torch.Size([100, 100, 10000])"
      ]
     },
     "execution_count": 341,
     "metadata": {},
     "output_type": "execute_result"
    }
   ],
   "source": [
    "s.shape"
   ]
  },
  {
   "cell_type": "code",
   "execution_count": 342,
   "metadata": {},
   "outputs": [],
   "source": [
    "zero=torch.zeros(3,4)"
   ]
  },
  {
   "cell_type": "code",
   "execution_count": 343,
   "metadata": {},
   "outputs": [
    {
     "data": {
      "text/plain": [
       "tensor([[0., 0., 0., 0.],\n",
       "        [0., 0., 0., 0.],\n",
       "        [0., 0., 0., 0.]])"
      ]
     },
     "execution_count": 343,
     "metadata": {},
     "output_type": "execute_result"
    }
   ],
   "source": [
    "zero"
   ]
  },
  {
   "cell_type": "code",
   "execution_count": 344,
   "metadata": {},
   "outputs": [],
   "source": [
    "r=torch.rand(3,4)"
   ]
  },
  {
   "cell_type": "code",
   "execution_count": 345,
   "metadata": {},
   "outputs": [
    {
     "data": {
      "text/plain": [
       "tensor([[0., 0., 0., 0.],\n",
       "        [0., 0., 0., 0.],\n",
       "        [0., 0., 0., 0.]])"
      ]
     },
     "execution_count": 345,
     "metadata": {},
     "output_type": "execute_result"
    }
   ],
   "source": [
    "zero*r"
   ]
  },
  {
   "cell_type": "code",
   "execution_count": 346,
   "metadata": {},
   "outputs": [
    {
     "data": {
      "text/plain": [
       "2"
      ]
     },
     "execution_count": 346,
     "metadata": {},
     "output_type": "execute_result"
    }
   ],
   "source": [
    "zero.ndim\n"
   ]
  },
  {
   "cell_type": "code",
   "execution_count": 347,
   "metadata": {},
   "outputs": [],
   "source": [
    "ones=torch.ones(3,4)"
   ]
  },
  {
   "cell_type": "code",
   "execution_count": 348,
   "metadata": {},
   "outputs": [
    {
     "data": {
      "text/plain": [
       "tensor([[0.0439, 0.0209, 0.3203, 0.1588],\n",
       "        [0.5573, 0.4523, 0.2868, 0.4426],\n",
       "        [0.8248, 0.6880, 0.4113, 0.6498]])"
      ]
     },
     "execution_count": 348,
     "metadata": {},
     "output_type": "execute_result"
    }
   ],
   "source": [
    "ones*r"
   ]
  },
  {
   "cell_type": "code",
   "execution_count": 349,
   "metadata": {},
   "outputs": [
    {
     "data": {
      "text/plain": [
       "torch.float32"
      ]
     },
     "execution_count": 349,
     "metadata": {},
     "output_type": "execute_result"
    }
   ],
   "source": [
    "ones.dtype"
   ]
  },
  {
   "cell_type": "code",
   "execution_count": 350,
   "metadata": {},
   "outputs": [
    {
     "data": {
      "text/plain": [
       "torch.float32"
      ]
     },
     "execution_count": 350,
     "metadata": {},
     "output_type": "execute_result"
    }
   ],
   "source": [
    "ones.dtype"
   ]
  },
  {
   "cell_type": "code",
   "execution_count": 351,
   "metadata": {},
   "outputs": [],
   "source": [
    "# we can create the random values in many ways but rand() was most common way"
   ]
  },
  {
   "cell_type": "code",
   "execution_count": 352,
   "metadata": {},
   "outputs": [],
   "source": [
    "#tensors in a range()"
   ]
  },
  {
   "cell_type": "code",
   "execution_count": 353,
   "metadata": {},
   "outputs": [],
   "source": [
    "ran=torch.rand(300,100,100)"
   ]
  },
  {
   "cell_type": "code",
   "execution_count": 354,
   "metadata": {},
   "outputs": [
    {
     "data": {
      "text/plain": [
       "tensor(2)"
      ]
     },
     "execution_count": 354,
     "metadata": {},
     "output_type": "execute_result"
    }
   ],
   "source": [
    "torch.tensor(2)"
   ]
  },
  {
   "cell_type": "code",
   "execution_count": 355,
   "metadata": {},
   "outputs": [
    {
     "data": {
      "text/plain": [
       "torch.Size([3])"
      ]
     },
     "execution_count": 355,
     "metadata": {},
     "output_type": "execute_result"
    }
   ],
   "source": [
    "torch.tensor([1,2,3]).shape"
   ]
  },
  {
   "cell_type": "code",
   "execution_count": 356,
   "metadata": {},
   "outputs": [],
   "source": [
    "### create a range of tensors and tensor-like"
   ]
  },
  {
   "cell_type": "code",
   "execution_count": 357,
   "metadata": {},
   "outputs": [
    {
     "name": "stderr",
     "output_type": "stream",
     "text": [
      "/var/folders/4m/q_kqcf711rs2gm0dt1z3kv3w0000gn/T/ipykernel_8139/3470486478.py:1: UserWarning: torch.range is deprecated and will be removed in a future release because its behavior is inconsistent with Python's range builtin. Instead, use torch.arange, which produces values in [start, end).\n",
      "  torch.range(1,100,1)\n"
     ]
    },
    {
     "data": {
      "text/plain": [
       "tensor([  1.,   2.,   3.,   4.,   5.,   6.,   7.,   8.,   9.,  10.,  11.,  12.,\n",
       "         13.,  14.,  15.,  16.,  17.,  18.,  19.,  20.,  21.,  22.,  23.,  24.,\n",
       "         25.,  26.,  27.,  28.,  29.,  30.,  31.,  32.,  33.,  34.,  35.,  36.,\n",
       "         37.,  38.,  39.,  40.,  41.,  42.,  43.,  44.,  45.,  46.,  47.,  48.,\n",
       "         49.,  50.,  51.,  52.,  53.,  54.,  55.,  56.,  57.,  58.,  59.,  60.,\n",
       "         61.,  62.,  63.,  64.,  65.,  66.,  67.,  68.,  69.,  70.,  71.,  72.,\n",
       "         73.,  74.,  75.,  76.,  77.,  78.,  79.,  80.,  81.,  82.,  83.,  84.,\n",
       "         85.,  86.,  87.,  88.,  89.,  90.,  91.,  92.,  93.,  94.,  95.,  96.,\n",
       "         97.,  98.,  99., 100.])"
      ]
     },
     "execution_count": 357,
     "metadata": {},
     "output_type": "execute_result"
    }
   ],
   "source": [
    "torch.range(1,100,1)\n",
    "# as the range as not available with the pytorch anymore use the arange which is similar to "
   ]
  },
  {
   "cell_type": "code",
   "execution_count": 358,
   "metadata": {},
   "outputs": [],
   "source": [
    "a=torch.arange(1,100,1)"
   ]
  },
  {
   "cell_type": "code",
   "execution_count": 359,
   "metadata": {},
   "outputs": [
    {
     "data": {
      "text/plain": [
       "torch.Size([99])"
      ]
     },
     "execution_count": 359,
     "metadata": {},
     "output_type": "execute_result"
    }
   ],
   "source": [
    "a.shape"
   ]
  },
  {
   "cell_type": "code",
   "execution_count": 360,
   "metadata": {},
   "outputs": [
    {
     "data": {
      "text/plain": [
       "torch.Size([99])"
      ]
     },
     "execution_count": 360,
     "metadata": {},
     "output_type": "execute_result"
    }
   ],
   "source": [
    "a.size()"
   ]
  },
  {
   "cell_type": "code",
   "execution_count": 361,
   "metadata": {},
   "outputs": [
    {
     "data": {
      "text/plain": [
       "1"
      ]
     },
     "execution_count": 361,
     "metadata": {},
     "output_type": "execute_result"
    }
   ],
   "source": [
    "a.ndim"
   ]
  },
  {
   "cell_type": "code",
   "execution_count": 362,
   "metadata": {},
   "outputs": [
    {
     "data": {
      "text/plain": [
       "torch.int64"
      ]
     },
     "execution_count": 362,
     "metadata": {},
     "output_type": "execute_result"
    }
   ],
   "source": [
    "a.dtype"
   ]
  },
  {
   "cell_type": "code",
   "execution_count": 363,
   "metadata": {},
   "outputs": [],
   "source": [
    "one_to_ten=torch.arange(1,11,1)"
   ]
  },
  {
   "cell_type": "code",
   "execution_count": 364,
   "metadata": {},
   "outputs": [
    {
     "data": {
      "text/plain": [
       "tensor([  0,  77, 154, 231, 308, 385, 462, 539, 616, 693, 770, 847, 924])"
      ]
     },
     "execution_count": 364,
     "metadata": {},
     "output_type": "execute_result"
    }
   ],
   "source": [
    "torch.arange(0,1000,77)"
   ]
  },
  {
   "cell_type": "code",
   "execution_count": 365,
   "metadata": {},
   "outputs": [],
   "source": [
    "#to be more specific we can use the folllowing use case"
   ]
  },
  {
   "cell_type": "code",
   "execution_count": 366,
   "metadata": {},
   "outputs": [
    {
     "data": {
      "text/plain": [
       "tensor([  1,   2,   3,   4,   5,   6,   7,   8,   9,  10,  11,  12,  13,  14,\n",
       "         15,  16,  17,  18,  19,  20,  21,  22,  23,  24,  25,  26,  27,  28,\n",
       "         29,  30,  31,  32,  33,  34,  35,  36,  37,  38,  39,  40,  41,  42,\n",
       "         43,  44,  45,  46,  47,  48,  49,  50,  51,  52,  53,  54,  55,  56,\n",
       "         57,  58,  59,  60,  61,  62,  63,  64,  65,  66,  67,  68,  69,  70,\n",
       "         71,  72,  73,  74,  75,  76,  77,  78,  79,  80,  81,  82,  83,  84,\n",
       "         85,  86,  87,  88,  89,  90,  91,  92,  93,  94,  95,  96,  97,  98,\n",
       "         99, 100, 101, 102, 103, 104, 105, 106, 107, 108, 109, 110, 111, 112,\n",
       "        113, 114, 115, 116, 117, 118, 119, 120, 121, 122, 123, 124, 125, 126,\n",
       "        127, 128, 129, 130, 131, 132, 133, 134, 135, 136, 137, 138, 139, 140,\n",
       "        141, 142, 143, 144, 145, 146, 147, 148, 149, 150, 151, 152, 153, 154,\n",
       "        155, 156, 157, 158, 159, 160, 161, 162, 163, 164, 165, 166, 167, 168,\n",
       "        169, 170, 171, 172, 173, 174, 175, 176, 177, 178, 179, 180, 181, 182,\n",
       "        183, 184, 185, 186, 187, 188, 189, 190, 191, 192, 193, 194, 195, 196,\n",
       "        197, 198, 199, 200, 201, 202, 203, 204, 205, 206, 207, 208, 209, 210,\n",
       "        211, 212, 213, 214, 215, 216, 217, 218, 219, 220, 221, 222, 223, 224,\n",
       "        225, 226, 227, 228, 229, 230, 231, 232, 233, 234, 235, 236, 237, 238,\n",
       "        239, 240, 241, 242, 243, 244, 245, 246, 247, 248, 249, 250, 251, 252,\n",
       "        253, 254, 255, 256, 257, 258, 259, 260, 261, 262, 263, 264, 265, 266,\n",
       "        267, 268, 269, 270, 271, 272, 273, 274, 275, 276, 277, 278, 279, 280,\n",
       "        281, 282, 283, 284, 285, 286, 287, 288, 289, 290, 291, 292, 293, 294,\n",
       "        295, 296, 297, 298, 299, 300, 301, 302, 303, 304, 305, 306, 307, 308,\n",
       "        309, 310, 311, 312, 313, 314, 315, 316, 317, 318, 319, 320, 321, 322,\n",
       "        323, 324, 325, 326, 327, 328, 329, 330, 331, 332, 333, 334, 335, 336,\n",
       "        337, 338, 339, 340, 341, 342, 343, 344, 345, 346, 347, 348, 349, 350,\n",
       "        351, 352, 353, 354, 355, 356, 357, 358, 359, 360, 361, 362, 363, 364,\n",
       "        365, 366, 367, 368, 369, 370, 371, 372, 373, 374, 375, 376, 377, 378,\n",
       "        379, 380, 381, 382, 383, 384, 385, 386, 387, 388, 389, 390, 391, 392,\n",
       "        393, 394, 395, 396, 397, 398, 399, 400, 401, 402, 403, 404, 405, 406,\n",
       "        407, 408, 409, 410, 411, 412, 413, 414, 415, 416, 417, 418, 419, 420,\n",
       "        421, 422, 423, 424, 425, 426, 427, 428, 429, 430, 431, 432, 433, 434,\n",
       "        435, 436, 437, 438, 439, 440, 441, 442, 443, 444, 445, 446, 447, 448,\n",
       "        449, 450, 451, 452, 453, 454, 455, 456, 457, 458, 459, 460, 461, 462,\n",
       "        463, 464, 465, 466, 467, 468, 469, 470, 471, 472, 473, 474, 475, 476,\n",
       "        477, 478, 479, 480, 481, 482, 483, 484, 485, 486, 487, 488, 489, 490,\n",
       "        491, 492, 493, 494, 495, 496, 497, 498, 499, 500, 501, 502, 503, 504,\n",
       "        505, 506, 507, 508, 509, 510, 511, 512, 513, 514, 515, 516, 517, 518,\n",
       "        519, 520, 521, 522, 523, 524, 525, 526, 527, 528, 529, 530, 531, 532,\n",
       "        533, 534, 535, 536, 537, 538, 539, 540, 541, 542, 543, 544, 545, 546,\n",
       "        547, 548, 549, 550, 551, 552, 553, 554, 555, 556, 557, 558, 559, 560,\n",
       "        561, 562, 563, 564, 565, 566, 567, 568, 569, 570, 571, 572, 573, 574,\n",
       "        575, 576, 577, 578, 579, 580, 581, 582, 583, 584, 585, 586, 587, 588,\n",
       "        589, 590, 591, 592, 593, 594, 595, 596, 597, 598, 599, 600, 601, 602,\n",
       "        603, 604, 605, 606, 607, 608, 609, 610, 611, 612, 613, 614, 615, 616,\n",
       "        617, 618, 619, 620, 621, 622, 623, 624, 625, 626, 627, 628, 629, 630,\n",
       "        631, 632, 633, 634, 635, 636, 637, 638, 639, 640, 641, 642, 643, 644,\n",
       "        645, 646, 647, 648, 649, 650, 651, 652, 653, 654, 655, 656, 657, 658,\n",
       "        659, 660, 661, 662, 663, 664, 665, 666, 667, 668, 669, 670, 671, 672,\n",
       "        673, 674, 675, 676, 677, 678, 679, 680, 681, 682, 683, 684, 685, 686,\n",
       "        687, 688, 689, 690, 691, 692, 693, 694, 695, 696, 697, 698, 699, 700,\n",
       "        701, 702, 703, 704, 705, 706, 707, 708, 709, 710, 711, 712, 713, 714,\n",
       "        715, 716, 717, 718, 719, 720, 721, 722, 723, 724, 725, 726, 727, 728,\n",
       "        729, 730, 731, 732, 733, 734, 735, 736, 737, 738, 739, 740, 741, 742,\n",
       "        743, 744, 745, 746, 747, 748, 749, 750, 751, 752, 753, 754, 755, 756,\n",
       "        757, 758, 759, 760, 761, 762, 763, 764, 765, 766, 767, 768, 769, 770,\n",
       "        771, 772, 773, 774, 775, 776, 777, 778, 779, 780, 781, 782, 783, 784,\n",
       "        785, 786, 787, 788, 789, 790, 791, 792, 793, 794, 795, 796, 797, 798,\n",
       "        799, 800, 801, 802, 803, 804, 805, 806, 807, 808, 809, 810, 811, 812,\n",
       "        813, 814, 815, 816, 817, 818, 819, 820, 821, 822, 823, 824, 825, 826,\n",
       "        827, 828, 829, 830, 831, 832, 833, 834, 835, 836, 837, 838, 839, 840,\n",
       "        841, 842, 843, 844, 845, 846, 847, 848, 849, 850, 851, 852, 853, 854,\n",
       "        855, 856, 857, 858, 859, 860, 861, 862, 863, 864, 865, 866, 867, 868,\n",
       "        869, 870, 871, 872, 873, 874, 875, 876, 877, 878, 879, 880, 881, 882,\n",
       "        883, 884, 885, 886, 887, 888, 889, 890, 891, 892, 893, 894, 895, 896,\n",
       "        897, 898, 899, 900, 901, 902, 903, 904, 905, 906, 907, 908, 909, 910,\n",
       "        911, 912, 913, 914, 915, 916, 917, 918, 919, 920, 921, 922, 923, 924,\n",
       "        925, 926, 927, 928, 929, 930, 931, 932, 933, 934, 935, 936, 937, 938,\n",
       "        939, 940, 941, 942, 943, 944, 945, 946, 947, 948, 949, 950, 951, 952,\n",
       "        953, 954, 955, 956, 957, 958, 959, 960, 961, 962, 963, 964, 965, 966,\n",
       "        967, 968, 969, 970, 971, 972, 973, 974, 975, 976, 977, 978, 979, 980,\n",
       "        981, 982, 983, 984, 985, 986, 987, 988, 989, 990, 991, 992, 993, 994,\n",
       "        995, 996, 997, 998, 999])"
      ]
     },
     "execution_count": 366,
     "metadata": {},
     "output_type": "execute_result"
    }
   ],
   "source": [
    "torch.arange(start=1,end=1000,step=1)"
   ]
  },
  {
   "cell_type": "code",
   "execution_count": 367,
   "metadata": {},
   "outputs": [
    {
     "data": {
      "text/plain": [
       "'2.4.1'"
      ]
     },
     "execution_count": 367,
     "metadata": {},
     "output_type": "execute_result"
    }
   ],
   "source": [
    "torch.__version__"
   ]
  },
  {
   "cell_type": "code",
   "execution_count": 368,
   "metadata": {},
   "outputs": [],
   "source": [
    "#tensors like"
   ]
  },
  {
   "cell_type": "code",
   "execution_count": 369,
   "metadata": {},
   "outputs": [
    {
     "data": {
      "text/plain": [
       "tensor([ 1,  2,  3,  4,  5,  6,  7,  8,  9, 10])"
      ]
     },
     "execution_count": 369,
     "metadata": {},
     "output_type": "execute_result"
    }
   ],
   "source": [
    "one_to_ten"
   ]
  },
  {
   "cell_type": "code",
   "execution_count": 370,
   "metadata": {},
   "outputs": [],
   "source": [
    "ten=torch.zeros_like(one_to_ten)"
   ]
  },
  {
   "cell_type": "code",
   "execution_count": 371,
   "metadata": {},
   "outputs": [
    {
     "data": {
      "text/plain": [
       "tensor([0, 0, 0, 0, 0, 0, 0, 0, 0, 0])"
      ]
     },
     "execution_count": 371,
     "metadata": {},
     "output_type": "execute_result"
    }
   ],
   "source": [
    "ten"
   ]
  },
  {
   "cell_type": "code",
   "execution_count": 372,
   "metadata": {},
   "outputs": [],
   "source": [
    "ones=torch.ones_like(random)"
   ]
  },
  {
   "cell_type": "code",
   "execution_count": 373,
   "metadata": {},
   "outputs": [
    {
     "data": {
      "text/plain": [
       "tensor([[1., 1., 1., 1.],\n",
       "        [1., 1., 1., 1.],\n",
       "        [1., 1., 1., 1.]])"
      ]
     },
     "execution_count": 373,
     "metadata": {},
     "output_type": "execute_result"
    }
   ],
   "source": [
    "ones"
   ]
  },
  {
   "cell_type": "code",
   "execution_count": 374,
   "metadata": {},
   "outputs": [
    {
     "data": {
      "text/plain": [
       "torch.float32"
      ]
     },
     "execution_count": 374,
     "metadata": {},
     "output_type": "execute_result"
    }
   ],
   "source": [
    "ones.dtype"
   ]
  },
  {
   "cell_type": "code",
   "execution_count": 375,
   "metadata": {},
   "outputs": [],
   "source": [
    "# default dtype id float32"
   ]
  },
  {
   "cell_type": "code",
   "execution_count": 376,
   "metadata": {},
   "outputs": [],
   "source": [
    "### tensor datatypes"
   ]
  },
  {
   "cell_type": "code",
   "execution_count": 377,
   "metadata": {},
   "outputs": [],
   "source": [
    "#float tensors "
   ]
  },
  {
   "cell_type": "code",
   "execution_count": 378,
   "metadata": {},
   "outputs": [],
   "source": [
    "float32=torch.tensor([3.0,2.9,5.6],dtype=None)"
   ]
  },
  {
   "cell_type": "code",
   "execution_count": 379,
   "metadata": {},
   "outputs": [
    {
     "data": {
      "text/plain": [
       "tensor([3.0000, 2.9000, 5.6000])"
      ]
     },
     "execution_count": 379,
     "metadata": {},
     "output_type": "execute_result"
    }
   ],
   "source": [
    "float32"
   ]
  },
  {
   "cell_type": "code",
   "execution_count": 380,
   "metadata": {},
   "outputs": [
    {
     "data": {
      "text/plain": [
       "torch.float32"
      ]
     },
     "execution_count": 380,
     "metadata": {},
     "output_type": "execute_result"
    }
   ],
   "source": [
    "float32.dtype"
   ]
  },
  {
   "cell_type": "code",
   "execution_count": 381,
   "metadata": {},
   "outputs": [],
   "source": [
    "#default datatype was float32"
   ]
  },
  {
   "cell_type": "code",
   "execution_count": 382,
   "metadata": {},
   "outputs": [],
   "source": [
    "float2=torch.tensor([1.0,2.4,3.9,5],dtype=torch.float16)"
   ]
  },
  {
   "cell_type": "code",
   "execution_count": 383,
   "metadata": {},
   "outputs": [
    {
     "data": {
      "text/plain": [
       "tensor([1.0000, 2.4004, 3.9004, 5.0000], dtype=torch.float16)"
      ]
     },
     "execution_count": 383,
     "metadata": {},
     "output_type": "execute_result"
    }
   ],
   "source": [
    "float2"
   ]
  },
  {
   "cell_type": "code",
   "execution_count": 384,
   "metadata": {},
   "outputs": [
    {
     "data": {
      "text/plain": [
       "torch.float16"
      ]
     },
     "execution_count": 384,
     "metadata": {},
     "output_type": "execute_result"
    }
   ],
   "source": [
    "float2.dtype"
   ]
  },
  {
   "cell_type": "code",
   "execution_count": 385,
   "metadata": {},
   "outputs": [],
   "source": [
    "int3=torch.tensor([1,2,4.5],dtype=torch.int32)"
   ]
  },
  {
   "cell_type": "code",
   "execution_count": 386,
   "metadata": {},
   "outputs": [
    {
     "data": {
      "text/plain": [
       "tensor([1, 2, 4], dtype=torch.int32)"
      ]
     },
     "execution_count": 386,
     "metadata": {},
     "output_type": "execute_result"
    }
   ],
   "source": [
    "int3"
   ]
  },
  {
   "cell_type": "code",
   "execution_count": 387,
   "metadata": {},
   "outputs": [],
   "source": [
    "data=torch.tensor([3.0,6.0,9.0],dtype=None,device=None,requires_grad=False)"
   ]
  },
  {
   "cell_type": "code",
   "execution_count": 388,
   "metadata": {},
   "outputs": [
    {
     "data": {
      "text/plain": [
       "tensor([3., 6., 9.])"
      ]
     },
     "execution_count": 388,
     "metadata": {},
     "output_type": "execute_result"
    }
   ],
   "source": [
    "data\n",
    "# we have to define the space how it was stores for better precision and speed\n",
    "# how much detail that a number conisist of\n"
   ]
  },
  {
   "cell_type": "code",
   "execution_count": 389,
   "metadata": {},
   "outputs": [],
   "source": [
    "# datatypes are the one of the three big errord we may fall while developing"
   ]
  },
  {
   "cell_type": "code",
   "execution_count": 390,
   "metadata": {},
   "outputs": [],
   "source": [
    "# device=\"cpu\" by default but we can set to cuda"
   ]
  },
  {
   "cell_type": "code",
   "execution_count": 391,
   "metadata": {},
   "outputs": [],
   "source": [
    "# if one tensor on cpu and another on gpu it will throw the error"
   ]
  },
  {
   "cell_type": "code",
   "execution_count": 392,
   "metadata": {},
   "outputs": [],
   "source": [
    "gd=torch.tensor([2.0,4.0,6.0])"
   ]
  },
  {
   "cell_type": "code",
   "execution_count": 393,
   "metadata": {},
   "outputs": [],
   "source": [
    "# device will tell about the which device we are running on"
   ]
  },
  {
   "cell_type": "code",
   "execution_count": 394,
   "metadata": {},
   "outputs": [],
   "source": [
    "#requires_grad will tell us wether we need to track gradient or not"
   ]
  },
  {
   "cell_type": "code",
   "execution_count": 395,
   "metadata": {},
   "outputs": [],
   "source": [
    "float2=float32.type(torch.float16)"
   ]
  },
  {
   "cell_type": "code",
   "execution_count": 396,
   "metadata": {},
   "outputs": [
    {
     "data": {
      "text/plain": [
       "tensor([3.0000, 2.9004, 5.6016], dtype=torch.float16)"
      ]
     },
     "execution_count": 396,
     "metadata": {},
     "output_type": "execute_result"
    }
   ],
   "source": [
    "float2"
   ]
  },
  {
   "cell_type": "markdown",
   "metadata": {},
   "source": [
    "# Problems could be expected\n",
    "#### datatypes were not same\n",
    "#### varaibles wee on diffweent device\n",
    "####  different shape"
   ]
  },
  {
   "cell_type": "code",
   "execution_count": null,
   "metadata": {},
   "outputs": [],
   "source": []
  }
 ],
 "metadata": {
  "kernelspec": {
   "display_name": "Python 3 (ipykernel)",
   "language": "python",
   "name": "python3"
  },
  "language_info": {
   "codemirror_mode": {
    "name": "ipython",
    "version": 3
   },
   "file_extension": ".py",
   "mimetype": "text/x-python",
   "name": "python",
   "nbconvert_exporter": "python",
   "pygments_lexer": "ipython3",
   "version": "3.12.7"
  }
 },
 "nbformat": 4,
 "nbformat_minor": 4
}
