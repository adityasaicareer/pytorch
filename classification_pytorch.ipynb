{
 "cells": [
  {
   "cell_type": "code",
   "execution_count": null,
   "id": "d6a7365e-8227-4c80-a6a6-fc41018aa19c",
   "metadata": {},
   "outputs": [],
   "source": []
  }
 ],
 "metadata": {
  "kernelspec": {
   "display_name": "",
   "name": ""
  },
  "language_info": {
   "name": ""
  }
 },
 "nbformat": 4,
 "nbformat_minor": 5
}
