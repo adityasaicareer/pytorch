{
 "cells": [
  {
   "cell_type": "code",
   "execution_count": 1,
   "id": "d6a7365e-8227-4c80-a6a6-fc41018aa19c",
   "metadata": {},
   "outputs": [],
   "source": [
    "import torch\n",
    "import torch.nn as nn\n",
    "import pandas as pd\n",
    "import matplotlib.pyplot as plt"
   ]
  },
  {
   "cell_type": "markdown",
   "id": "dad35e5c-f8ab-49fc-9d8c-d0753d304f04",
   "metadata": {},
   "source": [
    "## Classification problems\n",
    "* email spam or not spam(binary classification 0/1)\n",
    "* tumour is malignant or benial\n",
    "* sushisteak/pizza (not a binary classification but multiclass classification)\n",
    "* imagenet is famous dataset\n",
    "* multilabel classification(multiple names for the same image.data"
   ]
  },
  {
   "cell_type": "markdown",
   "id": "e67d6eba-146f-4f00-868e-6f485646e68d",
   "metadata": {},
   "source": [
    "* architecture of neural network classification model\n",
    "* input shape and output shape\n",
    "* saving and loading model\n",
    "* different classification evaluation methids\n",
    "* creating the custom data to view,fit and predict on\n",
    "* harness the power of linearity and non linearity\n",
    "* different classification evaluation methods\n"
   ]
  },
  {
   "cell_type": "code",
   "execution_count": 2,
   "id": "32b7a73e-f19a-4bc1-9c52-63121e6f92dc",
   "metadata": {},
   "outputs": [],
   "source": [
    "## classification inputs and outputs\n",
    "## numberic representation if the images w=224,h=224,c=3\n",
    "## c=color channel rgb"
   ]
  },
  {
   "cell_type": "code",
   "execution_count": 3,
   "id": "d532949b-af7c-425e-bc4e-4db4df99bc32",
   "metadata": {},
   "outputs": [],
   "source": [
    "## the outputs give the predictions between 0 and 1\n"
   ]
  },
  {
   "cell_type": "code",
   "execution_count": 4,
   "id": "b09bf839-f4ca-4415-bb48-fa74860bdec2",
   "metadata": {},
   "outputs": [],
   "source": [
    "## shape=[batch,c,width,height]"
   ]
  },
  {
   "cell_type": "code",
   "execution_count": 5,
   "id": "ffbe7a3a-4071-4cb8-b788-38a4af547add",
   "metadata": {},
   "outputs": [],
   "source": [
    "## 32 is a very commin batch size"
   ]
  },
  {
   "cell_type": "code",
   "execution_count": 6,
   "id": "e920b436-ec95-45e7-a436-4f65feb5c5cb",
   "metadata": {},
   "outputs": [],
   "source": [
    "## Architecture of classification model\n"
   ]
  },
  {
   "cell_type": "code",
   "execution_count": 7,
   "id": "9188a643-987d-4cd4-af46-804904a7392a",
   "metadata": {},
   "outputs": [],
   "source": [
    "# predictions proababitlity"
   ]
  },
  {
   "cell_type": "code",
   "execution_count": 8,
   "id": "48076446-3a99-4c8c-a0ef-a4ddfa2e008d",
   "metadata": {},
   "outputs": [],
   "source": [
    "## we are going to build many of these"
   ]
  },
  {
   "cell_type": "markdown",
   "id": "d839837e-fe5e-458b-9335-14f39ffc8a66",
   "metadata": {},
   "source": [
    "* input layer(in_features)\n",
    "* Hinnden layer(minimum=1,max=unlimited)\n",
    "* resnet architecture will have the 50 layers\n",
    "* output layer one for each class\n",
    "* ReLU hidden layer activation (retified linear function)\n",
    "* loss function(binary cross entropy loss function)\n",
    "* optimizer (SGD,Adam,etc)"
   ]
  },
  {
   "cell_type": "code",
   "execution_count": null,
   "id": "7de48406-f62d-4887-9752-a38ab10b3625",
   "metadata": {},
   "outputs": [],
   "source": []
  }
 ],
 "metadata": {
  "kernelspec": {
   "display_name": "Python 3 (ipykernel)",
   "language": "python",
   "name": "python3"
  },
  "language_info": {
   "codemirror_mode": {
    "name": "ipython",
    "version": 3
   },
   "file_extension": ".py",
   "mimetype": "text/x-python",
   "name": "python",
   "nbconvert_exporter": "python",
   "pygments_lexer": "ipython3",
   "version": "3.12.7"
  }
 },
 "nbformat": 4,
 "nbformat_minor": 5
}
